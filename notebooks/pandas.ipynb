{
 "cells": [
  {
   "cell_type": "code",
   "execution_count": 34,
   "id": "9dbde8ad",
   "metadata": {},
   "outputs": [
    {
     "name": "stdout",
     "output_type": "stream",
     "text": [
      "2.3.1\n"
     ]
    }
   ],
   "source": [
    "import pandas as pd \n",
    "#查看版本\n",
    "print(pd.__version__)"
   ]
  },
  {
   "cell_type": "markdown",
   "id": "6f385ac2",
   "metadata": {},
   "source": [
    "# pandas 由index，keys，values组成\n",
    "## 一个dataframe由不同的series构成\n",
    "Series： 类似于一维数组或列表，是由一组数据以及与之相关的数据标签（索引）构成。Series 可以看作是 DataFrame 中的一列，也可以是单独存在的一维数据结构。Series 可以存储任何数据类型（整数、浮点数、字符串等），并通过标签（索引）来访问元素。\n",
    "\n",
    "DataFrame： 类似于一个二维表格，它是 Pandas 中最重要的数据结构。DataFrame 可以看作是由多个 Series 按列排列构成的表格，它既有行索引也有列索引，因此可以方便地进行行列选择、过滤、合并等操作。"
   ]
  },
  {
   "cell_type": "markdown",
   "id": "613ddce8",
   "metadata": {},
   "source": [
    "# 创建 Series\n",
    "可以使用 pd.Series() 构造函数创建一个 Series 对象，传递一个数据数组（可以是列表、NumPy 数组等）和一个可选的索引数组。\n",
    "\n",
    "`pandas.Series(data=None, index=None, dtype=None, name=None, copy=False, fastpath=False)`\n",
    "\n",
    "参数说明：\n",
    "\n",
    "data：Series 的数据部分，可以是列表、数组、字典、标量值等。如果不提供此参数，则创建一个空的 Series。\n",
    "\n",
    "index：Series 的索引部分，用于对数据进行标记。可以是列表、数组、索引对象等。如果不提供此参数，则创建一个默认的整数索引。\n",
    "\n",
    "dtype：指定 Series 的数据类型。可以是 NumPy 的数据类型，例如 np.int64、np.float64 等。如果不提供此参数，则根据数据自动推断数据类型。\n",
    "\n",
    "name：Series 的名称，用于标识 Series 对象。如果提供了此参数，则创建的 Series 对象将具有指定的名称。\n",
    "\n",
    "copy：是否复制数据。默认为 False，表示不复制数据。如果设置为 True，则复制输入的数据。\n",
    "\n",
    "fastpath：是否启用快速路径。默认为 False。启用快速路径可能会在某些情况下提高性能。"
   ]
  },
  {
   "cell_type": "code",
   "execution_count": 35,
   "id": "638369c1",
   "metadata": {},
   "outputs": [
    {
     "name": "stdout",
     "output_type": "stream",
     "text": [
      "0    1\n",
      "1    2\n",
      "2    3\n",
      "3    4\n",
      "4    5\n",
      "Name: number, dtype: int64\n"
     ]
    }
   ],
   "source": [
    "#创建一个serises对象\n",
    "s = pd.Series([1, 2, 3, 4, 5],name='number')\n",
    "print(s)\n"
   ]
  },
  {
   "cell_type": "markdown",
   "id": "d2c7c5ab",
   "metadata": {},
   "source": [
    "## series可以自定义索引\n",
    "index不一定是数字，也可以是字母等等"
   ]
  },
  {
   "cell_type": "code",
   "execution_count": 36,
   "id": "9362a3f3",
   "metadata": {},
   "outputs": [
    {
     "name": "stdout",
     "output_type": "stream",
     "text": [
      "1    1\n",
      "2    2\n",
      "3    3\n",
      "4    4\n",
      "Name: A, dtype: int64\n"
     ]
    }
   ],
   "source": [
    " #如果你想要显式地设置索引，可以这样做：\n",
    "custom_index = [1, 2, 3, 4]  # 自定义索引\n",
    "series_with_index = pd.Series([1, 2, 3, 4], index=custom_index, name='A')\n",
    "\n",
    "# 显示带有自定义索引的Series对象\n",
    "print(series_with_index)"
   ]
  },
  {
   "cell_type": "markdown",
   "id": "9580e3d8",
   "metadata": {},
   "source": [
    "# 我们也可以使用key：value（类似dict）来创建series"
   ]
  },
  {
   "cell_type": "code",
   "execution_count": 37,
   "id": "2a59b8db",
   "metadata": {},
   "outputs": [
    {
     "name": "stdout",
     "output_type": "stream",
     "text": [
      "string\n",
      "1    Google\n",
      "2    Runoob\n",
      "3      Wiki\n",
      "Name: site, dtype: string\n"
     ]
    }
   ],
   "source": [
    "sites ={1:'Google',2: 'Runoob',3: 'Wiki'}\n",
    "s = pd.Series(sites,dtype=pd.StringDtype(),name='site')\n",
    "print(s.dtype)    \n",
    "print(s)"
   ]
  },
  {
   "cell_type": "markdown",
   "id": "1a6f82a5",
   "metadata": {},
   "source": [
    "## 可以获取sites中的一部分数据，用index来指定"
   ]
  },
  {
   "cell_type": "code",
   "execution_count": 38,
   "id": "a4a85144",
   "metadata": {},
   "outputs": [
    {
     "name": "stdout",
     "output_type": "stream",
     "text": [
      "1    Google\n",
      "2    Runoob\n",
      "Name: site, dtype: object\n"
     ]
    }
   ],
   "source": [
    "sites ={1:'Google',2: 'Runoob',3: 'Wiki'}\n",
    "s = pd.Series(sites,index=(1,2),name='site')\n",
    "print(s)"
   ]
  },
  {
   "cell_type": "markdown",
   "id": "a4dbb187",
   "metadata": {},
   "source": [
    "## add new elements to a series\n",
    "第一种：索引添加，Series[新索引] = 新值\n",
    "\n",
    "第二种：使用 pd.concat() 拼接，s_updated = pd.concat([s, new_elements])"
   ]
  },
  {
   "cell_type": "code",
   "execution_count": 39,
   "id": "8190aa29",
   "metadata": {},
   "outputs": [
    {
     "name": "stdout",
     "output_type": "stream",
     "text": [
      "1    Google\n",
      "2    Runoob\n",
      "3      Wiki\n",
      "4     Baidu\n",
      "Name: site, dtype: object\n",
      "1    Google\n",
      "2    Runoob\n",
      "3      Wiki\n",
      "4     Baidu\n",
      "5     zhihu\n",
      "6      blog\n",
      "Name: site, dtype: object\n"
     ]
    }
   ],
   "source": [
    "sites ={1:'Google',2: 'Runoob',3: 'Wiki'}\n",
    "s = pd.Series(sites,name='site')\n",
    "#第一种方法，索引添加\n",
    "s[4]='Baidu'\n",
    "print(s)\n",
    "#第二种方法，使用pd.concat()拼接\n",
    "new_elements = pd.Series(data=['zhihu','blog'],index=[5,6],name='site')\n",
    "s_updated = pd.concat([s, new_elements])\n",
    "# 显示更新后的Series对象\n",
    "print(s_updated)"
   ]
  },
  {
   "cell_type": "markdown",
   "id": "8b45b631",
   "metadata": {},
   "source": [
    "# Series 方法\n",
    "方法名称\t|功能描述\n",
    "|----|----|\n",
    "index\t|获取 Series 的索引\n",
    "values\t|获取 Series 的数据部分（返回 NumPy 数组）\n",
    "head(n)\t|返回 Series 的前 n 行（默认为 5）\n",
    "tail(n)\t|返回 Series 的后 n 行（默认为 5）\n",
    "dtype\t|返回 Series 中数据的类型\n",
    "shape\t|返回 Series 的形状（行数）\n",
    "describe()\t|返回 Series 的统计描述（如均值、标准差、最小值等）\n",
    "isnull()\t|\t返回一个布尔 Series，表示每个元素是否为 NaN\n",
    "notnull()  |返回一个布尔 Series，表示每个元素是否不是 NaN\n",
    "unique()\t|返回 Series 中的唯一值（去重）\n",
    "value_counts()\t|返回 Series 中每个唯一值的出现次数\n",
    "map(func)\t|将指定函数应用于 Series 中的每个元素\n",
    "apply(func)\t|将指定函数应用于 Series 中的每个元素，常用于自定义操作\n",
    "astype(dtype)\t|将 Series 转换为指定的类型\n",
    "sort_values()\t|对 Series 中的元素进行排序（按值排序）\n",
    "sort_index()\t|对 Series 的索引进行排序\n",
    "dropna()\t|删除 Series 中的缺失值（NaN）\n",
    "fillna(value)\t|填充 Series 中的缺失值（NaN）\n",
    "replace(to_replace, value)\t|替换 Series 中指定的值\n",
    "cumsum()\t|返回 Series 的累计求和\n",
    "cumprod()\t|返回 Series 的累计乘积\n",
    "shift(periods)\t|将 Series 中的元素按指定的步数进行位移\n",
    "rank()\t|返回 Series 中元素的排名\n",
    "corr(other)\t|计算 Series 与另一个 Series 的相关性（皮尔逊相关系数）\n",
    "cov(other)\t|计算 Series 与另一个 Series 的协方差\n",
    "to_list()\t|将 Series 转换为 Python 列表\n",
    "to_frame()\t|将 Series 转换为 DataFrame\n",
    "iloc[]\t|通过位置索引来选择数据\n",
    "loc[]\t|通过标签索引来选择数据"
   ]
  },
  {
   "cell_type": "code",
   "execution_count": 43,
   "id": "e773d20b",
   "metadata": {},
   "outputs": [
    {
     "name": "stdout",
     "output_type": "stream",
     "text": [
      "alphabet\n",
      "RangeIndex(start=1, stop=27, step=1)\n",
      "['a' 'b' 'c' 'd' 'e' 'f' 'g' 'h' 'i' 'j' 'k' 'l' 'm' 'n' 'o' 'p' 'q' 'r'\n",
      " 's' 't' 'u' 'v' 'w' 'x' 'y' 'z']\n",
      "object\n",
      "(26,)\n",
      "1    a\n",
      "2    b\n",
      "3    c\n",
      "4    d\n",
      "5    e\n",
      "Name: alphabet, dtype: object\n",
      "22    v\n",
      "23    w\n",
      "24    x\n",
      "25    y\n",
      "26    z\n",
      "Name: alphabet, dtype: object\n",
      "<bound method Series.unique of 1     a\n",
      "2     b\n",
      "3     c\n",
      "4     d\n",
      "5     e\n",
      "6     f\n",
      "7     g\n",
      "8     h\n",
      "9     i\n",
      "10    j\n",
      "11    k\n",
      "12    l\n",
      "13    m\n",
      "14    n\n",
      "15    o\n",
      "16    p\n",
      "17    q\n",
      "18    r\n",
      "19    s\n",
      "20    t\n",
      "21    u\n",
      "22    v\n",
      "23    w\n",
      "24    x\n",
      "25    y\n",
      "26    z\n",
      "Name: alphabet, dtype: object>\n",
      "alphabet\n",
      "a    1\n",
      "b    1\n",
      "y    1\n",
      "x    1\n",
      "w    1\n",
      "v    1\n",
      "u    1\n",
      "t    1\n",
      "s    1\n",
      "r    1\n",
      "q    1\n",
      "p    1\n",
      "o    1\n",
      "n    1\n",
      "m    1\n",
      "l    1\n",
      "k    1\n",
      "j    1\n",
      "i    1\n",
      "h    1\n",
      "g    1\n",
      "f    1\n",
      "e    1\n",
      "d    1\n",
      "c    1\n",
      "z    1\n",
      "Name: count, dtype: int64\n",
      "26    z\n",
      "25    y\n",
      "24    x\n",
      "23    w\n",
      "22    v\n",
      "21    u\n",
      "20    t\n",
      "19    s\n",
      "18    r\n",
      "17    q\n",
      "16    p\n",
      "15    o\n",
      "14    n\n",
      "13    m\n",
      "12    l\n",
      "11    k\n",
      "10    j\n",
      "9     i\n",
      "8     h\n",
      "7     g\n",
      "6     f\n",
      "5     e\n",
      "4     d\n",
      "3     c\n",
      "2     b\n",
      "1     a\n",
      "Name: alphabet, dtype: object\n",
      "1    a\n",
      "2    b\n",
      "3    c\n",
      "4    d\n",
      "5    e\n",
      "Name: alphabet, dtype: object\n",
      "1    a\n",
      "2    b\n",
      "3    c\n",
      "4    d\n",
      "5    e\n",
      "Name: alphabet, dtype: object\n",
      "['a', 'b', 'c', 'd', 'e', 'f', 'g', 'h', 'i', 'j', 'k', 'l', 'm', 'n', 'o', 'p', 'q', 'r', 's', 't', 'u', 'v', 'w', 'x', 'y', 'z']\n"
     ]
    }
   ],
   "source": [
    "#用于生成字母表\n",
    "import string\n",
    "import pandas as pd\n",
    "# 生成字母表\n",
    "alphabet = list(string.ascii_lowercase)\n",
    "#创建series\n",
    "s = pd.Series(alphabet,index=range(1,len(alphabet)+1),name='alphabet')\n",
    "#获取基本属性\n",
    "print(s.name)  # 输出 Series 的名称\n",
    "print(s.index)  # 输出索引\n",
    "print(s.values)  # 输出 Series 的值\n",
    "print(s.dtype)  # 输出数据类型\n",
    "print(s.shape)  # 输出 Series 的形状\n",
    "# 获取字母表的前5个字母\n",
    "print(s.head(5 ))  # 输出前5个字母\n",
    "# 获取字母表的后5个字母\n",
    "print(s.tail(5))  # 输出后5个字母\n",
    "#返回唯一值\n",
    "print(s.unique)\n",
    "#统计每个唯一值出现的次数\n",
    "print(s.value_counts())  # 输出每个字母出现的次数\n",
    "#按value进行排序\n",
    "print(s.sort_values(ascending=False))  # 按值降序排序\n",
    "#按位置索引选择数据\n",
    "print(s.iloc[0:5])  # 选择前5个字母\n",
    "#按标签索引(自定义索引)选择数据 \n",
    "print(s.loc[1:5])  # 选择索引为1到5的字母\n",
    "#将series转换为列表\n",
    "print(s.tolist())  # 将 Series 转换为列表"
   ]
  },
  {
   "cell_type": "code",
   "execution_count": 44,
   "id": "43381b4b",
   "metadata": {},
   "outputs": [
    {
     "name": "stdout",
     "output_type": "stream",
     "text": [
      "RangeIndex(start=1, stop=27, step=1)\n",
      "[1, 2, 3, 4, 5, 6, 7, 8, 9, 10, 11, 12, 13, 14, 15, 16, 17, 18, 19, 20, 21, 22, 23, 24, 25, 26]\n"
     ]
    }
   ],
   "source": [
    "print(s.index)  # 输出索引\n",
    "print(s.index.to_list())  # 将索引转换为列表"
   ]
  },
  {
   "cell_type": "markdown",
   "id": "8d61db31",
   "metadata": {},
   "source": [
    "# DataFrame 是一个表格型的数据结构，它含有一组有序的列，每列可以是不同的值类型（数值、字符串、布尔型值）。\n",
    "是一个二维表格，可以被看作是一个 Excel 电子表格或 SQL 表  \n",
    "DataFrame 既有行索引也有列索引，它可以被看做由 Series 组成的字典（共同用一个索引）。"
   ]
  },
  {
   "cell_type": "markdown",
   "id": "4d8dd998",
   "metadata": {},
   "source": [
    "## DataFrame 构造方法如下：\n",
    "\n",
    "`pandas.DataFrame(data=None, index=None, columns=None, dtype=None, copy=False)`\n",
    "参数说明：  \n",
    "\n",
    "data：DataFrame 的数据部分，可以是字典、二维数组、Series、DataFrame 或其他可转换为 DataFrame 的对象。如果不提供此参数，则创建一个空的 DataFrame。\n",
    "\n",
    "index：DataFrame 的行索引，用于标识每行数据。可以是列表、数组、索引对象等。如果不提供此参数，则创建一个默认的整数索引。\n",
    "\n",
    "columns：DataFrame 的列索引，用于标识每列数据。可以是列表、数组、索引对象等。如果不提供此参数，则创建一个默认的整数索引。\n",
    "\n",
    "dtype：指定 DataFrame 的数据类型。可以是 NumPy 的数据类型，例如 np.int64、np.float64 等。如果不提供此参数，则根据数据自动推断数据类型。\n",
    "\n",
    "copy：是否复制数据。默认为 False，表示不复制数据。如果设置为 True，则复制输入的数据。"
   ]
  },
  {
   "cell_type": "markdown",
   "id": "2288dcdb",
   "metadata": {},
   "source": [
    "## 从series创建dataframe"
   ]
  },
  {
   "cell_type": "code",
   "execution_count": 72,
   "id": "744ddfcf",
   "metadata": {},
   "outputs": [
    {
     "data": {
      "text/html": [
       "<div>\n",
       "<style scoped>\n",
       "    .dataframe tbody tr th:only-of-type {\n",
       "        vertical-align: middle;\n",
       "    }\n",
       "\n",
       "    .dataframe tbody tr th {\n",
       "        vertical-align: top;\n",
       "    }\n",
       "\n",
       "    .dataframe thead th {\n",
       "        text-align: right;\n",
       "    }\n",
       "</style>\n",
       "<table border=\"1\" class=\"dataframe\">\n",
       "  <thead>\n",
       "    <tr style=\"text-align: right;\">\n",
       "      <th></th>\n",
       "      <th>City</th>\n",
       "      <th>Latitude</th>\n",
       "      <th>Longitude</th>\n",
       "      <th>Country</th>\n",
       "    </tr>\n",
       "  </thead>\n",
       "  <tbody>\n",
       "    <tr>\n",
       "      <th>1</th>\n",
       "      <td>Los Angeles</td>\n",
       "      <td>34.0522</td>\n",
       "      <td>-118.2437</td>\n",
       "      <td>USA</td>\n",
       "    </tr>\n",
       "    <tr>\n",
       "      <th>2</th>\n",
       "      <td>London</td>\n",
       "      <td>51.5074</td>\n",
       "      <td>-0.1278</td>\n",
       "      <td>UK</td>\n",
       "    </tr>\n",
       "    <tr>\n",
       "      <th>3</th>\n",
       "      <td>NaN</td>\n",
       "      <td>NaN</td>\n",
       "      <td>NaN</td>\n",
       "      <td>NaN</td>\n",
       "    </tr>\n",
       "  </tbody>\n",
       "</table>\n",
       "</div>"
      ],
      "text/plain": [
       "          City  Latitude  Longitude Country\n",
       "1  Los Angeles   34.0522  -118.2437     USA\n",
       "2       London   51.5074    -0.1278      UK\n",
       "3          NaN       NaN        NaN     NaN"
      ]
     },
     "metadata": {},
     "output_type": "display_data"
    },
    {
     "data": {
      "text/html": [
       "<div>\n",
       "<style scoped>\n",
       "    .dataframe tbody tr th:only-of-type {\n",
       "        vertical-align: middle;\n",
       "    }\n",
       "\n",
       "    .dataframe tbody tr th {\n",
       "        vertical-align: top;\n",
       "    }\n",
       "\n",
       "    .dataframe thead th {\n",
       "        text-align: right;\n",
       "    }\n",
       "</style>\n",
       "<table border=\"1\" class=\"dataframe\">\n",
       "  <thead>\n",
       "    <tr style=\"text-align: right;\">\n",
       "      <th></th>\n",
       "      <th>City</th>\n",
       "      <th>Latitude</th>\n",
       "      <th>Longitude</th>\n",
       "      <th>Country</th>\n",
       "    </tr>\n",
       "  </thead>\n",
       "  <tbody>\n",
       "    <tr>\n",
       "      <th>0</th>\n",
       "      <td>Tokyo</td>\n",
       "      <td>35.6895</td>\n",
       "      <td>139.6917</td>\n",
       "      <td>Japan</td>\n",
       "    </tr>\n",
       "    <tr>\n",
       "      <th>1</th>\n",
       "      <td>Los Angeles</td>\n",
       "      <td>34.0522</td>\n",
       "      <td>-118.2437</td>\n",
       "      <td>USA</td>\n",
       "    </tr>\n",
       "    <tr>\n",
       "      <th>2</th>\n",
       "      <td>London</td>\n",
       "      <td>51.5074</td>\n",
       "      <td>-0.1278</td>\n",
       "      <td>UK</td>\n",
       "    </tr>\n",
       "  </tbody>\n",
       "</table>\n",
       "</div>"
      ],
      "text/plain": [
       "          City  Latitude  Longitude Country\n",
       "0        Tokyo   35.6895   139.6917   Japan\n",
       "1  Los Angeles   34.0522  -118.2437     USA\n",
       "2       London   51.5074    -0.1278      UK"
      ]
     },
     "metadata": {},
     "output_type": "display_data"
    }
   ],
   "source": [
    "citys = pd.Series(['Tokyo', 'Los Angeles', 'London'],name='City')\n",
    "latitudes = pd.Series([35.6895, 34.0522, 51.5074], name='Latitude')\n",
    "longitudes = pd.Series([139.6917, -118.2437, -0.1278], name='Longitude')\n",
    "countries = pd.Series(['Japan', 'USA', 'UK'], name='Country')   \n",
    "# 创建 DataFrame\n",
    "# 方法1：用字典传入，键为列名（直接用Series的name）\n",
    "df = pd.DataFrame({\n",
    "    citys.name: citys,       # 列名=City，值=citys这个Series\n",
    "    latitudes.name: latitudes,\n",
    "    longitudes.name: longitudes,\n",
    "    countries.name: countries\n",
    "},index=range(1, len(citys) + 1))  # 设置行索引为1,2,3...\n",
    "display(df)\n",
    "#方法2：用concat拼接多个Series（axis=1表示按列拼）\n",
    "df = pd.concat(\n",
    "    [citys, latitudes, longitudes, countries],  # 所有Series的列表\n",
    "    axis=1  # 关键：按列拼接（默认axis=0是按行拼，会出错）\n",
    ")\n",
    "\n",
    "display(df)"
   ]
  },
  {
   "cell_type": "markdown",
   "id": "96acec53",
   "metadata": {},
   "source": [
    "## 从dict创建dataframe"
   ]
  },
  {
   "cell_type": "code",
   "execution_count": 73,
   "id": "56c67943",
   "metadata": {},
   "outputs": [
    {
     "name": "stdout",
     "output_type": "stream",
     "text": [
      "dict_keys(['City', 'Latitude', 'Longitude', 'Country'])\n"
     ]
    }
   ],
   "source": [
    "#构建data字典\n",
    "data = {\n",
    "\"City\": [\"Tokyo\", \"Los Angeles\", \"London\"],\n",
    "\"Latitude\": [35.6895, 34.0522, 51.5074],\n",
    "\"Longitude\": [139.6917, -118.2437, -0.1278],\n",
    "\"Country\": [\"Japan\", \"USA\", \"UK\"],\n",
    "}\n",
    "print(data.keys())  # 输出字典的键"
   ]
  },
  {
   "cell_type": "code",
   "execution_count": 74,
   "id": "dac87ef3",
   "metadata": {},
   "outputs": [
    {
     "data": {
      "text/html": [
       "<div>\n",
       "<style scoped>\n",
       "    .dataframe tbody tr th:only-of-type {\n",
       "        vertical-align: middle;\n",
       "    }\n",
       "\n",
       "    .dataframe tbody tr th {\n",
       "        vertical-align: top;\n",
       "    }\n",
       "\n",
       "    .dataframe thead th {\n",
       "        text-align: right;\n",
       "    }\n",
       "</style>\n",
       "<table border=\"1\" class=\"dataframe\">\n",
       "  <thead>\n",
       "    <tr style=\"text-align: right;\">\n",
       "      <th></th>\n",
       "      <th>City</th>\n",
       "      <th>Latitude</th>\n",
       "      <th>Longitude</th>\n",
       "      <th>Country</th>\n",
       "    </tr>\n",
       "  </thead>\n",
       "  <tbody>\n",
       "    <tr>\n",
       "      <th>1</th>\n",
       "      <td>Tokyo</td>\n",
       "      <td>35.6895</td>\n",
       "      <td>139.6917</td>\n",
       "      <td>Japan</td>\n",
       "    </tr>\n",
       "    <tr>\n",
       "      <th>2</th>\n",
       "      <td>Los Angeles</td>\n",
       "      <td>34.0522</td>\n",
       "      <td>-118.2437</td>\n",
       "      <td>USA</td>\n",
       "    </tr>\n",
       "    <tr>\n",
       "      <th>3</th>\n",
       "      <td>London</td>\n",
       "      <td>51.5074</td>\n",
       "      <td>-0.1278</td>\n",
       "      <td>UK</td>\n",
       "    </tr>\n",
       "  </tbody>\n",
       "</table>\n",
       "</div>"
      ],
      "text/plain": [
       "          City  Latitude  Longitude Country\n",
       "1        Tokyo   35.6895   139.6917   Japan\n",
       "2  Los Angeles   34.0522  -118.2437     USA\n",
       "3       London   51.5074    -0.1278      UK"
      ]
     },
     "metadata": {},
     "output_type": "display_data"
    }
   ],
   "source": [
    "#构建dataframe\n",
    "df = pd.DataFrame(data,index=range(1,len(data[next(iter(data.keys()))])+1))\n",
    "display(df)"
   ]
  },
  {
   "cell_type": "markdown",
   "id": "f0b022a7",
   "metadata": {},
   "source": [
    "## 从list创建   "
   ]
  },
  {
   "cell_type": "code",
   "execution_count": null,
   "id": "c6b3e930",
   "metadata": {},
   "outputs": [
    {
     "data": {
      "text/html": [
       "<div>\n",
       "<style scoped>\n",
       "    .dataframe tbody tr th:only-of-type {\n",
       "        vertical-align: middle;\n",
       "    }\n",
       "\n",
       "    .dataframe tbody tr th {\n",
       "        vertical-align: top;\n",
       "    }\n",
       "\n",
       "    .dataframe thead th {\n",
       "        text-align: right;\n",
       "    }\n",
       "</style>\n",
       "<table border=\"1\" class=\"dataframe\">\n",
       "  <thead>\n",
       "    <tr style=\"text-align: right;\">\n",
       "      <th></th>\n",
       "      <th>Site</th>\n",
       "      <th>Age</th>\n",
       "    </tr>\n",
       "  </thead>\n",
       "  <tbody>\n",
       "    <tr>\n",
       "      <th>1</th>\n",
       "      <td>Google</td>\n",
       "      <td>10.0</td>\n",
       "    </tr>\n",
       "    <tr>\n",
       "      <th>2</th>\n",
       "      <td>Runoob</td>\n",
       "      <td>12.0</td>\n",
       "    </tr>\n",
       "    <tr>\n",
       "      <th>3</th>\n",
       "      <td>Wiki</td>\n",
       "      <td>13.0</td>\n",
       "    </tr>\n",
       "  </tbody>\n",
       "</table>\n",
       "</div>"
      ],
      "text/plain": [
       "     Site   Age\n",
       "1  Google  10.0\n",
       "2  Runoob  12.0\n",
       "3    Wiki  13.0"
      ]
     },
     "metadata": {},
     "output_type": "display_data"
    }
   ],
   "source": [
    "import pandas as pd\n",
    "\n",
    "data = [\n",
    "        ['Google', 10], \n",
    "        ['Runoob', 12], \n",
    "        ['Wiki', 13]\n",
    "        ]\n",
    "\n",
    "# 创建DataFrame\n",
    "df = pd.DataFrame(data, columns=['Site', 'Age'],index=range(1, len(data) + 1))\n",
    "\n",
    "# 使用astype方法设置每列的数据类型\n",
    "df['Site'] = df['Site'].astype(str)\n",
    "df['Age'] = df['Age'].astype(float)\n",
    "\n",
    "display(df)"
   ]
  },
  {
   "cell_type": "markdown",
   "id": "5c0b6e0a",
   "metadata": {},
   "source": [
    "# 从ndarray创建"
   ]
  },
  {
   "cell_type": "code",
   "execution_count": 78,
   "id": "4f3bd386",
   "metadata": {},
   "outputs": [
    {
     "name": "stdout",
     "output_type": "stream",
     "text": [
      "     Site Age\n",
      "0  Google  10\n",
      "1  Runoob  12\n",
      "2    Wiki  13\n"
     ]
    }
   ],
   "source": [
    "import numpy as np\n",
    "import pandas as pd\n",
    "\n",
    "# 创建一个包含网站和年龄的二维ndarray\n",
    "ndarray_data = np.array([\n",
    "    ['Google', 10],\n",
    "    ['Runoob', 12],\n",
    "    ['Wiki', 13]\n",
    "])\n",
    "\n",
    "# 使用DataFrame构造函数创建数据帧\n",
    "df = pd.DataFrame(ndarray_data, columns=['Site', 'Age'])\n",
    "\n",
    "# 打印数据帧\n",
    "print(df)"
   ]
  },
  {
   "cell_type": "markdown",
   "id": "3840611c",
   "metadata": {},
   "source": [
    "# 多字典（list嵌套dict）创建，便于添加新元素"
   ]
  },
  {
   "cell_type": "code",
   "execution_count": 139,
   "id": "818443d3",
   "metadata": {},
   "outputs": [
    {
     "name": "stdout",
     "output_type": "stream",
     "text": [
      "   a   b     c\n",
      "0  1   2   NaN\n",
      "1  5  10  20.0\n"
     ]
    }
   ],
   "source": [
    "import pandas as pd\n",
    "\n",
    "data = [{'a': 1, 'b': 2},{'a': 5, 'b': 10, 'c': 20}]\n",
    "\n",
    "df = pd.DataFrame(data)\n",
    "\n",
    "print (df)"
   ]
  },
  {
   "cell_type": "markdown",
   "id": "6b4e7ac3",
   "metadata": {},
   "source": [
    "# 添加新数据"
   ]
  },
  {
   "cell_type": "markdown",
   "id": "8805b8c6",
   "metadata": {},
   "source": [
    "使用loc[len(df)]添加"
   ]
  },
  {
   "cell_type": "code",
   "execution_count": 141,
   "id": "68882d7e",
   "metadata": {},
   "outputs": [
    {
     "data": {
      "text/html": [
       "<div>\n",
       "<style scoped>\n",
       "    .dataframe tbody tr th:only-of-type {\n",
       "        vertical-align: middle;\n",
       "    }\n",
       "\n",
       "    .dataframe tbody tr th {\n",
       "        vertical-align: top;\n",
       "    }\n",
       "\n",
       "    .dataframe thead th {\n",
       "        text-align: right;\n",
       "    }\n",
       "</style>\n",
       "<table border=\"1\" class=\"dataframe\">\n",
       "  <thead>\n",
       "    <tr style=\"text-align: right;\">\n",
       "      <th></th>\n",
       "      <th>a</th>\n",
       "      <th>b</th>\n",
       "      <th>c</th>\n",
       "    </tr>\n",
       "  </thead>\n",
       "  <tbody>\n",
       "    <tr>\n",
       "      <th>0</th>\n",
       "      <td>1</td>\n",
       "      <td>2</td>\n",
       "      <td>NaN</td>\n",
       "    </tr>\n",
       "    <tr>\n",
       "      <th>1</th>\n",
       "      <td>5</td>\n",
       "      <td>10</td>\n",
       "      <td>20.0</td>\n",
       "    </tr>\n",
       "    <tr>\n",
       "      <th>2</th>\n",
       "      <td>10</td>\n",
       "      <td>9</td>\n",
       "      <td>NaN</td>\n",
       "    </tr>\n",
       "    <tr>\n",
       "      <th>3</th>\n",
       "      <td>10</td>\n",
       "      <td>9</td>\n",
       "      <td>NaN</td>\n",
       "    </tr>\n",
       "  </tbody>\n",
       "</table>\n",
       "</div>"
      ],
      "text/plain": [
       "    a   b     c\n",
       "0   1   2   NaN\n",
       "1   5  10  20.0\n",
       "2  10   9   NaN\n",
       "3  10   9   NaN"
      ]
     },
     "metadata": {},
     "output_type": "display_data"
    },
    {
     "name": "stdout",
     "output_type": "stream",
     "text": [
      "a    10.0\n",
      "b     9.0\n",
      "c     NaN\n",
      "Name: 2, dtype: float64\n"
     ]
    }
   ],
   "source": [
    "new_elements = { 'a': 10,'b':9,'d': 30}\n",
    "df.loc[len(df)] = new_elements  # 使用 loc 添加新行\n",
    "display(df)\n",
    "print(df.loc[2])  # 使用 loc 访问新添加的行"
   ]
  },
  {
   "cell_type": "markdown",
   "id": "12037c52",
   "metadata": {},
   "source": [
    "使用pd.concat添加"
   ]
  },
  {
   "cell_type": "code",
   "execution_count": 142,
   "id": "377d2a46",
   "metadata": {},
   "outputs": [
    {
     "data": {
      "text/html": [
       "<div>\n",
       "<style scoped>\n",
       "    .dataframe tbody tr th:only-of-type {\n",
       "        vertical-align: middle;\n",
       "    }\n",
       "\n",
       "    .dataframe tbody tr th {\n",
       "        vertical-align: top;\n",
       "    }\n",
       "\n",
       "    .dataframe thead th {\n",
       "        text-align: right;\n",
       "    }\n",
       "</style>\n",
       "<table border=\"1\" class=\"dataframe\">\n",
       "  <thead>\n",
       "    <tr style=\"text-align: right;\">\n",
       "      <th></th>\n",
       "      <th>a</th>\n",
       "      <th>b</th>\n",
       "      <th>c</th>\n",
       "    </tr>\n",
       "  </thead>\n",
       "  <tbody>\n",
       "    <tr>\n",
       "      <th>0</th>\n",
       "      <td>1</td>\n",
       "      <td>2.0</td>\n",
       "      <td>NaN</td>\n",
       "    </tr>\n",
       "    <tr>\n",
       "      <th>1</th>\n",
       "      <td>5</td>\n",
       "      <td>10.0</td>\n",
       "      <td>20.0</td>\n",
       "    </tr>\n",
       "    <tr>\n",
       "      <th>2</th>\n",
       "      <td>10</td>\n",
       "      <td>9.0</td>\n",
       "      <td>NaN</td>\n",
       "    </tr>\n",
       "    <tr>\n",
       "      <th>3</th>\n",
       "      <td>10</td>\n",
       "      <td>9.0</td>\n",
       "      <td>NaN</td>\n",
       "    </tr>\n",
       "    <tr>\n",
       "      <th>4</th>\n",
       "      <td>8</td>\n",
       "      <td>NaN</td>\n",
       "      <td>7.0</td>\n",
       "    </tr>\n",
       "  </tbody>\n",
       "</table>\n",
       "</div>"
      ],
      "text/plain": [
       "    a     b     c\n",
       "0   1   2.0   NaN\n",
       "1   5  10.0  20.0\n",
       "2  10   9.0   NaN\n",
       "3  10   9.0   NaN\n",
       "4   8   NaN   7.0"
      ]
     },
     "metadata": {},
     "output_type": "display_data"
    }
   ],
   "source": [
    "#定义一个新的df\n",
    "NEW_ELEMENTS =[{'a':8,'c':7}]\n",
    "new_df = pd.DataFrame(NEW_ELEMENTS)\n",
    "df = pd.concat([df,new_df],ignore_index=True  )\n",
    "display(df)"
   ]
  },
  {
   "cell_type": "markdown",
   "id": "52c05b84",
   "metadata": {},
   "source": [
    "# DataFrame 方法\n",
    "DataFrame 的常用操作和方法如下表所示：\n",
    "\n",
    "方法名称\t|功能描述\n",
    "|----|----|\n",
    "head(n)\t|返回 DataFrame 的前 n 行数据（默认前 5 行）\n",
    "tail(n)\t|返回 DataFrame 的后 n 行数据（默认后 5 行）\n",
    "info()\t|显示 DataFrame 的简要信息，包括列名、数据类型、非空值数量等\n",
    "describe()|\t返回 DataFrame 数值列的统计信息，如均值、标准差、最小值等\n",
    "shape\t|返回 DataFrame 的行数和列数（行数, 列数）\n",
    "columns\t|返回 DataFrame 的所有列名\n",
    "index\t|返回 DataFrame 的行索引\n",
    "dtypes\t|返回每一列的数值数据类型\n",
    "sort_values(by)\t|按照指定列排序\n",
    "sort_index()\t|按行索引排序\n",
    "dropna()\t|删除含有缺失值（NaN）的行或列\n",
    "fillna(value)\t|用指定的值填充缺失值\n",
    "isnull()\t|判断缺失值，返回一个布尔值 DataFrame\n",
    "notnull()\t|判断非缺失值，返回一个布尔值 DataFrame\n",
    "loc[]\t|按标签索引选择数据\n",
    "iloc[]\t|按位置索引选择数据\n",
    "at[]\t|访问 DataFrame 中单个元素（比 loc[] 更高效）\n",
    "iat[]\t|访问 DataFrame 中单个元素（比 iloc[] 更高效）\n",
    "apply(func)\t|对 DataFrame 或 Series 应用一个函数\n",
    "applymap(func)\t|对 DataFrame 的每个元素应用函数（仅对 DataFrame）\n",
    "groupby(by)\t|分组操作，用于按某一列分组进行汇总统计\n",
    "pivot_table()\t|创建透视表\n",
    "merge()\t|合并多个 DataFrame（类似 SQL 的 JOIN 操作）\n",
    "concat()|\t按行或按列连接多个 DataFrame\n",
    "to_csv()|\t将 DataFrame 导出为 CSV 文件\n",
    "to_excel()\t|将 DataFrame 导出为 Excel 文件\n",
    "to_json()\t|将 DataFrame 导出为 JSON 格式\n",
    "to_sql()\t|将 DataFrame 导出为 SQL 数据库\n",
    "query()\t|使用 SQL 风格的语法查询 DataFrame\n",
    "duplicated()|\t返回布尔值 DataFrame，指示每行是否是重复的\n",
    "drop_duplicates()|\t删除重复的行\n",
    "set_index()\t|设置 DataFrame 的索引\n",
    "reset_index()\t|重置 DataFrame 的索引\n",
    "transpose()\t|转置 DataFrame（行列交换）"
   ]
  },
  {
   "cell_type": "code",
   "execution_count": 144,
   "id": "c7310a7e",
   "metadata": {},
   "outputs": [],
   "source": [
    "#构建data字典\n",
    "data = {\n",
    "\"City\": [\"Tokyo\", \"Los Angeles\", \"London\"],\n",
    "\"Latitude\": [35.6895, 34.0522, 51.5074],\n",
    "\"Longitude\": [139.6917, -118.2437, -0.1278],\n",
    "\"Country\": [\"Japan\", \"USA\", \"UK\"],\n",
    "}"
   ]
  },
  {
   "cell_type": "code",
   "execution_count": 145,
   "id": "54af73e4",
   "metadata": {},
   "outputs": [
    {
     "data": {
      "text/html": [
       "<div>\n",
       "<style scoped>\n",
       "    .dataframe tbody tr th:only-of-type {\n",
       "        vertical-align: middle;\n",
       "    }\n",
       "\n",
       "    .dataframe tbody tr th {\n",
       "        vertical-align: top;\n",
       "    }\n",
       "\n",
       "    .dataframe thead th {\n",
       "        text-align: right;\n",
       "    }\n",
       "</style>\n",
       "<table border=\"1\" class=\"dataframe\">\n",
       "  <thead>\n",
       "    <tr style=\"text-align: right;\">\n",
       "      <th></th>\n",
       "      <th>City</th>\n",
       "      <th>Latitude</th>\n",
       "      <th>Longitude</th>\n",
       "      <th>Country</th>\n",
       "    </tr>\n",
       "  </thead>\n",
       "  <tbody>\n",
       "    <tr>\n",
       "      <th>1</th>\n",
       "      <td>Tokyo</td>\n",
       "      <td>35.6895</td>\n",
       "      <td>139.6917</td>\n",
       "      <td>Japan</td>\n",
       "    </tr>\n",
       "    <tr>\n",
       "      <th>2</th>\n",
       "      <td>Los Angeles</td>\n",
       "      <td>34.0522</td>\n",
       "      <td>-118.2437</td>\n",
       "      <td>USA</td>\n",
       "    </tr>\n",
       "    <tr>\n",
       "      <th>3</th>\n",
       "      <td>London</td>\n",
       "      <td>51.5074</td>\n",
       "      <td>-0.1278</td>\n",
       "      <td>UK</td>\n",
       "    </tr>\n",
       "  </tbody>\n",
       "</table>\n",
       "</div>"
      ],
      "text/plain": [
       "          City  Latitude  Longitude Country\n",
       "1        Tokyo   35.6895   139.6917   Japan\n",
       "2  Los Angeles   34.0522  -118.2437     USA\n",
       "3       London   51.5074    -0.1278      UK"
      ]
     },
     "metadata": {},
     "output_type": "display_data"
    }
   ],
   "source": [
    "#构建dataframe\n",
    "df = pd.DataFrame(data,index=range(1,len(data[next(iter(data.keys()))])+1))\n",
    "display(df)"
   ]
  },
  {
   "cell_type": "code",
   "execution_count": 146,
   "id": "8158adbf",
   "metadata": {},
   "outputs": [
    {
     "name": "stdout",
     "output_type": "stream",
     "text": [
      "<class 'pandas.core.frame.DataFrame'>\n",
      "RangeIndex: 3 entries, 1 to 3\n",
      "Data columns (total 4 columns):\n",
      " #   Column     Non-Null Count  Dtype  \n",
      "---  ------     --------------  -----  \n",
      " 0   City       3 non-null      object \n",
      " 1   Latitude   3 non-null      float64\n",
      " 2   Longitude  3 non-null      float64\n",
      " 3   Country    3 non-null      object \n",
      "dtypes: float64(2), object(2)\n",
      "memory usage: 228.0+ bytes\n"
     ]
    }
   ],
   "source": [
    "df.info()  # 直接输出DataFrame的信息"
   ]
  },
  {
   "cell_type": "code",
   "execution_count": 147,
   "id": "ce725ebd",
   "metadata": {},
   "outputs": [
    {
     "name": "stdout",
     "output_type": "stream",
     "text": [
      "RangeIndex(start=1, stop=4, step=1) \n",
      " Index(['City', 'Latitude', 'Longitude', 'Country'], dtype='object')\n"
     ]
    }
   ],
   "source": [
    "print(\n",
    "    df.index, '\\n' ,# 输出索引\n",
    "    df.columns # 输出列名\n",
    ")"
   ]
  },
  {
   "cell_type": "code",
   "execution_count": 148,
   "id": "60577c13",
   "metadata": {},
   "outputs": [
    {
     "name": "stdout",
     "output_type": "stream",
     "text": [
      "          City  Latitude  Longitude Country\n",
      "2  Los Angeles   34.0522  -118.2437     USA\n",
      "1        Tokyo   35.6895   139.6917   Japan\n",
      "3       London   51.5074    -0.1278      UK\n"
     ]
    }
   ],
   "source": [
    "print(df.sort_values(by='Latitude', ascending=True))  # 按照纬度升序排序"
   ]
  },
  {
   "cell_type": "code",
   "execution_count": null,
   "id": "8269efd4",
   "metadata": {},
   "outputs": [],
   "source": []
  }
 ],
 "metadata": {
  "kernelspec": {
   "display_name": "geo",
   "language": "python",
   "name": "python3"
  },
  "language_info": {
   "codemirror_mode": {
    "name": "ipython",
    "version": 3
   },
   "file_extension": ".py",
   "mimetype": "text/x-python",
   "name": "python",
   "nbconvert_exporter": "python",
   "pygments_lexer": "ipython3",
   "version": "3.12.3"
  }
 },
 "nbformat": 4,
 "nbformat_minor": 5
}
