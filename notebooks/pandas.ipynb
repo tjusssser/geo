{
 "cells": [
  {
   "cell_type": "code",
   "execution_count": 34,
   "id": "9dbde8ad",
   "metadata": {},
   "outputs": [
    {
     "name": "stdout",
     "output_type": "stream",
     "text": [
      "2.3.1\n"
     ]
    }
   ],
   "source": [
    "import pandas as pd \n",
    "#查看版本\n",
    "print(pd.__version__)"
   ]
  },
  {
   "cell_type": "markdown",
   "id": "6f385ac2",
   "metadata": {},
   "source": [
    "# pandas 由index，keys，values组成\n",
    "## 一个dataframe由不同的series构成\n",
    "Series： 类似于一维数组或列表，是由一组数据以及与之相关的数据标签（索引）构成。Series 可以看作是 DataFrame 中的一列，也可以是单独存在的一维数据结构。Series 可以存储任何数据类型（整数、浮点数、字符串等），并通过标签（索引）来访问元素。\n",
    "\n",
    "DataFrame： 类似于一个二维表格，它是 Pandas 中最重要的数据结构。DataFrame 可以看作是由多个 Series 按列排列构成的表格，它既有行索引也有列索引，因此可以方便地进行行列选择、过滤、合并等操作。"
   ]
  },
  {
   "cell_type": "markdown",
   "id": "613ddce8",
   "metadata": {},
   "source": [
    "# 创建 Series\n",
    "可以使用 pd.Series() 构造函数创建一个 Series 对象，传递一个数据数组（可以是列表、NumPy 数组等）和一个可选的索引数组。\n",
    "\n",
    "`pandas.Series(data=None, index=None, dtype=None, name=None, copy=False, fastpath=False)`\n",
    "\n",
    "参数说明：\n",
    "\n",
    "data：Series 的数据部分，可以是列表、数组、字典、标量值等。如果不提供此参数，则创建一个空的 Series。\n",
    "\n",
    "index：Series 的索引部分，用于对数据进行标记。可以是列表、数组、索引对象等。如果不提供此参数，则创建一个默认的整数索引。\n",
    "\n",
    "dtype：指定 Series 的数据类型。可以是 NumPy 的数据类型，例如 np.int64、np.float64 等。如果不提供此参数，则根据数据自动推断数据类型。\n",
    "\n",
    "name：Series 的名称，用于标识 Series 对象。如果提供了此参数，则创建的 Series 对象将具有指定的名称。\n",
    "\n",
    "copy：是否复制数据。默认为 False，表示不复制数据。如果设置为 True，则复制输入的数据。\n",
    "\n",
    "fastpath：是否启用快速路径。默认为 False。启用快速路径可能会在某些情况下提高性能。"
   ]
  },
  {
   "cell_type": "code",
   "execution_count": 35,
   "id": "638369c1",
   "metadata": {},
   "outputs": [
    {
     "name": "stdout",
     "output_type": "stream",
     "text": [
      "0    1\n",
      "1    2\n",
      "2    3\n",
      "3    4\n",
      "4    5\n",
      "Name: number, dtype: int64\n"
     ]
    }
   ],
   "source": [
    "#创建一个serises对象\n",
    "s = pd.Series([1, 2, 3, 4, 5],name='number')\n",
    "print(s)\n"
   ]
  },
  {
   "cell_type": "markdown",
   "id": "d2c7c5ab",
   "metadata": {},
   "source": [
    "## series可以自定义索引\n",
    "index不一定是数字，也可以是字母等等"
   ]
  },
  {
   "cell_type": "code",
   "execution_count": 36,
   "id": "9362a3f3",
   "metadata": {},
   "outputs": [
    {
     "name": "stdout",
     "output_type": "stream",
     "text": [
      "1    1\n",
      "2    2\n",
      "3    3\n",
      "4    4\n",
      "Name: A, dtype: int64\n"
     ]
    }
   ],
   "source": [
    " #如果你想要显式地设置索引，可以这样做：\n",
    "custom_index = [1, 2, 3, 4]  # 自定义索引\n",
    "series_with_index = pd.Series([1, 2, 3, 4], index=custom_index, name='A')\n",
    "\n",
    "# 显示带有自定义索引的Series对象\n",
    "print(series_with_index)"
   ]
  },
  {
   "cell_type": "markdown",
   "id": "9580e3d8",
   "metadata": {},
   "source": [
    "# 我们也可以使用key：value（类似dict）来创建series"
   ]
  },
  {
   "cell_type": "code",
   "execution_count": 37,
   "id": "2a59b8db",
   "metadata": {},
   "outputs": [
    {
     "name": "stdout",
     "output_type": "stream",
     "text": [
      "string\n",
      "1    Google\n",
      "2    Runoob\n",
      "3      Wiki\n",
      "Name: site, dtype: string\n"
     ]
    }
   ],
   "source": [
    "sites ={1:'Google',2: 'Runoob',3: 'Wiki'}\n",
    "s = pd.Series(sites,dtype=pd.StringDtype(),name='site')\n",
    "print(s.dtype)    \n",
    "print(s)"
   ]
  },
  {
   "cell_type": "markdown",
   "id": "1a6f82a5",
   "metadata": {},
   "source": [
    "## 可以获取sites中的一部分数据，用index来指定"
   ]
  },
  {
   "cell_type": "code",
   "execution_count": 38,
   "id": "a4a85144",
   "metadata": {},
   "outputs": [
    {
     "name": "stdout",
     "output_type": "stream",
     "text": [
      "1    Google\n",
      "2    Runoob\n",
      "Name: site, dtype: object\n"
     ]
    }
   ],
   "source": [
    "sites ={1:'Google',2: 'Runoob',3: 'Wiki'}\n",
    "s = pd.Series(sites,index=(1,2),name='site')\n",
    "print(s)"
   ]
  },
  {
   "cell_type": "markdown",
   "id": "a4dbb187",
   "metadata": {},
   "source": [
    "## add new elements to a series\n",
    "第一种：索引添加，Series[新索引] = 新值\n",
    "\n",
    "第二种：使用 pd.concat() 拼接，s_updated = pd.concat([s, new_elements])"
   ]
  },
  {
   "cell_type": "code",
   "execution_count": 39,
   "id": "8190aa29",
   "metadata": {},
   "outputs": [
    {
     "name": "stdout",
     "output_type": "stream",
     "text": [
      "1    Google\n",
      "2    Runoob\n",
      "3      Wiki\n",
      "4     Baidu\n",
      "Name: site, dtype: object\n",
      "1    Google\n",
      "2    Runoob\n",
      "3      Wiki\n",
      "4     Baidu\n",
      "5     zhihu\n",
      "6      blog\n",
      "Name: site, dtype: object\n"
     ]
    }
   ],
   "source": [
    "sites ={1:'Google',2: 'Runoob',3: 'Wiki'}\n",
    "s = pd.Series(sites,name='site')\n",
    "#第一种方法，索引添加\n",
    "s[4]='Baidu'\n",
    "print(s)\n",
    "#第二种方法，使用pd.concat()拼接\n",
    "new_elements = pd.Series(data=['zhihu','blog'],index=[5,6],name='site')\n",
    "s_updated = pd.concat([s, new_elements])\n",
    "# 显示更新后的Series对象\n",
    "print(s_updated)"
   ]
  },
  {
   "cell_type": "markdown",
   "id": "8b45b631",
   "metadata": {},
   "source": [
    "# Series 方法\n",
    "方法名称\t|功能描述\n",
    "|----|----|\n",
    "index\t|获取 Series 的索引\n",
    "values\t|获取 Series 的数据部分（返回 NumPy 数组）\n",
    "head(n)\t|返回 Series 的前 n 行（默认为 5）\n",
    "tail(n)\t|返回 Series 的后 n 行（默认为 5）\n",
    "dtype\t|返回 Series 中数据的类型\n",
    "shape\t|返回 Series 的形状（行数）\n",
    "describe()\t|返回 Series 的统计描述（如均值、标准差、最小值等）\n",
    "isnull()\t|\t返回一个布尔 Series，表示每个元素是否为 NaN\n",
    "notnull()  |返回一个布尔 Series，表示每个元素是否不是 NaN\n",
    "unique()\t|返回 Series 中的唯一值（去重）\n",
    "value_counts()\t|返回 Series 中每个唯一值的出现次数\n",
    "map(func)\t|将指定函数应用于 Series 中的每个元素\n",
    "apply(func)\t|将指定函数应用于 Series 中的每个元素，常用于自定义操作\n",
    "astype(dtype)\t|将 Series 转换为指定的类型\n",
    "sort_values()\t|对 Series 中的元素进行排序（按值排序）\n",
    "sort_index()\t|对 Series 的索引进行排序\n",
    "dropna()\t|删除 Series 中的缺失值（NaN）\n",
    "fillna(value)\t|填充 Series 中的缺失值（NaN）\n",
    "replace(to_replace, value)\t|替换 Series 中指定的值\n",
    "cumsum()\t|返回 Series 的累计求和\n",
    "cumprod()\t|返回 Series 的累计乘积\n",
    "shift(periods)\t|将 Series 中的元素按指定的步数进行位移\n",
    "rank()\t|返回 Series 中元素的排名\n",
    "corr(other)\t|计算 Series 与另一个 Series 的相关性（皮尔逊相关系数）\n",
    "cov(other)\t|计算 Series 与另一个 Series 的协方差\n",
    "to_list()\t|将 Series 转换为 Python 列表\n",
    "to_frame()\t|将 Series 转换为 DataFrame\n",
    "iloc[]\t|通过位置索引来选择数据\n",
    "loc[]\t|通过标签索引来选择数据"
   ]
  },
  {
   "cell_type": "code",
   "execution_count": 43,
   "id": "e773d20b",
   "metadata": {},
   "outputs": [
    {
     "name": "stdout",
     "output_type": "stream",
     "text": [
      "alphabet\n",
      "RangeIndex(start=1, stop=27, step=1)\n",
      "['a' 'b' 'c' 'd' 'e' 'f' 'g' 'h' 'i' 'j' 'k' 'l' 'm' 'n' 'o' 'p' 'q' 'r'\n",
      " 's' 't' 'u' 'v' 'w' 'x' 'y' 'z']\n",
      "object\n",
      "(26,)\n",
      "1    a\n",
      "2    b\n",
      "3    c\n",
      "4    d\n",
      "5    e\n",
      "Name: alphabet, dtype: object\n",
      "22    v\n",
      "23    w\n",
      "24    x\n",
      "25    y\n",
      "26    z\n",
      "Name: alphabet, dtype: object\n",
      "<bound method Series.unique of 1     a\n",
      "2     b\n",
      "3     c\n",
      "4     d\n",
      "5     e\n",
      "6     f\n",
      "7     g\n",
      "8     h\n",
      "9     i\n",
      "10    j\n",
      "11    k\n",
      "12    l\n",
      "13    m\n",
      "14    n\n",
      "15    o\n",
      "16    p\n",
      "17    q\n",
      "18    r\n",
      "19    s\n",
      "20    t\n",
      "21    u\n",
      "22    v\n",
      "23    w\n",
      "24    x\n",
      "25    y\n",
      "26    z\n",
      "Name: alphabet, dtype: object>\n",
      "alphabet\n",
      "a    1\n",
      "b    1\n",
      "y    1\n",
      "x    1\n",
      "w    1\n",
      "v    1\n",
      "u    1\n",
      "t    1\n",
      "s    1\n",
      "r    1\n",
      "q    1\n",
      "p    1\n",
      "o    1\n",
      "n    1\n",
      "m    1\n",
      "l    1\n",
      "k    1\n",
      "j    1\n",
      "i    1\n",
      "h    1\n",
      "g    1\n",
      "f    1\n",
      "e    1\n",
      "d    1\n",
      "c    1\n",
      "z    1\n",
      "Name: count, dtype: int64\n",
      "26    z\n",
      "25    y\n",
      "24    x\n",
      "23    w\n",
      "22    v\n",
      "21    u\n",
      "20    t\n",
      "19    s\n",
      "18    r\n",
      "17    q\n",
      "16    p\n",
      "15    o\n",
      "14    n\n",
      "13    m\n",
      "12    l\n",
      "11    k\n",
      "10    j\n",
      "9     i\n",
      "8     h\n",
      "7     g\n",
      "6     f\n",
      "5     e\n",
      "4     d\n",
      "3     c\n",
      "2     b\n",
      "1     a\n",
      "Name: alphabet, dtype: object\n",
      "1    a\n",
      "2    b\n",
      "3    c\n",
      "4    d\n",
      "5    e\n",
      "Name: alphabet, dtype: object\n",
      "1    a\n",
      "2    b\n",
      "3    c\n",
      "4    d\n",
      "5    e\n",
      "Name: alphabet, dtype: object\n",
      "['a', 'b', 'c', 'd', 'e', 'f', 'g', 'h', 'i', 'j', 'k', 'l', 'm', 'n', 'o', 'p', 'q', 'r', 's', 't', 'u', 'v', 'w', 'x', 'y', 'z']\n"
     ]
    }
   ],
   "source": [
    "#用于生成字母表\n",
    "import string\n",
    "import pandas as pd\n",
    "# 生成字母表\n",
    "alphabet = list(string.ascii_lowercase)\n",
    "#创建series\n",
    "s = pd.Series(alphabet,index=range(1,len(alphabet)+1),name='alphabet')\n",
    "#获取基本属性\n",
    "print(s.name)  # 输出 Series 的名称\n",
    "print(s.index)  # 输出索引\n",
    "print(s.values)  # 输出 Series 的值\n",
    "print(s.dtype)  # 输出数据类型\n",
    "print(s.shape)  # 输出 Series 的形状\n",
    "# 获取字母表的前5个字母\n",
    "print(s.head(5 ))  # 输出前5个字母\n",
    "# 获取字母表的后5个字母\n",
    "print(s.tail(5))  # 输出后5个字母\n",
    "#返回唯一值\n",
    "print(s.unique)\n",
    "#统计每个唯一值出现的次数\n",
    "print(s.value_counts())  # 输出每个字母出现的次数\n",
    "#按value进行排序\n",
    "print(s.sort_values(ascending=False))  # 按值降序排序\n",
    "#按位置索引选择数据\n",
    "print(s.iloc[0:5])  # 选择前5个字母\n",
    "#按标签索引(自定义索引)选择数据 \n",
    "print(s.loc[1:5])  # 选择索引为1到5的字母\n",
    "#将series转换为列表\n",
    "print(s.tolist())  # 将 Series 转换为列表"
   ]
  },
  {
   "cell_type": "code",
   "execution_count": 44,
   "id": "43381b4b",
   "metadata": {},
   "outputs": [
    {
     "name": "stdout",
     "output_type": "stream",
     "text": [
      "RangeIndex(start=1, stop=27, step=1)\n",
      "[1, 2, 3, 4, 5, 6, 7, 8, 9, 10, 11, 12, 13, 14, 15, 16, 17, 18, 19, 20, 21, 22, 23, 24, 25, 26]\n"
     ]
    }
   ],
   "source": [
    "print(s.index)  # 输出索引\n",
    "print(s.index.to_list())  # 将索引转换为列表"
   ]
  },
  {
   "cell_type": "markdown",
   "id": "8d61db31",
   "metadata": {},
   "source": [
    "# DataFrame 是一个表格型的数据结构，它含有一组有序的列，每列可以是不同的值类型（数值、字符串、布尔型值）。\n",
    "是一个二维表格，可以被看作是一个 Excel 电子表格或 SQL 表  \n",
    "DataFrame 既有行索引也有列索引，它可以被看做由 Series 组成的字典（共同用一个索引）。"
   ]
  },
  {
   "cell_type": "markdown",
   "id": "4d8dd998",
   "metadata": {},
   "source": [
    "## DataFrame 构造方法如下：\n",
    "\n",
    "`pandas.DataFrame(data=None, index=None, columns=None, dtype=None, copy=False)`\n",
    "参数说明：  \n",
    "\n",
    "data：DataFrame 的数据部分，可以是字典、二维数组、Series、DataFrame 或其他可转换为 DataFrame 的对象。如果不提供此参数，则创建一个空的 DataFrame。\n",
    "\n",
    "index：DataFrame 的行索引，用于标识每行数据。可以是列表、数组、索引对象等。如果不提供此参数，则创建一个默认的整数索引。\n",
    "\n",
    "columns：DataFrame 的列索引，用于标识每列数据。可以是列表、数组、索引对象等。如果不提供此参数，则创建一个默认的整数索引。\n",
    "\n",
    "dtype：指定 DataFrame 的数据类型。可以是 NumPy 的数据类型，例如 np.int64、np.float64 等。如果不提供此参数，则根据数据自动推断数据类型。\n",
    "\n",
    "copy：是否复制数据。默认为 False，表示不复制数据。如果设置为 True，则复制输入的数据。"
   ]
  },
  {
   "cell_type": "markdown",
   "id": "2288dcdb",
   "metadata": {},
   "source": [
    "## 从series创建dataframe"
   ]
  },
  {
   "cell_type": "code",
   "execution_count": 72,
   "id": "744ddfcf",
   "metadata": {},
   "outputs": [
    {
     "data": {
      "text/html": [
       "<div>\n",
       "<style scoped>\n",
       "    .dataframe tbody tr th:only-of-type {\n",
       "        vertical-align: middle;\n",
       "    }\n",
       "\n",
       "    .dataframe tbody tr th {\n",
       "        vertical-align: top;\n",
       "    }\n",
       "\n",
       "    .dataframe thead th {\n",
       "        text-align: right;\n",
       "    }\n",
       "</style>\n",
       "<table border=\"1\" class=\"dataframe\">\n",
       "  <thead>\n",
       "    <tr style=\"text-align: right;\">\n",
       "      <th></th>\n",
       "      <th>City</th>\n",
       "      <th>Latitude</th>\n",
       "      <th>Longitude</th>\n",
       "      <th>Country</th>\n",
       "    </tr>\n",
       "  </thead>\n",
       "  <tbody>\n",
       "    <tr>\n",
       "      <th>1</th>\n",
       "      <td>Los Angeles</td>\n",
       "      <td>34.0522</td>\n",
       "      <td>-118.2437</td>\n",
       "      <td>USA</td>\n",
       "    </tr>\n",
       "    <tr>\n",
       "      <th>2</th>\n",
       "      <td>London</td>\n",
       "      <td>51.5074</td>\n",
       "      <td>-0.1278</td>\n",
       "      <td>UK</td>\n",
       "    </tr>\n",
       "    <tr>\n",
       "      <th>3</th>\n",
       "      <td>NaN</td>\n",
       "      <td>NaN</td>\n",
       "      <td>NaN</td>\n",
       "      <td>NaN</td>\n",
       "    </tr>\n",
       "  </tbody>\n",
       "</table>\n",
       "</div>"
      ],
      "text/plain": [
       "          City  Latitude  Longitude Country\n",
       "1  Los Angeles   34.0522  -118.2437     USA\n",
       "2       London   51.5074    -0.1278      UK\n",
       "3          NaN       NaN        NaN     NaN"
      ]
     },
     "metadata": {},
     "output_type": "display_data"
    },
    {
     "data": {
      "text/html": [
       "<div>\n",
       "<style scoped>\n",
       "    .dataframe tbody tr th:only-of-type {\n",
       "        vertical-align: middle;\n",
       "    }\n",
       "\n",
       "    .dataframe tbody tr th {\n",
       "        vertical-align: top;\n",
       "    }\n",
       "\n",
       "    .dataframe thead th {\n",
       "        text-align: right;\n",
       "    }\n",
       "</style>\n",
       "<table border=\"1\" class=\"dataframe\">\n",
       "  <thead>\n",
       "    <tr style=\"text-align: right;\">\n",
       "      <th></th>\n",
       "      <th>City</th>\n",
       "      <th>Latitude</th>\n",
       "      <th>Longitude</th>\n",
       "      <th>Country</th>\n",
       "    </tr>\n",
       "  </thead>\n",
       "  <tbody>\n",
       "    <tr>\n",
       "      <th>0</th>\n",
       "      <td>Tokyo</td>\n",
       "      <td>35.6895</td>\n",
       "      <td>139.6917</td>\n",
       "      <td>Japan</td>\n",
       "    </tr>\n",
       "    <tr>\n",
       "      <th>1</th>\n",
       "      <td>Los Angeles</td>\n",
       "      <td>34.0522</td>\n",
       "      <td>-118.2437</td>\n",
       "      <td>USA</td>\n",
       "    </tr>\n",
       "    <tr>\n",
       "      <th>2</th>\n",
       "      <td>London</td>\n",
       "      <td>51.5074</td>\n",
       "      <td>-0.1278</td>\n",
       "      <td>UK</td>\n",
       "    </tr>\n",
       "  </tbody>\n",
       "</table>\n",
       "</div>"
      ],
      "text/plain": [
       "          City  Latitude  Longitude Country\n",
       "0        Tokyo   35.6895   139.6917   Japan\n",
       "1  Los Angeles   34.0522  -118.2437     USA\n",
       "2       London   51.5074    -0.1278      UK"
      ]
     },
     "metadata": {},
     "output_type": "display_data"
    }
   ],
   "source": [
    "citys = pd.Series(['Tokyo', 'Los Angeles', 'London'],name='City')\n",
    "latitudes = pd.Series([35.6895, 34.0522, 51.5074], name='Latitude')\n",
    "longitudes = pd.Series([139.6917, -118.2437, -0.1278], name='Longitude')\n",
    "countries = pd.Series(['Japan', 'USA', 'UK'], name='Country')   \n",
    "# 创建 DataFrame\n",
    "# 方法1：用字典传入，键为列名（直接用Series的name）\n",
    "df = pd.DataFrame({\n",
    "    citys.name: citys,       # 列名=City，值=citys这个Series\n",
    "    latitudes.name: latitudes,\n",
    "    longitudes.name: longitudes,\n",
    "    countries.name: countries\n",
    "},index=range(1, len(citys) + 1))  # 设置行索引为1,2,3...\n",
    "display(df)\n",
    "#方法2：用concat拼接多个Series（axis=1表示按列拼）\n",
    "df = pd.concat(\n",
    "    [citys, latitudes, longitudes, countries],  # 所有Series的列表\n",
    "    axis=1  # 关键：按列拼接（默认axis=0是按行拼，会出错）\n",
    ")\n",
    "\n",
    "display(df)"
   ]
  },
  {
   "cell_type": "markdown",
   "id": "96acec53",
   "metadata": {},
   "source": [
    "## 从dict创建dataframe"
   ]
  },
  {
   "cell_type": "code",
   "execution_count": 73,
   "id": "56c67943",
   "metadata": {},
   "outputs": [
    {
     "name": "stdout",
     "output_type": "stream",
     "text": [
      "dict_keys(['City', 'Latitude', 'Longitude', 'Country'])\n"
     ]
    }
   ],
   "source": [
    "#构建data字典\n",
    "data = {\n",
    "\"City\": [\"Tokyo\", \"Los Angeles\", \"London\"],\n",
    "\"Latitude\": [35.6895, 34.0522, 51.5074],\n",
    "\"Longitude\": [139.6917, -118.2437, -0.1278],\n",
    "\"Country\": [\"Japan\", \"USA\", \"UK\"],\n",
    "}\n",
    "print(data.keys())  # 输出字典的键"
   ]
  },
  {
   "cell_type": "code",
   "execution_count": 74,
   "id": "dac87ef3",
   "metadata": {},
   "outputs": [
    {
     "data": {
      "text/html": [
       "<div>\n",
       "<style scoped>\n",
       "    .dataframe tbody tr th:only-of-type {\n",
       "        vertical-align: middle;\n",
       "    }\n",
       "\n",
       "    .dataframe tbody tr th {\n",
       "        vertical-align: top;\n",
       "    }\n",
       "\n",
       "    .dataframe thead th {\n",
       "        text-align: right;\n",
       "    }\n",
       "</style>\n",
       "<table border=\"1\" class=\"dataframe\">\n",
       "  <thead>\n",
       "    <tr style=\"text-align: right;\">\n",
       "      <th></th>\n",
       "      <th>City</th>\n",
       "      <th>Latitude</th>\n",
       "      <th>Longitude</th>\n",
       "      <th>Country</th>\n",
       "    </tr>\n",
       "  </thead>\n",
       "  <tbody>\n",
       "    <tr>\n",
       "      <th>1</th>\n",
       "      <td>Tokyo</td>\n",
       "      <td>35.6895</td>\n",
       "      <td>139.6917</td>\n",
       "      <td>Japan</td>\n",
       "    </tr>\n",
       "    <tr>\n",
       "      <th>2</th>\n",
       "      <td>Los Angeles</td>\n",
       "      <td>34.0522</td>\n",
       "      <td>-118.2437</td>\n",
       "      <td>USA</td>\n",
       "    </tr>\n",
       "    <tr>\n",
       "      <th>3</th>\n",
       "      <td>London</td>\n",
       "      <td>51.5074</td>\n",
       "      <td>-0.1278</td>\n",
       "      <td>UK</td>\n",
       "    </tr>\n",
       "  </tbody>\n",
       "</table>\n",
       "</div>"
      ],
      "text/plain": [
       "          City  Latitude  Longitude Country\n",
       "1        Tokyo   35.6895   139.6917   Japan\n",
       "2  Los Angeles   34.0522  -118.2437     USA\n",
       "3       London   51.5074    -0.1278      UK"
      ]
     },
     "metadata": {},
     "output_type": "display_data"
    }
   ],
   "source": [
    "#构建dataframe\n",
    "df = pd.DataFrame(data,index=range(1,len(data[next(iter(data.keys()))])+1))\n",
    "display(df)"
   ]
  },
  {
   "cell_type": "markdown",
   "id": "f0b022a7",
   "metadata": {},
   "source": [
    "## 从list创建   "
   ]
  },
  {
   "cell_type": "code",
   "execution_count": 77,
   "id": "c6b3e930",
   "metadata": {},
   "outputs": [
    {
     "data": {
      "text/html": [
       "<div>\n",
       "<style scoped>\n",
       "    .dataframe tbody tr th:only-of-type {\n",
       "        vertical-align: middle;\n",
       "    }\n",
       "\n",
       "    .dataframe tbody tr th {\n",
       "        vertical-align: top;\n",
       "    }\n",
       "\n",
       "    .dataframe thead th {\n",
       "        text-align: right;\n",
       "    }\n",
       "</style>\n",
       "<table border=\"1\" class=\"dataframe\">\n",
       "  <thead>\n",
       "    <tr style=\"text-align: right;\">\n",
       "      <th></th>\n",
       "      <th>Site</th>\n",
       "      <th>Age</th>\n",
       "    </tr>\n",
       "  </thead>\n",
       "  <tbody>\n",
       "    <tr>\n",
       "      <th>1</th>\n",
       "      <td>Google</td>\n",
       "      <td>10.0</td>\n",
       "    </tr>\n",
       "    <tr>\n",
       "      <th>2</th>\n",
       "      <td>Runoob</td>\n",
       "      <td>12.0</td>\n",
       "    </tr>\n",
       "    <tr>\n",
       "      <th>3</th>\n",
       "      <td>Wiki</td>\n",
       "      <td>13.0</td>\n",
       "    </tr>\n",
       "  </tbody>\n",
       "</table>\n",
       "</div>"
      ],
      "text/plain": [
       "     Site   Age\n",
       "1  Google  10.0\n",
       "2  Runoob  12.0\n",
       "3    Wiki  13.0"
      ]
     },
     "metadata": {},
     "output_type": "display_data"
    }
   ],
   "source": [
    "import pandas as pd\n",
    "\n",
    "data = [\n",
    "        ['Google', 10], \n",
    "        ['Runoob', 12], \n",
    "        ['Wiki', 13]\n",
    "        ]\n",
    "\n",
    "# 创建DataFrame\n",
    "df = pd.DataFrame(data, columns=['Site', 'Age'],index=range(1, len(data) + 1))\n",
    "\n",
    "# 使用astype方法设置每列的数据类型\n",
    "df['Site'] = df['Site'].astype(str)\n",
    "df['Age'] = df['Age'].astype(float)\n",
    "\n",
    "display(df)"
   ]
  },
  {
   "cell_type": "markdown",
   "id": "5c0b6e0a",
   "metadata": {},
   "source": [
    "# 从ndarray创建"
   ]
  },
  {
   "cell_type": "code",
   "execution_count": 78,
   "id": "4f3bd386",
   "metadata": {},
   "outputs": [
    {
     "name": "stdout",
     "output_type": "stream",
     "text": [
      "     Site Age\n",
      "0  Google  10\n",
      "1  Runoob  12\n",
      "2    Wiki  13\n"
     ]
    }
   ],
   "source": [
    "import numpy as np\n",
    "import pandas as pd\n",
    "\n",
    "# 创建一个包含网站和年龄的二维ndarray\n",
    "ndarray_data = np.array([\n",
    "    ['Google', 10],\n",
    "    ['Runoob', 12],\n",
    "    ['Wiki', 13]\n",
    "])\n",
    "\n",
    "# 使用DataFrame构造函数创建数据帧\n",
    "df = pd.DataFrame(ndarray_data, columns=['Site', 'Age'])\n",
    "\n",
    "# 打印数据帧\n",
    "print(df)"
   ]
  },
  {
   "cell_type": "markdown",
   "id": "3840611c",
   "metadata": {},
   "source": [
    "# 多字典（list嵌套dict）创建，便于添加新元素\n"
   ]
  },
  {
   "cell_type": "code",
   "execution_count": 74,
   "id": "818443d3",
   "metadata": {},
   "outputs": [
    {
     "name": "stdout",
     "output_type": "stream",
     "text": [
      "   a   b     c\n",
      "0  1   2   NaN\n",
      "1  5  10  20.0\n"
     ]
    }
   ],
   "source": [
    "import pandas as pd\n",
    "\n",
    "data = [{'a': 1, 'b': 2},{'a': 5, 'b': 10, 'c': 20}]\n",
    "\n",
    "df = pd.DataFrame(data)\n",
    "\n",
    "print (df)"
   ]
  },
  {
   "cell_type": "markdown",
   "id": "6b4e7ac3",
   "metadata": {},
   "source": [
    "# 添加新数据"
   ]
  },
  {
   "cell_type": "markdown",
   "id": "8805b8c6",
   "metadata": {},
   "source": [
    "使用loc[len(df)]添加新元素，不能添加新的column"
   ]
  },
  {
   "cell_type": "code",
   "execution_count": 75,
   "id": "68882d7e",
   "metadata": {},
   "outputs": [
    {
     "data": {
      "text/html": [
       "<div>\n",
       "<style scoped>\n",
       "    .dataframe tbody tr th:only-of-type {\n",
       "        vertical-align: middle;\n",
       "    }\n",
       "\n",
       "    .dataframe tbody tr th {\n",
       "        vertical-align: top;\n",
       "    }\n",
       "\n",
       "    .dataframe thead th {\n",
       "        text-align: right;\n",
       "    }\n",
       "</style>\n",
       "<table border=\"1\" class=\"dataframe\">\n",
       "  <thead>\n",
       "    <tr style=\"text-align: right;\">\n",
       "      <th></th>\n",
       "      <th>a</th>\n",
       "      <th>b</th>\n",
       "      <th>c</th>\n",
       "    </tr>\n",
       "  </thead>\n",
       "  <tbody>\n",
       "    <tr>\n",
       "      <th>0</th>\n",
       "      <td>1</td>\n",
       "      <td>2</td>\n",
       "      <td>NaN</td>\n",
       "    </tr>\n",
       "    <tr>\n",
       "      <th>1</th>\n",
       "      <td>5</td>\n",
       "      <td>10</td>\n",
       "      <td>20.0</td>\n",
       "    </tr>\n",
       "    <tr>\n",
       "      <th>2</th>\n",
       "      <td>10</td>\n",
       "      <td>9</td>\n",
       "      <td>NaN</td>\n",
       "    </tr>\n",
       "  </tbody>\n",
       "</table>\n",
       "</div>"
      ],
      "text/plain": [
       "    a   b     c\n",
       "0   1   2   NaN\n",
       "1   5  10  20.0\n",
       "2  10   9   NaN"
      ]
     },
     "metadata": {},
     "output_type": "display_data"
    },
    {
     "name": "stdout",
     "output_type": "stream",
     "text": [
      "a    10.0\n",
      "b     9.0\n",
      "c     NaN\n",
      "Name: 2, dtype: float64\n"
     ]
    }
   ],
   "source": [
    "new_elements = { 'a': 10,'b':9,'d': 30}\n",
    "df.loc[len(df)] = new_elements  # 使用 loc 添加新行\n",
    "display(df)\n",
    "print(df.loc[2])  # 使用 loc 访问新添加的行"
   ]
  },
  {
   "cell_type": "markdown",
   "id": "12037c52",
   "metadata": {},
   "source": [
    "使用pd.concat添加新元素，可以添加新的column"
   ]
  },
  {
   "cell_type": "code",
   "execution_count": 76,
   "id": "377d2a46",
   "metadata": {},
   "outputs": [
    {
     "data": {
      "text/html": [
       "<div>\n",
       "<style scoped>\n",
       "    .dataframe tbody tr th:only-of-type {\n",
       "        vertical-align: middle;\n",
       "    }\n",
       "\n",
       "    .dataframe tbody tr th {\n",
       "        vertical-align: top;\n",
       "    }\n",
       "\n",
       "    .dataframe thead th {\n",
       "        text-align: right;\n",
       "    }\n",
       "</style>\n",
       "<table border=\"1\" class=\"dataframe\">\n",
       "  <thead>\n",
       "    <tr style=\"text-align: right;\">\n",
       "      <th></th>\n",
       "      <th>a</th>\n",
       "      <th>b</th>\n",
       "      <th>c</th>\n",
       "      <th>d</th>\n",
       "    </tr>\n",
       "  </thead>\n",
       "  <tbody>\n",
       "    <tr>\n",
       "      <th>0</th>\n",
       "      <td>1</td>\n",
       "      <td>2.0</td>\n",
       "      <td>NaN</td>\n",
       "      <td>NaN</td>\n",
       "    </tr>\n",
       "    <tr>\n",
       "      <th>1</th>\n",
       "      <td>5</td>\n",
       "      <td>10.0</td>\n",
       "      <td>20.0</td>\n",
       "      <td>NaN</td>\n",
       "    </tr>\n",
       "    <tr>\n",
       "      <th>2</th>\n",
       "      <td>10</td>\n",
       "      <td>9.0</td>\n",
       "      <td>NaN</td>\n",
       "      <td>NaN</td>\n",
       "    </tr>\n",
       "    <tr>\n",
       "      <th>3</th>\n",
       "      <td>8</td>\n",
       "      <td>NaN</td>\n",
       "      <td>7.0</td>\n",
       "      <td>90.0</td>\n",
       "    </tr>\n",
       "  </tbody>\n",
       "</table>\n",
       "</div>"
      ],
      "text/plain": [
       "    a     b     c     d\n",
       "0   1   2.0   NaN   NaN\n",
       "1   5  10.0  20.0   NaN\n",
       "2  10   9.0   NaN   NaN\n",
       "3   8   NaN   7.0  90.0"
      ]
     },
     "metadata": {},
     "output_type": "display_data"
    }
   ],
   "source": [
    "#定义一个新的df\n",
    "NEW_ELEMENTS =[{'a':8,'c':7,'d':90}]\n",
    "new_df = pd.DataFrame(NEW_ELEMENTS)\n",
    "df = pd.concat([df,new_df],ignore_index=True  )\n",
    "display(df)"
   ]
  },
  {
   "cell_type": "markdown",
   "id": "25b9f186",
   "metadata": {},
   "source": [
    "### 基于已有的column创建新的column"
   ]
  },
  {
   "cell_type": "code",
   "execution_count": null,
   "id": "09a0382d",
   "metadata": {},
   "outputs": [
    {
     "data": {
      "text/html": [
       "<div>\n",
       "<style scoped>\n",
       "    .dataframe tbody tr th:only-of-type {\n",
       "        vertical-align: middle;\n",
       "    }\n",
       "\n",
       "    .dataframe tbody tr th {\n",
       "        vertical-align: top;\n",
       "    }\n",
       "\n",
       "    .dataframe thead th {\n",
       "        text-align: right;\n",
       "    }\n",
       "</style>\n",
       "<table border=\"1\" class=\"dataframe\">\n",
       "  <thead>\n",
       "    <tr style=\"text-align: right;\">\n",
       "      <th></th>\n",
       "      <th>a</th>\n",
       "      <th>b</th>\n",
       "      <th>c</th>\n",
       "      <th>d</th>\n",
       "      <th>a_rad</th>\n",
       "    </tr>\n",
       "  </thead>\n",
       "  <tbody>\n",
       "    <tr>\n",
       "      <th>0</th>\n",
       "      <td>1</td>\n",
       "      <td>2.0</td>\n",
       "      <td>NaN</td>\n",
       "      <td>NaN</td>\n",
       "      <td>0.017453</td>\n",
       "    </tr>\n",
       "    <tr>\n",
       "      <th>1</th>\n",
       "      <td>5</td>\n",
       "      <td>10.0</td>\n",
       "      <td>20.0</td>\n",
       "      <td>NaN</td>\n",
       "      <td>0.087266</td>\n",
       "    </tr>\n",
       "    <tr>\n",
       "      <th>2</th>\n",
       "      <td>10</td>\n",
       "      <td>9.0</td>\n",
       "      <td>NaN</td>\n",
       "      <td>NaN</td>\n",
       "      <td>0.174533</td>\n",
       "    </tr>\n",
       "    <tr>\n",
       "      <th>3</th>\n",
       "      <td>8</td>\n",
       "      <td>NaN</td>\n",
       "      <td>7.0</td>\n",
       "      <td>90.0</td>\n",
       "      <td>0.139626</td>\n",
       "    </tr>\n",
       "  </tbody>\n",
       "</table>\n",
       "</div>"
      ],
      "text/plain": [
       "    a     b     c     d     a_rad\n",
       "0   1   2.0   NaN   NaN  0.017453\n",
       "1   5  10.0  20.0   NaN  0.087266\n",
       "2  10   9.0   NaN   NaN  0.174533\n",
       "3   8   NaN   7.0  90.0  0.139626"
      ]
     },
     "metadata": {},
     "output_type": "display_data"
    },
    {
     "name": "stdout",
     "output_type": "stream",
     "text": [
      "a          int64\n",
      "b        float64\n",
      "c        float64\n",
      "d        float64\n",
      "a_rad    float64\n",
      "dtype: object\n"
     ]
    }
   ],
   "source": [
    "import numpy as np\n",
    "df['a_rad'] = np.deg2rad(df['a'])\n",
    "display(df)\n",
    "print(df.dtypes)  # 输出每列的数据类型\n",
    "df"
   ]
  },
  {
   "cell_type": "markdown",
   "id": "8cc2130b",
   "metadata": {},
   "source": [
    "### 使用+连接已有列，以创建新的column"
   ]
  },
  {
   "cell_type": "code",
   "execution_count": 129,
   "id": "cdf8082c",
   "metadata": {},
   "outputs": [
    {
     "data": {
      "text/html": [
       "<div>\n",
       "<style scoped>\n",
       "    .dataframe tbody tr th:only-of-type {\n",
       "        vertical-align: middle;\n",
       "    }\n",
       "\n",
       "    .dataframe tbody tr th {\n",
       "        vertical-align: top;\n",
       "    }\n",
       "\n",
       "    .dataframe thead th {\n",
       "        text-align: right;\n",
       "    }\n",
       "</style>\n",
       "<table border=\"1\" class=\"dataframe\">\n",
       "  <thead>\n",
       "    <tr style=\"text-align: right;\">\n",
       "      <th></th>\n",
       "      <th>City</th>\n",
       "      <th>Latitude</th>\n",
       "      <th>Longitude</th>\n",
       "      <th>Country</th>\n",
       "    </tr>\n",
       "  </thead>\n",
       "  <tbody>\n",
       "    <tr>\n",
       "      <th>1</th>\n",
       "      <td>Tokyo</td>\n",
       "      <td>35.6895</td>\n",
       "      <td>139.6917</td>\n",
       "      <td>Japan</td>\n",
       "    </tr>\n",
       "    <tr>\n",
       "      <th>2</th>\n",
       "      <td>Los Angeles</td>\n",
       "      <td>34.0522</td>\n",
       "      <td>-118.2437</td>\n",
       "      <td>USA</td>\n",
       "    </tr>\n",
       "    <tr>\n",
       "      <th>3</th>\n",
       "      <td>London</td>\n",
       "      <td>51.5074</td>\n",
       "      <td>-0.1278</td>\n",
       "      <td>UK</td>\n",
       "    </tr>\n",
       "  </tbody>\n",
       "</table>\n",
       "</div>"
      ],
      "text/plain": [
       "          City  Latitude  Longitude Country\n",
       "1        Tokyo   35.6895   139.6917   Japan\n",
       "2  Los Angeles   34.0522  -118.2437     USA\n",
       "3       London   51.5074    -0.1278      UK"
      ]
     },
     "metadata": {},
     "output_type": "display_data"
    },
    {
     "data": {
      "text/html": [
       "<div>\n",
       "<style scoped>\n",
       "    .dataframe tbody tr th:only-of-type {\n",
       "        vertical-align: middle;\n",
       "    }\n",
       "\n",
       "    .dataframe tbody tr th {\n",
       "        vertical-align: top;\n",
       "    }\n",
       "\n",
       "    .dataframe thead th {\n",
       "        text-align: right;\n",
       "    }\n",
       "</style>\n",
       "<table border=\"1\" class=\"dataframe\">\n",
       "  <thead>\n",
       "    <tr style=\"text-align: right;\">\n",
       "      <th></th>\n",
       "      <th>City</th>\n",
       "      <th>Latitude</th>\n",
       "      <th>Longitude</th>\n",
       "      <th>Country</th>\n",
       "      <th>lat,lon</th>\n",
       "    </tr>\n",
       "  </thead>\n",
       "  <tbody>\n",
       "    <tr>\n",
       "      <th>1</th>\n",
       "      <td>Tokyo</td>\n",
       "      <td>35.6895</td>\n",
       "      <td>139.6917</td>\n",
       "      <td>Japan</td>\n",
       "      <td>35.6895,139.6917</td>\n",
       "    </tr>\n",
       "    <tr>\n",
       "      <th>2</th>\n",
       "      <td>Los Angeles</td>\n",
       "      <td>34.0522</td>\n",
       "      <td>-118.2437</td>\n",
       "      <td>USA</td>\n",
       "      <td>34.0522,-118.2437</td>\n",
       "    </tr>\n",
       "    <tr>\n",
       "      <th>3</th>\n",
       "      <td>London</td>\n",
       "      <td>51.5074</td>\n",
       "      <td>-0.1278</td>\n",
       "      <td>UK</td>\n",
       "      <td>51.5074,-0.1278</td>\n",
       "    </tr>\n",
       "  </tbody>\n",
       "</table>\n",
       "</div>"
      ],
      "text/plain": [
       "          City  Latitude  Longitude Country            lat,lon\n",
       "1        Tokyo   35.6895   139.6917   Japan   35.6895,139.6917\n",
       "2  Los Angeles   34.0522  -118.2437     USA  34.0522,-118.2437\n",
       "3       London   51.5074    -0.1278      UK    51.5074,-0.1278"
      ]
     },
     "metadata": {},
     "output_type": "display_data"
    }
   ],
   "source": [
    "import pandas as pd\n",
    "#构建data字典\n",
    "data = {\n",
    "\"City\": [\"Tokyo\", \"Los Angeles\", \"London\"],\n",
    "\"Latitude\": [35.6895, 34.0522, 51.5074],\n",
    "\"Longitude\": [139.6917, -118.2437, -0.1278],\n",
    "\"Country\": [\"Japan\", \"USA\", \"UK\"],\n",
    "}\n",
    "#构建dataframe\n",
    "df = pd.DataFrame(data,index=range(1,len(data[next(iter(data.keys()))])+1))\n",
    "display(df)\n",
    "##连接lat和long以创建新的column\n",
    "df['lat,lon'] = df['Latitude'].astype(str)+','+df['Longitude'].astype(str)\n",
    "display(df)"
   ]
  },
  {
   "cell_type": "markdown",
   "id": "bb454007",
   "metadata": {},
   "source": [
    "## 修改colunmns的顺序"
   ]
  },
  {
   "cell_type": "code",
   "execution_count": null,
   "id": "645956e1",
   "metadata": {},
   "outputs": [
    {
     "name": "stdout",
     "output_type": "stream",
     "text": [
      "Original columns: ['City', 'Latitude', 'Longitude', 'Country', 'lat,lon']\n"
     ]
    },
    {
     "data": {
      "text/html": [
       "<div>\n",
       "<style scoped>\n",
       "    .dataframe tbody tr th:only-of-type {\n",
       "        vertical-align: middle;\n",
       "    }\n",
       "\n",
       "    .dataframe tbody tr th {\n",
       "        vertical-align: top;\n",
       "    }\n",
       "\n",
       "    .dataframe thead th {\n",
       "        text-align: right;\n",
       "    }\n",
       "</style>\n",
       "<table border=\"1\" class=\"dataframe\">\n",
       "  <thead>\n",
       "    <tr style=\"text-align: right;\">\n",
       "      <th></th>\n",
       "      <th>Country</th>\n",
       "      <th>City</th>\n",
       "      <th>Latitude</th>\n",
       "      <th>Longitude</th>\n",
       "      <th>lat,lon</th>\n",
       "    </tr>\n",
       "  </thead>\n",
       "  <tbody>\n",
       "    <tr>\n",
       "      <th>1</th>\n",
       "      <td>Japan</td>\n",
       "      <td>Tokyo</td>\n",
       "      <td>35.6895</td>\n",
       "      <td>139.6917</td>\n",
       "      <td>35.6895,139.6917</td>\n",
       "    </tr>\n",
       "    <tr>\n",
       "      <th>2</th>\n",
       "      <td>USA</td>\n",
       "      <td>Los Angeles</td>\n",
       "      <td>34.0522</td>\n",
       "      <td>-118.2437</td>\n",
       "      <td>34.0522,-118.2437</td>\n",
       "    </tr>\n",
       "    <tr>\n",
       "      <th>3</th>\n",
       "      <td>UK</td>\n",
       "      <td>London</td>\n",
       "      <td>51.5074</td>\n",
       "      <td>-0.1278</td>\n",
       "      <td>51.5074,-0.1278</td>\n",
       "    </tr>\n",
       "  </tbody>\n",
       "</table>\n",
       "</div>"
      ],
      "text/plain": [
       "  Country         City  Latitude  Longitude            lat,lon\n",
       "1   Japan        Tokyo   35.6895   139.6917   35.6895,139.6917\n",
       "2     USA  Los Angeles   34.0522  -118.2437  34.0522,-118.2437\n",
       "3      UK       London   51.5074    -0.1278    51.5074,-0.1278"
      ]
     },
     "metadata": {},
     "output_type": "display_data"
    },
    {
     "name": "stdout",
     "output_type": "stream",
     "text": [
      "New columns: ['Country', 'City', 'Latitude', 'Longitude', 'lat,lon']\n"
     ]
    }
   ],
   "source": [
    "original_columns = df.columns.tolist()  # 获取原始列名列表\n",
    "print(\"Original columns:\", original_columns)\n",
    "new_columns = ['Country', 'City', 'Latitude', 'Longitude', 'lat,lon']  # 新的列名顺序\n",
    "display(df)\n",
    "print(\"New columns:\", df.columns.tolist())  # 输出新的列名列表"
   ]
  },
  {
   "cell_type": "markdown",
   "id": "52c05b84",
   "metadata": {},
   "source": [
    "# DataFrame 方法\n",
    "DataFrame 的常用操作和方法如下表所示：\n",
    "\n",
    "方法名称\t|功能描述\n",
    "|----|----|\n",
    "head(n)\t|返回 DataFrame 的前 n 行数据（默认前 5 行）\n",
    "tail(n)\t|返回 DataFrame 的后 n 行数据（默认后 5 行）\n",
    "info()\t|显示 DataFrame 的简要信息，包括列名、数据类型、非空值数量等\n",
    "describe()|\t返回 DataFrame 数值列的统计信息，如均值、标准差、最小值等\n",
    "shape\t|返回 DataFrame 的行数和列数（行数, 列数）\n",
    "columns\t|返回 DataFrame 的所有列名\n",
    "index\t|返回 DataFrame 的行索引\n",
    "dtypes\t|返回每一列的数值数据类型\n",
    "sort_values(by)\t|按照指定列排序\n",
    "sort_index()\t|按行索引排序\n",
    "dropna()\t|删除含有缺失值（NaN）的行或列\n",
    "fillna(value)\t|用指定的值填充缺失值\n",
    "isnull()\t|判断缺失值，返回一个布尔值 DataFrame\n",
    "notnull()\t|判断非缺失值，返回一个布尔值 DataFrame\n",
    "loc[]\t|按标签索引选择数据\n",
    "iloc[]\t|按位置索引选择数据\n",
    "at[]\t|访问 DataFrame 中单个元素（比 loc[] 更高效）\n",
    "iat[]\t|访问 DataFrame 中单个元素（比 iloc[] 更高效）\n",
    "apply(func)\t|对 DataFrame 或 Series 应用一个函数\n",
    "applymap(func)\t|对 DataFrame 的每个元素应用函数（仅对 DataFrame）\n",
    "groupby(by)\t|分组操作，用于按某一列分组进行汇总统计\n",
    "pivot_table()\t|创建透视表\n",
    "merge()\t|合并多个 DataFrame（类似 SQL 的 JOIN 操作）\n",
    "concat()|\t按行或按列连接多个 DataFrame\n",
    "to_csv()|\t将 DataFrame 导出为 CSV 文件\n",
    "to_excel()\t|将 DataFrame 导出为 Excel 文件\n",
    "to_json()\t|将 DataFrame 导出为 JSON 格式\n",
    "to_sql()\t|将 DataFrame 导出为 SQL 数据库\n",
    "query()\t|使用 SQL 风格的语法查询 DataFrame\n",
    "duplicated()|\t返回布尔值 DataFrame，指示每行是否是重复的\n",
    "drop_duplicates()|\t删除重复的行\n",
    "set_index()\t|设置 DataFrame 的索引\n",
    "reset_index()\t|重置 DataFrame 的索引\n",
    "transpose()\t|转置 DataFrame（行列交换）"
   ]
  },
  {
   "cell_type": "code",
   "execution_count": 119,
   "id": "c7310a7e",
   "metadata": {},
   "outputs": [],
   "source": [
    "import pandas as pd\n",
    "#构建data字典\n",
    "data = {\n",
    "\"City\": [\"Tokyo\", \"Los Angeles\", \"London\"],\n",
    "\"Latitude\": [35.6895, 34.0522, 51.5074],\n",
    "\"Longitude\": [139.6917, -118.2437, -0.1278],\n",
    "\"Country\": [\"Japan\", \"USA\", \"UK\"],\n",
    "}"
   ]
  },
  {
   "cell_type": "code",
   "execution_count": 120,
   "id": "54af73e4",
   "metadata": {},
   "outputs": [
    {
     "data": {
      "text/html": [
       "<div>\n",
       "<style scoped>\n",
       "    .dataframe tbody tr th:only-of-type {\n",
       "        vertical-align: middle;\n",
       "    }\n",
       "\n",
       "    .dataframe tbody tr th {\n",
       "        vertical-align: top;\n",
       "    }\n",
       "\n",
       "    .dataframe thead th {\n",
       "        text-align: right;\n",
       "    }\n",
       "</style>\n",
       "<table border=\"1\" class=\"dataframe\">\n",
       "  <thead>\n",
       "    <tr style=\"text-align: right;\">\n",
       "      <th></th>\n",
       "      <th>City</th>\n",
       "      <th>Latitude</th>\n",
       "      <th>Longitude</th>\n",
       "      <th>Country</th>\n",
       "    </tr>\n",
       "  </thead>\n",
       "  <tbody>\n",
       "    <tr>\n",
       "      <th>1</th>\n",
       "      <td>Tokyo</td>\n",
       "      <td>35.6895</td>\n",
       "      <td>139.6917</td>\n",
       "      <td>Japan</td>\n",
       "    </tr>\n",
       "    <tr>\n",
       "      <th>2</th>\n",
       "      <td>Los Angeles</td>\n",
       "      <td>34.0522</td>\n",
       "      <td>-118.2437</td>\n",
       "      <td>USA</td>\n",
       "    </tr>\n",
       "    <tr>\n",
       "      <th>3</th>\n",
       "      <td>London</td>\n",
       "      <td>51.5074</td>\n",
       "      <td>-0.1278</td>\n",
       "      <td>UK</td>\n",
       "    </tr>\n",
       "  </tbody>\n",
       "</table>\n",
       "</div>"
      ],
      "text/plain": [
       "          City  Latitude  Longitude Country\n",
       "1        Tokyo   35.6895   139.6917   Japan\n",
       "2  Los Angeles   34.0522  -118.2437     USA\n",
       "3       London   51.5074    -0.1278      UK"
      ]
     },
     "metadata": {},
     "output_type": "display_data"
    }
   ],
   "source": [
    "#构建dataframe\n",
    "df = pd.DataFrame(data,index=range(1,len(data[next(iter(data.keys()))])+1))\n",
    "display(df)"
   ]
  },
  {
   "cell_type": "code",
   "execution_count": 121,
   "id": "8158adbf",
   "metadata": {},
   "outputs": [
    {
     "name": "stdout",
     "output_type": "stream",
     "text": [
      "<class 'pandas.core.frame.DataFrame'>\n",
      "RangeIndex: 3 entries, 1 to 3\n",
      "Data columns (total 4 columns):\n",
      " #   Column     Non-Null Count  Dtype  \n",
      "---  ------     --------------  -----  \n",
      " 0   City       3 non-null      object \n",
      " 1   Latitude   3 non-null      float64\n",
      " 2   Longitude  3 non-null      float64\n",
      " 3   Country    3 non-null      object \n",
      "dtypes: float64(2), object(2)\n",
      "memory usage: 228.0+ bytes\n"
     ]
    }
   ],
   "source": [
    "df.info()  # 直接输出DataFrame的信息"
   ]
  },
  {
   "cell_type": "code",
   "execution_count": 122,
   "id": "ce725ebd",
   "metadata": {},
   "outputs": [
    {
     "name": "stdout",
     "output_type": "stream",
     "text": [
      "RangeIndex(start=1, stop=4, step=1) \n",
      " Index(['City', 'Latitude', 'Longitude', 'Country'], dtype='object')\n"
     ]
    }
   ],
   "source": [
    "print(\n",
    "    df.index, '\\n' ,# 输出索引\n",
    "    df.columns # 输出列名\n",
    ")"
   ]
  },
  {
   "cell_type": "code",
   "execution_count": 123,
   "id": "60577c13",
   "metadata": {},
   "outputs": [
    {
     "name": "stdout",
     "output_type": "stream",
     "text": [
      "          City  Latitude  Longitude Country\n",
      "2  Los Angeles   34.0522  -118.2437     USA\n",
      "1        Tokyo   35.6895   139.6917   Japan\n",
      "3       London   51.5074    -0.1278      UK\n"
     ]
    }
   ],
   "source": [
    "print(df.sort_values(by='Latitude', ascending=True))  # 按照纬度升序排序"
   ]
  },
  {
   "cell_type": "markdown",
   "id": "986c76ed",
   "metadata": {},
   "source": [
    "### 特定值填充缺失行"
   ]
  },
  {
   "cell_type": "code",
   "execution_count": 179,
   "id": "331d929b",
   "metadata": {},
   "outputs": [
    {
     "data": {
      "text/html": [
       "<div>\n",
       "<style scoped>\n",
       "    .dataframe tbody tr th:only-of-type {\n",
       "        vertical-align: middle;\n",
       "    }\n",
       "\n",
       "    .dataframe tbody tr th {\n",
       "        vertical-align: top;\n",
       "    }\n",
       "\n",
       "    .dataframe thead th {\n",
       "        text-align: right;\n",
       "    }\n",
       "</style>\n",
       "<table border=\"1\" class=\"dataframe\">\n",
       "  <thead>\n",
       "    <tr style=\"text-align: right;\">\n",
       "      <th></th>\n",
       "      <th>City</th>\n",
       "      <th>Population</th>\n",
       "    </tr>\n",
       "  </thead>\n",
       "  <tbody>\n",
       "    <tr>\n",
       "      <th>0</th>\n",
       "      <td>Tokyo</td>\n",
       "      <td>3.740007e+07</td>\n",
       "    </tr>\n",
       "    <tr>\n",
       "      <th>1</th>\n",
       "      <td>Los Angeles</td>\n",
       "      <td>3.970000e+06</td>\n",
       "    </tr>\n",
       "    <tr>\n",
       "      <th>2</th>\n",
       "      <td>London</td>\n",
       "      <td>1.450353e+07</td>\n",
       "    </tr>\n",
       "    <tr>\n",
       "      <th>3</th>\n",
       "      <td>Paris</td>\n",
       "      <td>2.140526e+06</td>\n",
       "    </tr>\n",
       "  </tbody>\n",
       "</table>\n",
       "</div>"
      ],
      "text/plain": [
       "          City    Population\n",
       "0        Tokyo  3.740007e+07\n",
       "1  Los Angeles  3.970000e+06\n",
       "2       London  1.450353e+07\n",
       "3        Paris  2.140526e+06"
      ]
     },
     "metadata": {},
     "output_type": "display_data"
    }
   ],
   "source": [
    "data_with_nan = {\n",
    "\"City\": [\"Tokyo\", \"Los Angeles\", \"London\", \"Paris\"],\n",
    "\"Population\": [37400068, 3970000, None, 2140526],\n",
    "}\n",
    "df_nan = pd.DataFrame(data_with_nan)\n",
    "#用平均值填充\n",
    "df_new = df_nan.fillna(value=df_nan['Population'].mean(),inplace=False)#TRUE表示直接在原df上修改\n",
    "display(df_new)"
   ]
  },
  {
   "cell_type": "markdown",
   "id": "7818c9cd",
   "metadata": {},
   "source": [
    "## 选取指定列，返回series"
   ]
  },
  {
   "cell_type": "code",
   "execution_count": 174,
   "id": "8269efd4",
   "metadata": {},
   "outputs": [
    {
     "ename": "KeyError",
     "evalue": "'City'",
     "output_type": "error",
     "traceback": [
      "\u001b[31m---------------------------------------------------------------------------\u001b[39m",
      "\u001b[31mKeyError\u001b[39m                                  Traceback (most recent call last)",
      "\u001b[36mFile \u001b[39m\u001b[32mc:\\Users\\86177\\miniconda3\\envs\\geo\\Lib\\site-packages\\pandas\\core\\indexes\\base.py:3812\u001b[39m, in \u001b[36mIndex.get_loc\u001b[39m\u001b[34m(self, key)\u001b[39m\n\u001b[32m   3811\u001b[39m \u001b[38;5;28;01mtry\u001b[39;00m:\n\u001b[32m-> \u001b[39m\u001b[32m3812\u001b[39m     \u001b[38;5;28;01mreturn\u001b[39;00m \u001b[38;5;28;43mself\u001b[39;49m\u001b[43m.\u001b[49m\u001b[43m_engine\u001b[49m\u001b[43m.\u001b[49m\u001b[43mget_loc\u001b[49m\u001b[43m(\u001b[49m\u001b[43mcasted_key\u001b[49m\u001b[43m)\u001b[49m\n\u001b[32m   3813\u001b[39m \u001b[38;5;28;01mexcept\u001b[39;00m \u001b[38;5;167;01mKeyError\u001b[39;00m \u001b[38;5;28;01mas\u001b[39;00m err:\n",
      "\u001b[36mFile \u001b[39m\u001b[32mpandas/_libs/index.pyx:167\u001b[39m, in \u001b[36mpandas._libs.index.IndexEngine.get_loc\u001b[39m\u001b[34m()\u001b[39m\n",
      "\u001b[36mFile \u001b[39m\u001b[32mpandas/_libs/index.pyx:196\u001b[39m, in \u001b[36mpandas._libs.index.IndexEngine.get_loc\u001b[39m\u001b[34m()\u001b[39m\n",
      "\u001b[36mFile \u001b[39m\u001b[32mpandas/_libs/hashtable_class_helper.pxi:7088\u001b[39m, in \u001b[36mpandas._libs.hashtable.PyObjectHashTable.get_item\u001b[39m\u001b[34m()\u001b[39m\n",
      "\u001b[36mFile \u001b[39m\u001b[32mpandas/_libs/hashtable_class_helper.pxi:7096\u001b[39m, in \u001b[36mpandas._libs.hashtable.PyObjectHashTable.get_item\u001b[39m\u001b[34m()\u001b[39m\n",
      "\u001b[31mKeyError\u001b[39m: 'City'",
      "\nThe above exception was the direct cause of the following exception:\n",
      "\u001b[31mKeyError\u001b[39m                                  Traceback (most recent call last)",
      "\u001b[36mCell\u001b[39m\u001b[36m \u001b[39m\u001b[32mIn[174]\u001b[39m\u001b[32m, line 2\u001b[39m\n\u001b[32m      1\u001b[39m \u001b[38;5;66;03m#输出cityseries\u001b[39;00m\n\u001b[32m----> \u001b[39m\u001b[32m2\u001b[39m city_series = \u001b[43mdf\u001b[49m\u001b[43m[\u001b[49m\u001b[33;43m'\u001b[39;49m\u001b[33;43mCity\u001b[39;49m\u001b[33;43m'\u001b[39;49m\u001b[43m]\u001b[49m  \u001b[38;5;66;03m# 使用列名访问城市系列\u001b[39;00m\n\u001b[32m      3\u001b[39m \u001b[38;5;28mprint\u001b[39m(city_series)  \u001b[38;5;66;03m# 输出城市系列\u001b[39;00m\n",
      "\u001b[36mFile \u001b[39m\u001b[32mc:\\Users\\86177\\miniconda3\\envs\\geo\\Lib\\site-packages\\pandas\\core\\frame.py:4107\u001b[39m, in \u001b[36mDataFrame.__getitem__\u001b[39m\u001b[34m(self, key)\u001b[39m\n\u001b[32m   4105\u001b[39m \u001b[38;5;28;01mif\u001b[39;00m \u001b[38;5;28mself\u001b[39m.columns.nlevels > \u001b[32m1\u001b[39m:\n\u001b[32m   4106\u001b[39m     \u001b[38;5;28;01mreturn\u001b[39;00m \u001b[38;5;28mself\u001b[39m._getitem_multilevel(key)\n\u001b[32m-> \u001b[39m\u001b[32m4107\u001b[39m indexer = \u001b[38;5;28;43mself\u001b[39;49m\u001b[43m.\u001b[49m\u001b[43mcolumns\u001b[49m\u001b[43m.\u001b[49m\u001b[43mget_loc\u001b[49m\u001b[43m(\u001b[49m\u001b[43mkey\u001b[49m\u001b[43m)\u001b[49m\n\u001b[32m   4108\u001b[39m \u001b[38;5;28;01mif\u001b[39;00m is_integer(indexer):\n\u001b[32m   4109\u001b[39m     indexer = [indexer]\n",
      "\u001b[36mFile \u001b[39m\u001b[32mc:\\Users\\86177\\miniconda3\\envs\\geo\\Lib\\site-packages\\pandas\\core\\indexes\\base.py:3819\u001b[39m, in \u001b[36mIndex.get_loc\u001b[39m\u001b[34m(self, key)\u001b[39m\n\u001b[32m   3814\u001b[39m     \u001b[38;5;28;01mif\u001b[39;00m \u001b[38;5;28misinstance\u001b[39m(casted_key, \u001b[38;5;28mslice\u001b[39m) \u001b[38;5;129;01mor\u001b[39;00m (\n\u001b[32m   3815\u001b[39m         \u001b[38;5;28misinstance\u001b[39m(casted_key, abc.Iterable)\n\u001b[32m   3816\u001b[39m         \u001b[38;5;129;01mand\u001b[39;00m \u001b[38;5;28many\u001b[39m(\u001b[38;5;28misinstance\u001b[39m(x, \u001b[38;5;28mslice\u001b[39m) \u001b[38;5;28;01mfor\u001b[39;00m x \u001b[38;5;129;01min\u001b[39;00m casted_key)\n\u001b[32m   3817\u001b[39m     ):\n\u001b[32m   3818\u001b[39m         \u001b[38;5;28;01mraise\u001b[39;00m InvalidIndexError(key)\n\u001b[32m-> \u001b[39m\u001b[32m3819\u001b[39m     \u001b[38;5;28;01mraise\u001b[39;00m \u001b[38;5;167;01mKeyError\u001b[39;00m(key) \u001b[38;5;28;01mfrom\u001b[39;00m\u001b[38;5;250m \u001b[39m\u001b[34;01merr\u001b[39;00m\n\u001b[32m   3820\u001b[39m \u001b[38;5;28;01mexcept\u001b[39;00m \u001b[38;5;167;01mTypeError\u001b[39;00m:\n\u001b[32m   3821\u001b[39m     \u001b[38;5;66;03m# If we have a listlike key, _check_indexing_error will raise\u001b[39;00m\n\u001b[32m   3822\u001b[39m     \u001b[38;5;66;03m#  InvalidIndexError. Otherwise we fall through and re-raise\u001b[39;00m\n\u001b[32m   3823\u001b[39m     \u001b[38;5;66;03m#  the TypeError.\u001b[39;00m\n\u001b[32m   3824\u001b[39m     \u001b[38;5;28mself\u001b[39m._check_indexing_error(key)\n",
      "\u001b[31mKeyError\u001b[39m: 'City'"
     ]
    }
   ],
   "source": [
    "#输出cityseries\n",
    "city_series = df['City']  # 使用列名访问城市系列\n",
    "print(city_series)  # 输出城市系列"
   ]
  },
  {
   "cell_type": "markdown",
   "id": "cdab38f6",
   "metadata": {},
   "source": [
    "### select specified multiple columns,输出dataframe"
   ]
  },
  {
   "cell_type": "code",
   "execution_count": null,
   "id": "31e323c1",
   "metadata": {},
   "outputs": [
    {
     "name": "stdout",
     "output_type": "stream",
     "text": [
      "          City Country\n",
      "1        Tokyo   Japan\n",
      "2  Los Angeles     USA\n",
      "3       London      UK\n"
     ]
    }
   ],
   "source": [
    "cityofcountry = df[['City','Country']]  # 选择城市和国家两列\n",
    "print(cityofcountry)  # 输出城市和国家数据"
   ]
  },
  {
   "cell_type": "markdown",
   "id": "0e230790",
   "metadata": {},
   "source": [
    "## 基于单个条件过滤数据"
   ]
  },
  {
   "cell_type": "code",
   "execution_count": null,
   "id": "db84b839",
   "metadata": {},
   "outputs": [
    {
     "name": "stdout",
     "output_type": "stream",
     "text": [
      "          City  Latitude  Longitude Country\n",
      "2  Los Angeles   34.0522  -118.2437     USA\n",
      "3       London   51.5074    -0.1278      UK\n"
     ]
    }
   ],
   "source": [
    "western_cities = df[df['Longitude']<0]  # 选择经度小于0的城市\n",
    "print(western_cities)  # 输出西方城市数据"
   ]
  },
  {
   "cell_type": "code",
   "execution_count": null,
   "id": "9b38c4e2",
   "metadata": {},
   "outputs": [
    {
     "name": "stdout",
     "output_type": "stream",
     "text": [
      "          City  Latitude  Longitude Country\n",
      "2  Los Angeles   34.0522  -118.2437     USA\n"
     ]
    }
   ],
   "source": [
    "USA = df[df['Country']=='USA']\n",
    "print(USA)  # 输出美国城市数据"
   ]
  },
  {
   "cell_type": "markdown",
   "id": "2d3e08f3",
   "metadata": {},
   "source": [
    "## 基于多个条件过滤数据"
   ]
  },
  {
   "cell_type": "code",
   "execution_count": null,
   "id": "cd37b800",
   "metadata": {},
   "outputs": [
    {
     "name": "stdout",
     "output_type": "stream",
     "text": [
      "\n",
      "Northern Western cities:\n",
      "     City  Latitude  Longitude Country\n",
      "3  London   51.5074    -0.1278      UK\n"
     ]
    }
   ],
   "source": [
    "northern_western = df[(df[\"Latitude\"] > 40) & (df[\"Longitude\"] < 0)]\n",
    "print(f\"\\nNorthern Western cities:\\n{northern_western}\")"
   ]
  },
  {
   "cell_type": "markdown",
   "id": "f35251d9",
   "metadata": {},
   "source": [
    "## 分组统计"
   ]
  },
  {
   "cell_type": "markdown",
   "id": "b7af3fc6",
   "metadata": {},
   "source": [
    "单列分组"
   ]
  },
  {
   "cell_type": "code",
   "execution_count": null,
   "id": "37cf569e",
   "metadata": {},
   "outputs": [
    {
     "data": {
      "text/html": [
       "<div>\n",
       "<style scoped>\n",
       "    .dataframe tbody tr th:only-of-type {\n",
       "        vertical-align: middle;\n",
       "    }\n",
       "\n",
       "    .dataframe tbody tr th {\n",
       "        vertical-align: top;\n",
       "    }\n",
       "\n",
       "    .dataframe thead th {\n",
       "        text-align: right;\n",
       "    }\n",
       "</style>\n",
       "<table border=\"1\" class=\"dataframe\">\n",
       "  <thead>\n",
       "    <tr style=\"text-align: right;\">\n",
       "      <th></th>\n",
       "      <th>level</th>\n",
       "      <th>gender</th>\n",
       "      <th>math</th>\n",
       "      <th>chinese</th>\n",
       "    </tr>\n",
       "  </thead>\n",
       "  <tbody>\n",
       "    <tr>\n",
       "      <th>0</th>\n",
       "      <td>a</td>\n",
       "      <td>man</td>\n",
       "      <td>120</td>\n",
       "      <td>90</td>\n",
       "    </tr>\n",
       "    <tr>\n",
       "      <th>1</th>\n",
       "      <td>b</td>\n",
       "      <td>woman</td>\n",
       "      <td>130</td>\n",
       "      <td>100</td>\n",
       "    </tr>\n",
       "    <tr>\n",
       "      <th>2</th>\n",
       "      <td>a</td>\n",
       "      <td>man</td>\n",
       "      <td>110</td>\n",
       "      <td>108</td>\n",
       "    </tr>\n",
       "    <tr>\n",
       "      <th>3</th>\n",
       "      <td>a</td>\n",
       "      <td>woman</td>\n",
       "      <td>120</td>\n",
       "      <td>118</td>\n",
       "    </tr>\n",
       "  </tbody>\n",
       "</table>\n",
       "</div>"
      ],
      "text/plain": [
       "  level gender  math  chinese\n",
       "0     a    man   120       90\n",
       "1     b  woman   130      100\n",
       "2     a    man   110      108\n",
       "3     a  woman   120      118"
      ]
     },
     "metadata": {},
     "output_type": "display_data"
    },
    {
     "data": {
      "text/plain": [
       "gender\n",
       "man      115.0\n",
       "woman    125.0\n",
       "Name: math, dtype: float64"
      ]
     },
     "execution_count": 136,
     "metadata": {},
     "output_type": "execute_result"
    }
   ],
   "source": [
    "import pandas as pd\n",
    "df = pd.DataFrame([['a', 'man', 120, 90],\n",
    "                   ['b', 'woman', 130, 100],\n",
    "                   ['a', 'man', 110, 108],\n",
    "                   ['a', 'woman', 120, 118]], columns=['level', 'gender', 'math','chinese'])\n",
    "display(df)\n",
    "# 按照'gender'列的值来分组，创建一个groupby对象\n",
    "group = df.groupby(['gender'])\n",
    "group['math'].mean()  # 计算每个性别的数学平均分"
   ]
  },
  {
   "cell_type": "markdown",
   "id": "fd3e6f96",
   "metadata": {},
   "source": [
    "多列分组"
   ]
  },
  {
   "cell_type": "code",
   "execution_count": null,
   "id": "de05106c",
   "metadata": {},
   "outputs": [
    {
     "data": {
      "text/plain": [
       "level  gender\n",
       "a      man       115.0\n",
       "       woman     120.0\n",
       "b      woman     130.0\n",
       "Name: math, dtype: float64"
      ]
     },
     "execution_count": 138,
     "metadata": {},
     "output_type": "execute_result"
    }
   ],
   "source": [
    "group1 = df.groupby(['level','gender'])\n",
    "group1['math'].mean()  # 计算每个性别和级别的数学平均分"
   ]
  },
  {
   "cell_type": "markdown",
   "id": "7b279913",
   "metadata": {},
   "source": [
    "# 合并\n",
    "concat()\t拼接，用于将多个DataFrame按行或按列拼接起来  \n",
    "merge()\t合并，用于基于共享的列（键）来进行左右合并两个DataFrame  \n",
    "join()\t连接，用于基于索引来连接两个DataFrame"
   ]
  },
  {
   "cell_type": "markdown",
   "id": "68d7d31b",
   "metadata": {},
   "source": [
    "## concat()函数用于沿指定 行或列 拼接多个 DataFrame 或 Series。\n",
    "concat() 用于将多个 DataFrame 沿指定轴（行或列）进行连接，常用于行合并（垂直连接）或列合并（水平连接）。\n",
    "\n",
    "参数\t|说明\n",
    "|----|----|\n",
    "objs\t|需要合并的 DataFrame 列表\n",
    "axis\t|合并的轴，0 表示按行合并，1 表示按列合并\n",
    "ignore_index\t|是否忽略索引，重新生成索引（默认为 False）\n",
    "keys\t|为合并的对象提供层次化索引"
   ]
  },
  {
   "cell_type": "code",
   "execution_count": null,
   "id": "fd08d799",
   "metadata": {},
   "outputs": [
    {
     "name": "stdout",
     "output_type": "stream",
     "text": [
      "    A   B   C   D\n",
      "0  A0  B0  C0  D0\n",
      "1  A1  B1  C1  D1\n",
      "2  A2  B2  C2  D2\n",
      "3  A3  B3  C3  D3\n",
      "    A   B   C   D\n",
      "4  A4  B4  C4  D4\n",
      "5  A5  B5  C5  D5\n",
      "6  A6  B6  C6  D6\n",
      "7  A7  B7  C7  D7\n",
      "      A    B    C    D\n",
      "8    A8   B8   C8   D8\n",
      "9    A9   B9   C9   D9\n",
      "10  A10  B10  C10  D10\n",
      "11  A11  B11  C11  D11\n"
     ]
    }
   ],
   "source": [
    "df1 = pd.DataFrame({\n",
    "        \"A\": [\"A0\", \"A1\", \"A2\", \"A3\"],\n",
    "        \"B\": [\"B0\", \"B1\", \"B2\", \"B3\"],\n",
    "        \"C\": [\"C0\", \"C1\", \"C2\", \"C3\"],\n",
    "        \"D\": [\"D0\", \"D1\", \"D2\", \"D3\"],\n",
    "    }, index=[0, 1, 2, 3], )\n",
    "print(df1)\n",
    "\n",
    "df2 = pd.DataFrame({\n",
    "        \"A\": [\"A4\", \"A5\", \"A6\", \"A7\"],\n",
    "        \"B\": [\"B4\", \"B5\", \"B6\", \"B7\"],\n",
    "        \"C\": [\"C4\", \"C5\", \"C6\", \"C7\"],\n",
    "        \"D\": [\"D4\", \"D5\", \"D6\", \"D7\"],\n",
    "    }, index=[4, 5, 6, 7], )\n",
    "print(df2)\n",
    "\n",
    "df3 = pd.DataFrame({\n",
    "        \"A\": [\"A8\", \"A9\", \"A10\", \"A11\"],\n",
    "        \"B\": [\"B8\", \"B9\", \"B10\", \"B11\"],\n",
    "        \"C\": [\"C8\", \"C9\", \"C10\", \"C11\"],\n",
    "        \"D\": [\"D8\", \"D9\", \"D10\", \"D11\"],\n",
    "    }, index=[8, 9, 10, 11], )\n",
    "print(df3)"
   ]
  },
  {
   "cell_type": "markdown",
   "id": "c6eab13e",
   "metadata": {},
   "source": [
    "## 上下拼接（默认拼接"
   ]
  },
  {
   "cell_type": "code",
   "execution_count": null,
   "id": "f7a65c36",
   "metadata": {},
   "outputs": [
    {
     "data": {
      "text/html": [
       "<div>\n",
       "<style scoped>\n",
       "    .dataframe tbody tr th:only-of-type {\n",
       "        vertical-align: middle;\n",
       "    }\n",
       "\n",
       "    .dataframe tbody tr th {\n",
       "        vertical-align: top;\n",
       "    }\n",
       "\n",
       "    .dataframe thead th {\n",
       "        text-align: right;\n",
       "    }\n",
       "</style>\n",
       "<table border=\"1\" class=\"dataframe\">\n",
       "  <thead>\n",
       "    <tr style=\"text-align: right;\">\n",
       "      <th></th>\n",
       "      <th>A</th>\n",
       "      <th>B</th>\n",
       "      <th>C</th>\n",
       "      <th>D</th>\n",
       "    </tr>\n",
       "  </thead>\n",
       "  <tbody>\n",
       "    <tr>\n",
       "      <th>0</th>\n",
       "      <td>A0</td>\n",
       "      <td>B0</td>\n",
       "      <td>C0</td>\n",
       "      <td>D0</td>\n",
       "    </tr>\n",
       "    <tr>\n",
       "      <th>1</th>\n",
       "      <td>A1</td>\n",
       "      <td>B1</td>\n",
       "      <td>C1</td>\n",
       "      <td>D1</td>\n",
       "    </tr>\n",
       "    <tr>\n",
       "      <th>2</th>\n",
       "      <td>A2</td>\n",
       "      <td>B2</td>\n",
       "      <td>C2</td>\n",
       "      <td>D2</td>\n",
       "    </tr>\n",
       "    <tr>\n",
       "      <th>3</th>\n",
       "      <td>A3</td>\n",
       "      <td>B3</td>\n",
       "      <td>C3</td>\n",
       "      <td>D3</td>\n",
       "    </tr>\n",
       "    <tr>\n",
       "      <th>4</th>\n",
       "      <td>A4</td>\n",
       "      <td>B4</td>\n",
       "      <td>C4</td>\n",
       "      <td>D4</td>\n",
       "    </tr>\n",
       "    <tr>\n",
       "      <th>5</th>\n",
       "      <td>A5</td>\n",
       "      <td>B5</td>\n",
       "      <td>C5</td>\n",
       "      <td>D5</td>\n",
       "    </tr>\n",
       "    <tr>\n",
       "      <th>6</th>\n",
       "      <td>A6</td>\n",
       "      <td>B6</td>\n",
       "      <td>C6</td>\n",
       "      <td>D6</td>\n",
       "    </tr>\n",
       "    <tr>\n",
       "      <th>7</th>\n",
       "      <td>A7</td>\n",
       "      <td>B7</td>\n",
       "      <td>C7</td>\n",
       "      <td>D7</td>\n",
       "    </tr>\n",
       "    <tr>\n",
       "      <th>8</th>\n",
       "      <td>A8</td>\n",
       "      <td>B8</td>\n",
       "      <td>C8</td>\n",
       "      <td>D8</td>\n",
       "    </tr>\n",
       "    <tr>\n",
       "      <th>9</th>\n",
       "      <td>A9</td>\n",
       "      <td>B9</td>\n",
       "      <td>C9</td>\n",
       "      <td>D9</td>\n",
       "    </tr>\n",
       "    <tr>\n",
       "      <th>10</th>\n",
       "      <td>A10</td>\n",
       "      <td>B10</td>\n",
       "      <td>C10</td>\n",
       "      <td>D10</td>\n",
       "    </tr>\n",
       "    <tr>\n",
       "      <th>11</th>\n",
       "      <td>A11</td>\n",
       "      <td>B11</td>\n",
       "      <td>C11</td>\n",
       "      <td>D11</td>\n",
       "    </tr>\n",
       "  </tbody>\n",
       "</table>\n",
       "</div>"
      ],
      "text/plain": [
       "      A    B    C    D\n",
       "0    A0   B0   C0   D0\n",
       "1    A1   B1   C1   D1\n",
       "2    A2   B2   C2   D2\n",
       "3    A3   B3   C3   D3\n",
       "4    A4   B4   C4   D4\n",
       "5    A5   B5   C5   D5\n",
       "6    A6   B6   C6   D6\n",
       "7    A7   B7   C7   D7\n",
       "8    A8   B8   C8   D8\n",
       "9    A9   B9   C9   D9\n",
       "10  A10  B10  C10  D10\n",
       "11  A11  B11  C11  D11"
      ]
     },
     "execution_count": 153,
     "metadata": {},
     "output_type": "execute_result"
    }
   ],
   "source": [
    "pd.concat([df1,df2,df3],ignore_index=True)  # 默认按行拼接，ignore_index=True表示重新索引])"
   ]
  },
  {
   "cell_type": "markdown",
   "id": "c01b1d4a",
   "metadata": {},
   "source": [
    "## 带有 key 的拼接\n",
    "keys 参数为拼接的各部分指定标签，构建一个多层索引。"
   ]
  },
  {
   "cell_type": "code",
   "execution_count": null,
   "id": "4b8fe1e3",
   "metadata": {},
   "outputs": [
    {
     "data": {
      "text/html": [
       "<div>\n",
       "<style scoped>\n",
       "    .dataframe tbody tr th:only-of-type {\n",
       "        vertical-align: middle;\n",
       "    }\n",
       "\n",
       "    .dataframe tbody tr th {\n",
       "        vertical-align: top;\n",
       "    }\n",
       "\n",
       "    .dataframe thead th {\n",
       "        text-align: right;\n",
       "    }\n",
       "</style>\n",
       "<table border=\"1\" class=\"dataframe\">\n",
       "  <thead>\n",
       "    <tr style=\"text-align: right;\">\n",
       "      <th></th>\n",
       "      <th></th>\n",
       "      <th>A</th>\n",
       "      <th>B</th>\n",
       "      <th>C</th>\n",
       "      <th>D</th>\n",
       "    </tr>\n",
       "  </thead>\n",
       "  <tbody>\n",
       "    <tr>\n",
       "      <th rowspan=\"4\" valign=\"top\">x</th>\n",
       "      <th>0</th>\n",
       "      <td>A0</td>\n",
       "      <td>B0</td>\n",
       "      <td>C0</td>\n",
       "      <td>D0</td>\n",
       "    </tr>\n",
       "    <tr>\n",
       "      <th>1</th>\n",
       "      <td>A1</td>\n",
       "      <td>B1</td>\n",
       "      <td>C1</td>\n",
       "      <td>D1</td>\n",
       "    </tr>\n",
       "    <tr>\n",
       "      <th>2</th>\n",
       "      <td>A2</td>\n",
       "      <td>B2</td>\n",
       "      <td>C2</td>\n",
       "      <td>D2</td>\n",
       "    </tr>\n",
       "    <tr>\n",
       "      <th>3</th>\n",
       "      <td>A3</td>\n",
       "      <td>B3</td>\n",
       "      <td>C3</td>\n",
       "      <td>D3</td>\n",
       "    </tr>\n",
       "    <tr>\n",
       "      <th rowspan=\"4\" valign=\"top\">y</th>\n",
       "      <th>4</th>\n",
       "      <td>A4</td>\n",
       "      <td>B4</td>\n",
       "      <td>C4</td>\n",
       "      <td>D4</td>\n",
       "    </tr>\n",
       "    <tr>\n",
       "      <th>5</th>\n",
       "      <td>A5</td>\n",
       "      <td>B5</td>\n",
       "      <td>C5</td>\n",
       "      <td>D5</td>\n",
       "    </tr>\n",
       "    <tr>\n",
       "      <th>6</th>\n",
       "      <td>A6</td>\n",
       "      <td>B6</td>\n",
       "      <td>C6</td>\n",
       "      <td>D6</td>\n",
       "    </tr>\n",
       "    <tr>\n",
       "      <th>7</th>\n",
       "      <td>A7</td>\n",
       "      <td>B7</td>\n",
       "      <td>C7</td>\n",
       "      <td>D7</td>\n",
       "    </tr>\n",
       "    <tr>\n",
       "      <th rowspan=\"4\" valign=\"top\">z</th>\n",
       "      <th>8</th>\n",
       "      <td>A8</td>\n",
       "      <td>B8</td>\n",
       "      <td>C8</td>\n",
       "      <td>D8</td>\n",
       "    </tr>\n",
       "    <tr>\n",
       "      <th>9</th>\n",
       "      <td>A9</td>\n",
       "      <td>B9</td>\n",
       "      <td>C9</td>\n",
       "      <td>D9</td>\n",
       "    </tr>\n",
       "    <tr>\n",
       "      <th>10</th>\n",
       "      <td>A10</td>\n",
       "      <td>B10</td>\n",
       "      <td>C10</td>\n",
       "      <td>D10</td>\n",
       "    </tr>\n",
       "    <tr>\n",
       "      <th>11</th>\n",
       "      <td>A11</td>\n",
       "      <td>B11</td>\n",
       "      <td>C11</td>\n",
       "      <td>D11</td>\n",
       "    </tr>\n",
       "  </tbody>\n",
       "</table>\n",
       "</div>"
      ],
      "text/plain": [
       "        A    B    C    D\n",
       "x 0    A0   B0   C0   D0\n",
       "  1    A1   B1   C1   D1\n",
       "  2    A2   B2   C2   D2\n",
       "  3    A3   B3   C3   D3\n",
       "y 4    A4   B4   C4   D4\n",
       "  5    A5   B5   C5   D5\n",
       "  6    A6   B6   C6   D6\n",
       "  7    A7   B7   C7   D7\n",
       "z 8    A8   B8   C8   D8\n",
       "  9    A9   B9   C9   D9\n",
       "  10  A10  B10  C10  D10\n",
       "  11  A11  B11  C11  D11"
      ]
     },
     "execution_count": 154,
     "metadata": {},
     "output_type": "execute_result"
    }
   ],
   "source": [
    "pd.concat([df1, df2, df3], keys=[\"x\", \"y\", \"z\"])  # 带有 key 的拼接"
   ]
  },
  {
   "cell_type": "markdown",
   "id": "cfa34962",
   "metadata": {},
   "source": [
    "# 左右拼接\n",
    "使用参数axis进行左右拼接，默认是<font color =blue>外连接</font>"
   ]
  },
  {
   "cell_type": "code",
   "execution_count": null,
   "id": "25b3b5df",
   "metadata": {},
   "outputs": [
    {
     "data": {
      "text/html": [
       "<div>\n",
       "<style scoped>\n",
       "    .dataframe tbody tr th:only-of-type {\n",
       "        vertical-align: middle;\n",
       "    }\n",
       "\n",
       "    .dataframe tbody tr th {\n",
       "        vertical-align: top;\n",
       "    }\n",
       "\n",
       "    .dataframe thead th {\n",
       "        text-align: right;\n",
       "    }\n",
       "</style>\n",
       "<table border=\"1\" class=\"dataframe\">\n",
       "  <thead>\n",
       "    <tr style=\"text-align: right;\">\n",
       "      <th></th>\n",
       "      <th>A</th>\n",
       "      <th>B</th>\n",
       "      <th>C</th>\n",
       "      <th>D</th>\n",
       "      <th>A</th>\n",
       "      <th>B</th>\n",
       "      <th>C</th>\n",
       "      <th>D</th>\n",
       "      <th>A</th>\n",
       "      <th>B</th>\n",
       "      <th>C</th>\n",
       "      <th>D</th>\n",
       "    </tr>\n",
       "  </thead>\n",
       "  <tbody>\n",
       "    <tr>\n",
       "      <th>0</th>\n",
       "      <td>A0</td>\n",
       "      <td>B0</td>\n",
       "      <td>C0</td>\n",
       "      <td>D0</td>\n",
       "      <td>NaN</td>\n",
       "      <td>NaN</td>\n",
       "      <td>NaN</td>\n",
       "      <td>NaN</td>\n",
       "      <td>NaN</td>\n",
       "      <td>NaN</td>\n",
       "      <td>NaN</td>\n",
       "      <td>NaN</td>\n",
       "    </tr>\n",
       "    <tr>\n",
       "      <th>1</th>\n",
       "      <td>A1</td>\n",
       "      <td>B1</td>\n",
       "      <td>C1</td>\n",
       "      <td>D1</td>\n",
       "      <td>NaN</td>\n",
       "      <td>NaN</td>\n",
       "      <td>NaN</td>\n",
       "      <td>NaN</td>\n",
       "      <td>NaN</td>\n",
       "      <td>NaN</td>\n",
       "      <td>NaN</td>\n",
       "      <td>NaN</td>\n",
       "    </tr>\n",
       "    <tr>\n",
       "      <th>2</th>\n",
       "      <td>A2</td>\n",
       "      <td>B2</td>\n",
       "      <td>C2</td>\n",
       "      <td>D2</td>\n",
       "      <td>NaN</td>\n",
       "      <td>NaN</td>\n",
       "      <td>NaN</td>\n",
       "      <td>NaN</td>\n",
       "      <td>NaN</td>\n",
       "      <td>NaN</td>\n",
       "      <td>NaN</td>\n",
       "      <td>NaN</td>\n",
       "    </tr>\n",
       "    <tr>\n",
       "      <th>3</th>\n",
       "      <td>A3</td>\n",
       "      <td>B3</td>\n",
       "      <td>C3</td>\n",
       "      <td>D3</td>\n",
       "      <td>NaN</td>\n",
       "      <td>NaN</td>\n",
       "      <td>NaN</td>\n",
       "      <td>NaN</td>\n",
       "      <td>NaN</td>\n",
       "      <td>NaN</td>\n",
       "      <td>NaN</td>\n",
       "      <td>NaN</td>\n",
       "    </tr>\n",
       "    <tr>\n",
       "      <th>4</th>\n",
       "      <td>NaN</td>\n",
       "      <td>NaN</td>\n",
       "      <td>NaN</td>\n",
       "      <td>NaN</td>\n",
       "      <td>A4</td>\n",
       "      <td>B4</td>\n",
       "      <td>C4</td>\n",
       "      <td>D4</td>\n",
       "      <td>NaN</td>\n",
       "      <td>NaN</td>\n",
       "      <td>NaN</td>\n",
       "      <td>NaN</td>\n",
       "    </tr>\n",
       "    <tr>\n",
       "      <th>5</th>\n",
       "      <td>NaN</td>\n",
       "      <td>NaN</td>\n",
       "      <td>NaN</td>\n",
       "      <td>NaN</td>\n",
       "      <td>A5</td>\n",
       "      <td>B5</td>\n",
       "      <td>C5</td>\n",
       "      <td>D5</td>\n",
       "      <td>NaN</td>\n",
       "      <td>NaN</td>\n",
       "      <td>NaN</td>\n",
       "      <td>NaN</td>\n",
       "    </tr>\n",
       "    <tr>\n",
       "      <th>6</th>\n",
       "      <td>NaN</td>\n",
       "      <td>NaN</td>\n",
       "      <td>NaN</td>\n",
       "      <td>NaN</td>\n",
       "      <td>A6</td>\n",
       "      <td>B6</td>\n",
       "      <td>C6</td>\n",
       "      <td>D6</td>\n",
       "      <td>NaN</td>\n",
       "      <td>NaN</td>\n",
       "      <td>NaN</td>\n",
       "      <td>NaN</td>\n",
       "    </tr>\n",
       "    <tr>\n",
       "      <th>7</th>\n",
       "      <td>NaN</td>\n",
       "      <td>NaN</td>\n",
       "      <td>NaN</td>\n",
       "      <td>NaN</td>\n",
       "      <td>A7</td>\n",
       "      <td>B7</td>\n",
       "      <td>C7</td>\n",
       "      <td>D7</td>\n",
       "      <td>NaN</td>\n",
       "      <td>NaN</td>\n",
       "      <td>NaN</td>\n",
       "      <td>NaN</td>\n",
       "    </tr>\n",
       "    <tr>\n",
       "      <th>8</th>\n",
       "      <td>NaN</td>\n",
       "      <td>NaN</td>\n",
       "      <td>NaN</td>\n",
       "      <td>NaN</td>\n",
       "      <td>NaN</td>\n",
       "      <td>NaN</td>\n",
       "      <td>NaN</td>\n",
       "      <td>NaN</td>\n",
       "      <td>A8</td>\n",
       "      <td>B8</td>\n",
       "      <td>C8</td>\n",
       "      <td>D8</td>\n",
       "    </tr>\n",
       "    <tr>\n",
       "      <th>9</th>\n",
       "      <td>NaN</td>\n",
       "      <td>NaN</td>\n",
       "      <td>NaN</td>\n",
       "      <td>NaN</td>\n",
       "      <td>NaN</td>\n",
       "      <td>NaN</td>\n",
       "      <td>NaN</td>\n",
       "      <td>NaN</td>\n",
       "      <td>A9</td>\n",
       "      <td>B9</td>\n",
       "      <td>C9</td>\n",
       "      <td>D9</td>\n",
       "    </tr>\n",
       "    <tr>\n",
       "      <th>10</th>\n",
       "      <td>NaN</td>\n",
       "      <td>NaN</td>\n",
       "      <td>NaN</td>\n",
       "      <td>NaN</td>\n",
       "      <td>NaN</td>\n",
       "      <td>NaN</td>\n",
       "      <td>NaN</td>\n",
       "      <td>NaN</td>\n",
       "      <td>A10</td>\n",
       "      <td>B10</td>\n",
       "      <td>C10</td>\n",
       "      <td>D10</td>\n",
       "    </tr>\n",
       "    <tr>\n",
       "      <th>11</th>\n",
       "      <td>NaN</td>\n",
       "      <td>NaN</td>\n",
       "      <td>NaN</td>\n",
       "      <td>NaN</td>\n",
       "      <td>NaN</td>\n",
       "      <td>NaN</td>\n",
       "      <td>NaN</td>\n",
       "      <td>NaN</td>\n",
       "      <td>A11</td>\n",
       "      <td>B11</td>\n",
       "      <td>C11</td>\n",
       "      <td>D11</td>\n",
       "    </tr>\n",
       "  </tbody>\n",
       "</table>\n",
       "</div>"
      ],
      "text/plain": [
       "      A    B    C    D    A    B    C    D    A    B    C    D\n",
       "0    A0   B0   C0   D0  NaN  NaN  NaN  NaN  NaN  NaN  NaN  NaN\n",
       "1    A1   B1   C1   D1  NaN  NaN  NaN  NaN  NaN  NaN  NaN  NaN\n",
       "2    A2   B2   C2   D2  NaN  NaN  NaN  NaN  NaN  NaN  NaN  NaN\n",
       "3    A3   B3   C3   D3  NaN  NaN  NaN  NaN  NaN  NaN  NaN  NaN\n",
       "4   NaN  NaN  NaN  NaN   A4   B4   C4   D4  NaN  NaN  NaN  NaN\n",
       "5   NaN  NaN  NaN  NaN   A5   B5   C5   D5  NaN  NaN  NaN  NaN\n",
       "6   NaN  NaN  NaN  NaN   A6   B6   C6   D6  NaN  NaN  NaN  NaN\n",
       "7   NaN  NaN  NaN  NaN   A7   B7   C7   D7  NaN  NaN  NaN  NaN\n",
       "8   NaN  NaN  NaN  NaN  NaN  NaN  NaN  NaN   A8   B8   C8   D8\n",
       "9   NaN  NaN  NaN  NaN  NaN  NaN  NaN  NaN   A9   B9   C9   D9\n",
       "10  NaN  NaN  NaN  NaN  NaN  NaN  NaN  NaN  A10  B10  C10  D10\n",
       "11  NaN  NaN  NaN  NaN  NaN  NaN  NaN  NaN  A11  B11  C11  D11"
      ]
     },
     "execution_count": 155,
     "metadata": {},
     "output_type": "execute_result"
    }
   ],
   "source": [
    "pd.concat([df1,df2,df3],axis=1)  # 左右拼接，默认是外连接"
   ]
  },
  {
   "cell_type": "markdown",
   "id": "5f803d99",
   "metadata": {},
   "source": [
    "<font color=blue>内连接拼接</font>  \n",
    "内连接是基于共同的列或索引进行匹配，只保留所有输入 DataFrame 共有的索引行（即索引的交集），类似于数据库中的 INNER JOIN。  \n",
    " axis=0（按行拼接，纵向堆叠）且 join=\"inner\" 时，核心作用是：只保留所有输入 DataFrame 共有的列（即列名的交集），其他不共有的列会被过滤掉，最终按行拼接保留的列。"
   ]
  },
  {
   "cell_type": "code",
   "execution_count": null,
   "id": "502cba7e",
   "metadata": {},
   "outputs": [
    {
     "name": "stdout",
     "output_type": "stream",
     "text": [
      "      A    B    C    D\n",
      "0    A0   B0   C0   D0\n",
      "1    A1   B1   C1   D1\n",
      "2    A2   B2   C2   D2\n",
      "3    A3   B3   C3   D3\n",
      "4    A4   B4   C4   D4\n",
      "5    A5   B5   C5   D5\n",
      "6    A6   B6   C6   D6\n",
      "7    A7   B7   C7   D7\n",
      "8    A8   B8   C8   D8\n",
      "9    A9   B9   C9   D9\n",
      "10  A10  B10  C10  D10\n",
      "11  A11  B11  C11  D11\n"
     ]
    }
   ],
   "source": [
    "print(pd.concat([df1, df2,df3], axis=0, join=\"inner\"))"
   ]
  },
  {
   "cell_type": "markdown",
   "id": "73d21b87",
   "metadata": {},
   "source": [
    "# 使用concat添加新的列"
   ]
  },
  {
   "cell_type": "code",
   "execution_count": null,
   "id": "831e0324",
   "metadata": {},
   "outputs": [
    {
     "name": "stdout",
     "output_type": "stream",
     "text": [
      "    A   B   C   D   X\n",
      "0  A0  B0  C0  D0  X0\n",
      "1  A1  B1  C1  D1  X1\n",
      "2  A2  B2  C2  D2  X2\n",
      "3  A3  B3  C3  D3  X3\n"
     ]
    }
   ],
   "source": [
    "new_col = pd.Series([\"X0\", \"X1\", \"X2\", \"X3\"], name=\"X\")\n",
    "print(pd.concat([df1, new_col], axis=1))"
   ]
  },
  {
   "cell_type": "markdown",
   "id": "831c40bb",
   "metadata": {},
   "source": [
    "# 左右合并 merge\n",
    "merge()用于基于一个或多个键（类似SQL的JOIN操作）来合并两个DataFrame。它支持多种连接方式：inner（内连接）、outer（外连接）、left（左连接）、right（右连接）和 cross 交叉连接。\n",
    "参数\t|说明\n",
    "|----|----|\n",
    "left\t|左侧 DataFrame\n",
    "right\t|右侧 DataFrame\n",
    "how\t|合并方式，支持 'inner', 'outer', 'left', 'right'\n",
    "on\t|连接的列名（如果两侧列名不同，可使用 left_on 和 right_on）\n",
    "left_on\t|左侧 DataFrame 的连接列\n",
    "right_on\t|右侧 DataFrame 的连接列\n",
    "suffixes\t|添加后缀，以区分重复的列名"
   ]
  },
  {
   "cell_type": "markdown",
   "id": "b3b5da15",
   "metadata": {},
   "source": [
    "单个key连接"
   ]
  },
  {
   "cell_type": "code",
   "execution_count": null,
   "id": "b0880fa9",
   "metadata": {},
   "outputs": [
    {
     "name": "stdout",
     "output_type": "stream",
     "text": [
      "  key   A   B   C   D\n",
      "0  K0  A0  B0  C0  D0\n",
      "1  K1  A1  B1  C1  D1\n",
      "2  K2  A2  B2  C2  D2\n",
      "3  K3  A3  B3  C3  D3\n"
     ]
    }
   ],
   "source": [
    "left = pd.DataFrame({\n",
    "        \"key\": [\"K0\", \"K1\", \"K2\", \"K3\"],\n",
    "        \"A\": [\"A0\", \"A1\", \"A2\", \"A3\"],\n",
    "        \"B\": [\"B0\", \"B1\", \"B2\", \"B3\"],\n",
    "    })\n",
    "\n",
    "right = pd.DataFrame({\n",
    "        \"key\": [\"K0\", \"K1\", \"K2\", \"K3\"],\n",
    "        \"C\": [\"C0\", \"C1\", \"C2\", \"C3\"],\n",
    "        \"D\": [\"D0\", \"D1\", \"D2\", \"D3\"],\n",
    "    })\n",
    "\n",
    "print(pd.merge(left, right, on=\"key\"))"
   ]
  },
  {
   "cell_type": "markdown",
   "id": "0ee5fd41",
   "metadata": {},
   "source": [
    "多个key连接"
   ]
  },
  {
   "cell_type": "code",
   "execution_count": null,
   "id": "65cdb3d3",
   "metadata": {},
   "outputs": [],
   "source": [
    "left = pd.DataFrame({\n",
    "        \"key1\": [\"K0\", \"K0\", \"K1\", \"K2\"],\n",
    "        \"key2\": [\"K0\", \"K1\", \"K0\", \"K1\"],\n",
    "        \"A\": [\"A0\", \"A1\", \"A2\", \"A3\"],\n",
    "        \"B\": [\"B0\", \"B1\", \"B2\", \"B3\"],\n",
    "    })\n",
    "right = pd.DataFrame({\n",
    "        \"key1\": [\"K0\", \"K1\", \"K1\", \"K2\"],\n",
    "        \"key2\": [\"K0\", \"K0\", \"K0\", \"K0\"],\n",
    "        \"C\": [\"C0\", \"C1\", \"C2\", \"C3\"],\n",
    "        \"D\": [\"D0\", \"D1\", \"D2\", \"D3\"],\n",
    "    })"
   ]
  },
  {
   "cell_type": "markdown",
   "id": "dca3f211",
   "metadata": {},
   "source": [
    "1.inner内连接（默认）  \n",
    "只保留在 left 和 right 中 key1 和 key2 两列的值都匹配的行。没有匹配的行会被丢弃。"
   ]
  },
  {
   "cell_type": "code",
   "execution_count": null,
   "id": "af84ce00",
   "metadata": {},
   "outputs": [
    {
     "name": "stdout",
     "output_type": "stream",
     "text": [
      "  key1 key2   A   B   C   D\n",
      "0   K0   K0  A0  B0  C0  D0\n",
      "1   K1   K0  A2  B2  C1  D1\n",
      "2   K1   K0  A2  B2  C2  D2\n"
     ]
    }
   ],
   "source": [
    "print(pd.merge(left, right, on=[\"key1\", \"key2\"]))"
   ]
  },
  {
   "cell_type": "markdown",
   "id": "5518ad7c",
   "metadata": {},
   "source": [
    "2.外连接，保留两个数据框 left 和 right 中的所有行。没有匹配的部分会填充 NaN。它是最全面的合并方式，返回的是两个数据框的并集。"
   ]
  },
  {
   "cell_type": "code",
   "execution_count": null,
   "id": "20cfdb57",
   "metadata": {},
   "outputs": [
    {
     "name": "stdout",
     "output_type": "stream",
     "text": [
      "  key1 key2    A    B    C    D\n",
      "0   K0   K0   A0   B0   C0   D0\n",
      "1   K0   K1   A1   B1  NaN  NaN\n",
      "2   K1   K0   A2   B2   C1   D1\n",
      "3   K1   K0   A2   B2   C2   D2\n",
      "4   K2   K0  NaN  NaN   C3   D3\n",
      "5   K2   K1   A3   B3  NaN  NaN\n"
     ]
    }
   ],
   "source": [
    "print(pd.merge(left,right,on=[\"key1\", \"key2\"],how='outer')) # outer外连接"
   ]
  },
  {
   "cell_type": "markdown",
   "id": "71426c18",
   "metadata": {},
   "source": [
    "3.左连接，保留left所有行，右表（right）中匹配的行保留，不匹配的用 NaN 填充。"
   ]
  },
  {
   "cell_type": "code",
   "execution_count": null,
   "id": "d4ea69a3",
   "metadata": {},
   "outputs": [
    {
     "name": "stdout",
     "output_type": "stream",
     "text": [
      "  key1 key2   A   B    C    D\n",
      "0   K0   K0  A0  B0   C0   D0\n",
      "1   K0   K1  A1  B1  NaN  NaN\n",
      "2   K1   K0  A2  B2   C1   D1\n",
      "3   K1   K0  A2  B2   C2   D2\n",
      "4   K2   K1  A3  B3  NaN  NaN\n"
     ]
    }
   ],
   "source": [
    "print(pd.merge(left,right,how='left',on=['key1','key2'])) # left左连接"
   ]
  },
  {
   "cell_type": "markdown",
   "id": "0b6c3b14",
   "metadata": {},
   "source": [
    "4.右连接，保留右表（right）的所有行，左表（left）中匹配的行保留，不匹配的用 NaN 填充。"
   ]
  },
  {
   "cell_type": "code",
   "execution_count": null,
   "id": "fb79545a",
   "metadata": {},
   "outputs": [
    {
     "name": "stdout",
     "output_type": "stream",
     "text": [
      "  key1 key2    A    B   C   D\n",
      "0   K0   K0   A0   B0  C0  D0\n",
      "1   K1   K0   A2   B2  C1  D1\n",
      "2   K1   K0   A2   B2  C2  D2\n",
      "3   K2   K0  NaN  NaN  C3  D3\n"
     ]
    }
   ],
   "source": [
    "print(pd.merge(left,right,how='right',on=['key1','key2']))# right右连接"
   ]
  },
  {
   "cell_type": "markdown",
   "id": "d6b49137",
   "metadata": {},
   "source": [
    "5.cross 交叉连接,返回笛卡尔积，所有组合,不需要指定 on 参数，因为交叉连接不依赖于任何列的匹配。"
   ]
  },
  {
   "cell_type": "code",
   "execution_count": null,
   "id": "269a1a7d",
   "metadata": {},
   "outputs": [
    {
     "name": "stdout",
     "output_type": "stream",
     "text": [
      "   key1_x key2_x   A   B key1_y key2_y   C   D\n",
      "0      K0     K0  A0  B0     K0     K0  C0  D0\n",
      "1      K0     K0  A0  B0     K1     K0  C1  D1\n",
      "2      K0     K0  A0  B0     K1     K0  C2  D2\n",
      "3      K0     K0  A0  B0     K2     K0  C3  D3\n",
      "4      K0     K1  A1  B1     K0     K0  C0  D0\n",
      "5      K0     K1  A1  B1     K1     K0  C1  D1\n",
      "6      K0     K1  A1  B1     K1     K0  C2  D2\n",
      "7      K0     K1  A1  B1     K2     K0  C3  D3\n",
      "8      K1     K0  A2  B2     K0     K0  C0  D0\n",
      "9      K1     K0  A2  B2     K1     K0  C1  D1\n",
      "10     K1     K0  A2  B2     K1     K0  C2  D2\n",
      "11     K1     K0  A2  B2     K2     K0  C3  D3\n",
      "12     K2     K1  A3  B3     K0     K0  C0  D0\n",
      "13     K2     K1  A3  B3     K1     K0  C1  D1\n",
      "14     K2     K1  A3  B3     K1     K0  C2  D2\n",
      "15     K2     K1  A3  B3     K2     K0  C3  D3\n"
     ]
    }
   ],
   "source": [
    "print(pd.merge(left,right,how='cross'))"
   ]
  },
  {
   "cell_type": "markdown",
   "id": "8d1a4454",
   "metadata": {},
   "source": [
    "# 索引连接 join\n",
    "join()是基于索引来连接两个DataFrame的。如果需要根据索引（行标签）将两个DataFrame合并，可以使用join()。"
   ]
  },
  {
   "cell_type": "markdown",
   "id": "51208a34",
   "metadata": {},
   "source": [
    "join默认使用left连接"
   ]
  },
  {
   "cell_type": "code",
   "execution_count": null,
   "id": "dfda3cd4",
   "metadata": {},
   "outputs": [
    {
     "name": "stdout",
     "output_type": "stream",
     "text": [
      "     A   B    C    D\n",
      "K0  A0  B0   C0   D0\n",
      "K1  A1  B1  NaN  NaN\n",
      "K2  A2  B2   C2   D2\n"
     ]
    }
   ],
   "source": [
    "left = pd.DataFrame({\n",
    "        \"A\": [\"A0\", \"A1\", \"A2\"],\n",
    "        \"B\": [\"B0\", \"B1\", \"B2\"]\n",
    "    }, index=[\"K0\", \"K1\", \"K2\"])\n",
    "\n",
    "right = pd.DataFrame({\n",
    "        \"C\": [\"C0\", \"C2\", \"C3\"],\n",
    "        \"D\": [\"D0\", \"D2\", \"D3\"]\n",
    "    }, index=[\"K0\", \"K2\", \"K3\"])\n",
    "\n",
    "# join 默认 how=\"left\"\n",
    "print(left.join(right))"
   ]
  },
  {
   "cell_type": "markdown",
   "id": "70806769",
   "metadata": {},
   "source": [
    " right 右连接"
   ]
  },
  {
   "cell_type": "code",
   "execution_count": null,
   "id": "d6eb7b43",
   "metadata": {},
   "outputs": [
    {
     "name": "stdout",
     "output_type": "stream",
     "text": [
      "      A    B   C   D\n",
      "K0   A0   B0  C0  D0\n",
      "K2   A2   B2  C2  D2\n",
      "K3  NaN  NaN  C3  D3\n"
     ]
    }
   ],
   "source": [
    "print(left.join(right, how=\"right\"))"
   ]
  },
  {
   "cell_type": "markdown",
   "id": "f1f479eb",
   "metadata": {},
   "source": [
    "内连接"
   ]
  },
  {
   "cell_type": "code",
   "execution_count": null,
   "id": "fc3482ed",
   "metadata": {},
   "outputs": [
    {
     "name": "stdout",
     "output_type": "stream",
     "text": [
      "     A   B   C   D\n",
      "K0  A0  B0  C0  D0\n",
      "K2  A2  B2  C2  D2\n"
     ]
    }
   ],
   "source": [
    "print(left.join(right, how=\"inner\"))"
   ]
  },
  {
   "cell_type": "markdown",
   "id": "49510721",
   "metadata": {},
   "source": [
    "此外还有outer和cross"
   ]
  },
  {
   "cell_type": "markdown",
   "id": "74e48dfa",
   "metadata": {},
   "source": [
    "指定列连接 join\n",
    "如果 left 和 right 数据框中有公共列（如 key），我们可以使用 on 参数指定按列进行连接，而不是使用索引。"
   ]
  },
  {
   "cell_type": "code",
   "execution_count": null,
   "id": "00ad4d41",
   "metadata": {},
   "outputs": [
    {
     "name": "stdout",
     "output_type": "stream",
     "text": [
      "    A   B key   C   D\n",
      "0  A0  B0  K0  C0  D0\n",
      "1  A1  B1  K1  C1  D1\n",
      "2  A2  B2  K0  C0  D0\n",
      "3  A3  B3  K1  C1  D1\n"
     ]
    }
   ],
   "source": [
    "left = pd.DataFrame({\n",
    "        \"A\": [\"A0\", \"A1\", \"A2\", \"A3\"],\n",
    "        \"B\": [\"B0\", \"B1\", \"B2\", \"B3\"],\n",
    "        \"key\": [\"K0\", \"K1\", \"K0\", \"K1\"],\n",
    "    })\n",
    "\n",
    "right = pd.DataFrame({\n",
    "        \"C\": [\"C0\", \"C1\"],\n",
    "        \"D\": [\"D0\", \"D1\"]\n",
    "    }, index=[\"K0\", \"K1\"])\n",
    "\n",
    "print(left.join(right, on=\"key\"))"
   ]
  },
  {
   "cell_type": "markdown",
   "id": "53a2ffac",
   "metadata": {},
   "source": [
    "# CSV文件处理\n"
   ]
  }
 ],
 "metadata": {
  "kernelspec": {
   "display_name": "geo",
   "language": "python",
   "name": "python3"
  },
  "language_info": {
   "codemirror_mode": {
    "name": "ipython",
    "version": 3
   },
   "file_extension": ".py",
   "mimetype": "text/x-python",
   "name": "python",
   "nbconvert_exporter": "python",
   "pygments_lexer": "ipython3",
   "version": "3.12.3"
  }
 },
 "nbformat": 4,
 "nbformat_minor": 5
}
