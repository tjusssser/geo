{
 "cells": [
  {
   "cell_type": "code",
   "execution_count": null,
   "id": "8f7afc7e",
   "metadata": {},
   "outputs": [],
   "source": [
    "import rasterio\n",
    "import rasterio.plot\n",
    "import matplotlib.pyplot as plt\n",
    "import numpy as np\n",
    "import geopandas as gpd\n",
    "from pathlib import Path"
   ]
  },
  {
   "cell_type": "markdown",
   "id": "63bb83b8",
   "metadata": {},
   "source": [
    "### 一、打开raster 数据。\n",
    "`rasterio.open(path,mode,driver,width,height,count,dtype,crs,transform,nodata,**kwargs)`\n",
    "### 函数作用：打开栅格文件，创建一个数据集对象，用于读取或写入栅格数据。\n",
    "### 返回一个rasterio.io.DatasetReader或者rasterio.io.DatasetWrite对象\n",
    "参数|详解\n",
    "|----|----|\n",
    "path：|字符串，文件路径或 URL\n",
    "mode：|字符串，操作模式，默认为 'r'\n",
    "driver：|字符串，指定文件格式驱动（如 'GTiff'、'JPEG' 等）\n",
    "width：|整数，图像宽度（写入时必需）\n",
    "height：|整数，图像高度（写入时必需）\n",
    "count：|整数，波段数量（写入时必需）\n",
    "dtype：|数据类型（如 np.uint8、np.float32 等，写入时必需）\n",
    "crs：|坐标系统，可接受 EPSG 代码、Proj4 字符串或 CRS 对象\n",
    "transform：|仿射变换矩阵，可接受 Affine 对象或 6 元素元组\n",
    "nodata：|指定无数据值\n",
    "**kwargs：|其他格式特定参数\n"
   ]
  },
  {
   "cell_type": "code",
   "execution_count": null,
   "id": "a634ffc6",
   "metadata": {},
   "outputs": [],
   "source": [
    "with rasterio.open(\"https://github.com/opengeos/datasets/releases/download/raster/dem_90m.tif\") as src:\n",
    "    pass\n",
    "\n",
    "\"\"\"或者src = rasterio.open(  \"https://github.com/opengeos/datasets/releases/download/raster/dem_90m.tif\"  )\"\"\""
   ]
  },
  {
   "cell_type": "markdown",
   "id": "a0112ba5",
   "metadata": {},
   "source": [
    "### 1.1获取文件名和openmode\n",
    "src.mode  \n",
    "    .name"
   ]
  },
  {
   "cell_type": "markdown",
   "id": "bafdfeeb",
   "metadata": {},
   "source": [
    "### 1.2获取文件元数据\n",
    "src.crs：返回坐标系统（rasterio.crs.CRS对象）  \n",
    ".transform：返回仿射变换矩阵（affine.Affine对象）  \n",
    ".bounds：返回地理边界（左、下、右、上）  返回BoundingBox (left, bottom, right, top) ,可以用.bounds.left访问\n",
    ".width/height：返回图像宽度 / 高度  \n",
    ".count：返回波段数量  \n",
    ".dtypes：返回各波段数据类型  \n",
    ".nodata：返回无数据值  \n",
    ".profile：返回完整元数据字典  \n",
    "    .meta 返回简略元数据字典  \n",
    "    .indexes 所有波段的索引  \n",
    "    .res 获取空间分辨率"
   ]
  },
  {
   "cell_type": "markdown",
   "id": "f5194096",
   "metadata": {},
   "source": [
    "#### 1.2.1 .bounds 属性来自一个更基本的属性：数据集的地理空间转换。\n",
    "\n",
    "` src.transform`>>>Affine(30.0, 0.0, 358485.0,0.0, -30.0, 4265115.0)\n",
    "\n"
   ]
  },
  {
   "attachments": {
    "image.png": {
     "image/png": "[encoded data removed]"
    }
   },
   "cell_type": "markdown",
   "id": "f28b6f92",
   "metadata": {},
   "source": [
    ".transform返回一个tif格式对应的tfw文件里的六参数  \n",
    "![image.png](attachment:image.png)  \n"
   ]
  },
  {
   "cell_type": "markdown",
   "id": "649cdf81",
   "metadata": {},
   "source": [
    "### 直接用src.transform*(row,col)可以获得该像元对应的地理空间坐标"
   ]
  },
  {
   "cell_type": "code",
   "execution_count": null,
   "id": "cf56bb26",
   "metadata": {},
   "outputs": [],
   "source": [
    "#获得右下角的位置。\n",
    ">>> dataset.transform * (dataset.width, dataset.height)\n",
    "(590415.0, 4028985.0)"
   ]
  },
  {
   "cell_type": "markdown",
   "id": "e475b6c1",
   "metadata": {},
   "source": [
    "PS:src.transform和GDALDataset.GetGeoTransform不同  \n",
    "X_geo = GT(0) + X_pixel * GT(1) + Y_line * GT(2)  \n",
    "Y_geo = GT(3) + X_pixel * GT(4) + Y_line * GT(5)  \n",
    "GT(0) 左上像素左上角的x坐标。  \n",
    "GT(1) w-e像素分辨率/像素宽度。  \n",
    "GT(2) 行旋转（通常为零）。  \n",
    "GT(3) 左上像素左上角的y坐标。  \n",
    "GT(4) 列旋转（通常为零）。  \n",
    "GT(5) n-s像素分辨率/像素高度（北上图像为负值）。    "
   ]
  },
  {
   "cell_type": "markdown",
   "id": "904b1be5",
   "metadata": {},
   "source": [
    "### 1.2.2 获取各个波段对应的数据类型字典，这样做\n",
    "\n",
    "`dict = {i: dtype for i, dtype in zip(dataset.indexes, dataset.dtypes)}`"
   ]
  },
  {
   "cell_type": "markdown",
   "id": "80db4625",
   "metadata": {},
   "source": [
    "## 二、读取raster数据"
   ]
  },
  {
   "cell_type": "markdown",
   "id": "f6bb41fd",
   "metadata": {},
   "source": [
    "## `src.read() `\n",
    "作用：读取一个或多个波段的数据到 NumPy 数组  \n",
    "参数：  \n",
    "indexes：整数或整数列表，指定要读取的波段索引（从 1 开始）  \n",
    "window：Window对象，指定读取的像素窗口  \n",
    "out：预先分配的数组，用于存储输出  \n",
    "masked：布尔值，是否返回MaskedArray  \n",
    "boundless：布尔值，是否允许超出边界的窗口  \n",
    "fill_value：边界外区域的填充值"
   ]
  },
  {
   "cell_type": "markdown",
   "id": "7a91b762",
   "metadata": {},
   "source": [
    "返回值：  \n",
    "单波段：2D NumPy 数组（行 × 列）  \n",
    "多波段：3D NumPy 数组（波段 × 行 × 列）  "
   ]
  },
  {
   "cell_type": "code",
   "execution_count": null,
   "id": "34ee3025",
   "metadata": {},
   "outputs": [],
   "source": [
    "with rasterio.open(\"https://github.com/opengeos/datasets/releases/download/raster/dem_90m.tif\") as dataset:\n",
    "    band1 = dataset.read(1)  # 读取第一个波段的数据\n",
    "    print(band1.shape)  # 输出波段数据的形状\n",
    "    print(band1) \n",
    "    print(dataset.profile)  # 输出数据集的元数据\n",
    "    print(dataset.dtypes)  # 输出数据类型"
   ]
  },
  {
   "cell_type": "markdown",
   "id": "464eec31",
   "metadata": {},
   "source": [
    "由行列号（row,col）获取naddary值"
   ]
  },
  {
   "cell_type": "code",
   "execution_count": null,
   "id": "92b3cf49",
   "metadata": {},
   "outputs": [],
   "source": [
    "band1[dataset.height//2, dataset.width//2]  # 获取中心点的值"
   ]
  },
  {
   "cell_type": "markdown",
   "id": "92e02a7c",
   "metadata": {},
   "source": [
    "### 三、写入raster数据"
   ]
  },
  {
   "cell_type": "markdown",
   "id": "186d72be",
   "metadata": {},
   "source": [
    "### `src.write() `\n"
   ]
  },
  {
   "cell_type": "markdown",
   "id": "71e4cb86",
   "metadata": {},
   "source": [
    "作用：将数据写入一个或多个波段  \n",
    "参数：  \n",
    "data：NumPy 数组，要写入的数据  \n",
    "indexes：整数或整数列表，指定写入的波段索引"
   ]
  },
  {
   "cell_type": "code",
   "execution_count": null,
   "id": "be3c268f",
   "metadata": {},
   "outputs": [],
   "source": [
    "with rasterio.open(\"..\\data\\dem90m.tif\",mode='w',driver='GTiff',width=dataset.width,height=dataset.height,crs=dataset.crs\n",
    "    ,transform=dataset.transform,count=1,dtype=dataset.dtypes[0]) as src:\n",
    "    src.write(band1,indexes=1)  # 将数据写入第一个波段\n",
    "Path(\"..\\data\\dem90m.tif\").exists()  # 检查文件是否存在"
   ]
  },
  {
   "cell_type": "code",
   "execution_count": null,
   "id": "e89b6bb9",
   "metadata": {},
   "outputs": [],
   "source": [
    "with rasterio.open(\"..\\data\\dem90m.tif\") as dataset:\n",
    "    rasterio.plot.show(dataset)  # 显示栅格数据"
   ]
  },
  {
   "cell_type": "markdown",
   "id": "fe32e839",
   "metadata": {},
   "source": [
    "### 四、地理参考与空间坐标变换"
   ]
  },
  {
   "cell_type": "markdown",
   "id": "2f605084",
   "metadata": {},
   "source": [
    "#### 4.1  from_origin() 函数\n",
    "如果想构建仿射变换，可以用rasterio.transform.from_origin()函数      \n",
    "`from rasterio.transform import from_origin  `\n",
    "`rasterio.transform.from_origin(west,nort,xsize,ysize)`     \n",
    "返回值：affine.Affine对象   \n",
    "参数：    \n",
    "west：左上角 x 地理坐标    \n",
    "north：左上角 y 地理坐标    \n",
    "xsize：x 方向分辨率（像素宽度）     \n",
    "ysize：y 方向分辨率（像素高度，通常为负值）"
   ]
  },
  {
   "cell_type": "code",
   "execution_count": null,
   "id": "4259bd2b",
   "metadata": {},
   "outputs": [],
   "source": [
    "from_origin() 通常在创建新的栅格数据集时使用"
   ]
  },
  {
   "cell_type": "markdown",
   "id": "965ecb66",
   "metadata": {},
   "source": [
    "#### 4.2 rowcol() 函数\n",
    "如果已知地理坐标，想转换为像素行列号，使用rasterio.transform.rowcol()函数   \n",
    "`from rasterio.transform import rowcol  `   \n",
    "`rowcol(transfrom,xs,ys,op)`    \n",
    "或者src.rowcol() 方法\n",
    "返回值：(行号，列号) 元组       \n",
    "参数：      \n",
    "transform：仿射变换矩阵     \n",
    "xs：x 坐标（单个值或数组）  \n",
    "ys：y 坐标（单个值或数组）  \n",
    "op：处理浮点坐标的函数（如np.floor、np.round）"
   ]
  },
  {
   "cell_type": "markdown",
   "id": "14417678",
   "metadata": {},
   "source": [
    "***ps:src.rowcol()是src.index(x,y )的前置版本***"
   ]
  },
  {
   "cell_type": "code",
   "execution_count": null,
   "id": "c46c9d32",
   "metadata": {},
   "outputs": [],
   "source": [
    "from rasterio.transform import rowcol,from_origin\n",
    "x,y = (100,150,170),(35,45,50)\n",
    "row,col = rowcol(from_origin(100,30,1,-1),xs=x,ys=y,op=np.floor)\n",
    "print(row,col)\n",
    "for row,col in zip(row,col):\n",
    "    print(f'row:{row},col:{col}')"
   ]
  },
  {
   "cell_type": "markdown",
   "id": "ea6ced31",
   "metadata": {},
   "source": [
    "#### 4.3 xy() 函数\n",
    "如果已知行列号(row,col)想要获取地理坐标，使用rasterio.transform.xy()函数    \n",
    "返回值：(x 坐标，y 坐标) 元组   \n",
    "`from rasterio.transform import xy  `       \n",
    "`xy(transform,rows,cols,offset)`   \n",
    "或者 src.xy()   \n",
    "参数：      \n",
    "transform：仿射变换矩阵     \n",
    "rows：行号（单个值或数组）      \n",
    "cols：列号（单个值或数组）  \n",
    "offset：坐标偏移，0.0 为左上角，0.5 为中心  "
   ]
  },
  {
   "cell_type": "code",
   "execution_count": null,
   "id": "f2b08b65",
   "metadata": {},
   "outputs": [],
   "source": [
    "with rasterio.open('../data/dem90m.tif') as src:\n",
    "    row, col = 100, 150               # 行、列索引（0 起始）\n",
    "    x, y = src.xy(row, col)           # 默认 offset='center'\n",
    "    print(f'像素 (row={row}, col={col}) 的中心坐标为 ({x}, {y})')\n",
    "    print(f'像素 (row={row}, col={col}) 的值是 {src.read(1)[row, col]}')"
   ]
  },
  {
   "cell_type": "markdown",
   "id": "73863be4",
   "metadata": {},
   "source": [
    "### 五、rasterio.wrap模块\n"
   ]
  },
  {
   "cell_type": "markdown",
   "id": "fb8a3096",
   "metadata": {},
   "source": [
    "### 5.1 reproject()函数\n",
    "作用：将栅格数据从一个坐标系统重投影到另一个坐标系统。\n",
    "`from rasterio.warp import reproject,Resampling`    \n",
    "`reproject(source, destination, src_transform, src_crs, dst_transform, dst_crs, resampling=Resampling.nearest, num_threads=1)`  \n",
    "参数：  \n",
    "source：源数据，可以是数组、波段对象或数据集    \n",
    "destination：目标数组或波段对象     \n",
    "src_transform：源数据仿射变换   \n",
    "src_crs：源数据坐标系统     \n",
    "dst_transform：目标数据仿射变换     \n",
    "dst_crs：目标数据坐标系统   \n",
    "resampling：重采样方法（Resampling枚举）    \n",
    "num_threads：用于并行处理的线程数   "
   ]
  },
  {
   "cell_type": "markdown",
   "id": "1d26e18b",
   "metadata": {},
   "source": [
    "### 5.2  calculate_default_transform() 函数"
   ]
  },
  {
   "cell_type": "markdown",
   "id": "ac0be30f",
   "metadata": {},
   "source": [
    "作用：计算重投影的默认变换参数和尺寸    \n",
    "`from rasterio.warp import calculate_default_transform`     \n",
    "`calculate_default_transform(src_crs, dst_crs, width, height,resolution, *bounds)`    \n",
    "参数：  \n",
    "src_crs：源坐标系统     \n",
    "dst_crs：目标坐标系统   \n",
    "width：源数据宽度   \n",
    "height：源数据高度  \n",
    "resolution：目标分辨率(1000,1000)单位米或者度,\n",
    "\n",
    "left/bottom/right/top：源数据地理边界   用*src.bounds代替      \n",
    "返回值：(transform, width, height) 元组 "
   ]
  },
  {
   "cell_type": "markdown",
   "id": "cc12dd00",
   "metadata": {},
   "source": [
    "#### ps：重投影一般方法"
   ]
  },
  {
   "cell_type": "markdown",
   "id": "7a83f726",
   "metadata": {},
   "source": [
    "1.打开src   \n",
    "2. 基于dst.crs和src.meta计算dst.transform(calculate_default_transform)      \n",
    "3. 更新元数据信息profile=src.meta.copy()    \n",
    "4. 打开dst,键入fp,mode,**profile        \n",
    "5. 遍历src.read(i),     \n",
    "6. 创建目标空数组，dst_array = np.empty((dst_height, dst_width), dtype=profile['dtype'])，  \n",
    "7. 使用reproject将 重投影后数据写入dst_array    \n",
    "8. dst.write(dst_array, i)  \n",
    "   "
   ]
  },
  {
   "cell_type": "code",
   "execution_count": 53,
   "id": "f7a61353",
   "metadata": {},
   "outputs": [
    {
     "name": "stdout",
     "output_type": "stream",
     "text": [
      "{'driver': 'GTiff', 'dtype': 'int16', 'nodata': None, 'width': 4269, 'height': 3113, 'count': 1, 'crs': CRS.from_epsg(3857), 'transform': Affine(90.0, 0.0, -13442488.3428,\n",
      "       0.0, -89.99579177642138, 4668371.5775)}\n",
      "{'driver': 'GTiff', 'dtype': 'int16', 'nodata': None, 'width': 4269, 'height': 3113, 'count': 1, 'crs': CRS.from_epsg(3857), 'transform': Affine(90.0, 0.0, -13442488.3428,\n",
      "       0.0, -89.99579177642138, 4668371.5775), 'blockysize': 1, 'tiled': False, 'interleave': 'band'}\n",
      "(90.0, 89.99579177642138)\n",
      "BoundingBox(left=-13442488.3428, bottom=4388214.6777, right=-13058278.3428, top=4668371.5775)\n",
      "GTiff\n",
      "1\n",
      "('int16',)\n"
     ]
    }
   ],
   "source": [
    "#查看元数据字典\n",
    "with rasterio.open('../data/dem90m_3857.tif',mode='r',driver='GTiff') as src:\n",
    "    print(src.meta)\n",
    "    print(src.profile)\n",
    "    print(src.res)\n",
    "    print(src.bounds)\n",
    "    print(src.driver)\n",
    "    print(src.count)\n",
    "    print(src.dtypes)"
   ]
  },
  {
   "cell_type": "code",
   "execution_count": 67,
   "id": "ffd9498b",
   "metadata": {},
   "outputs": [],
   "source": [
    "from rasterio.warp  import reproject,calculate_default_transform,Resampling\n",
    "import rasterio\n",
    "import numpy as np\n",
    "#dst_crs\n",
    "dst_crs = 'EPSG:4326'\n",
    "#打开dem90m_3857.tif\n",
    "src = rasterio.open('../data/dem90m_3857.tif',mode='r',driver='GTiff')\n",
    "dst_transform,dst_width,dst_height = calculate_default_transform(\n",
    "src.crs,dst_crs,\n",
    "src.width,\n",
    "src.height,\n",
    "resolution=(0.00045,0.00045),\n",
    "*src.bounds)\n",
    "#设置目标元数据\n",
    "profile={\n",
    "    'driver': src.driver, \n",
    "    'dtype': src.dtypes[0], \n",
    "    'nodata': src.nodata, \n",
    "    'width': dst_width, \n",
    "    'height': dst_height, \n",
    "    'count': src.count, \n",
    "    'crs':dst_crs , \n",
    "    'transform': dst_transform,\n",
    "}\n",
    "#打开目标路径dem50m_4326.tif\n",
    "with rasterio.open('../data/dem50m_4326.tif',mode='w',**profile) as dst:\n",
    "    for i in range(1,src.count+1):\n",
    "        #读取src第i个波段数据\n",
    "        src_array = src.read(i)\n",
    "        #创建空数组\n",
    "        dst_array = np.empty(shape=(dst.height,dst.width),dtype=src.dtypes[i-1])\n",
    "        #重投影\n",
    "        reproject(\n",
    "            #源文件参数\n",
    "            source=src_array,\n",
    "            src_transform=src.transform,\n",
    "            src_crs=src.crs,\n",
    "            #目标文件参数\n",
    "            destination=dst_array,\n",
    "            dst_transform=dst.transform,\n",
    "            dst_crs=dst_crs,\n",
    "            #重投影方法\n",
    "            resampling=Resampling.bilinear\n",
    "                )\n",
    "       #写入目标文件第i个波段\n",
    "        dst.write(dst_array,i)\n",
    "src.close()"
   ]
  },
  {
   "cell_type": "code",
   "execution_count": 68,
   "id": "5a522608",
   "metadata": {},
   "outputs": [
    {
     "name": "stdout",
     "output_type": "stream",
     "text": [
      "{'driver': 'GTiff', 'dtype': 'int16', 'nodata': None, 'width': 7669, 'height': 4429, 'count': 1, 'crs': CRS.from_epsg(4326), 'transform': Affine(0.00045, 0.0, -120.75592734935736,\n",
      "       0.0, -0.00045, 38.62692343418839)}\n"
     ]
    }
   ],
   "source": [
    "#读取重投影后文件的元数据\n",
    "dst = rasterio.open('../data/dem50m_4326.tif',mode='r')\n",
    "print(dst.meta)"
   ]
  }
 ],
 "metadata": {
  "kernelspec": {
   "display_name": "geo",
   "language": "python",
   "name": "python3"
  },
  "language_info": {
   "codemirror_mode": {
    "name": "ipython",
    "version": 3
   },
   "file_extension": ".py",
   "mimetype": "text/x-python",
   "name": "python",
   "nbconvert_exporter": "python",
   "pygments_lexer": "ipython3",
   "version": "3.12.3"
  }
 },
 "nbformat": 4,
 "nbformat_minor": 5
}
