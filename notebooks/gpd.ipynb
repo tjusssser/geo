{
 "cells": [
  {
   "cell_type": "markdown",
   "id": "937e841a",
   "metadata": {},
   "source": [
    "### 导入gpd包"
   ]
  },
  {
   "cell_type": "code",
   "execution_count": null,
   "id": "8b8c01eb",
   "metadata": {},
   "outputs": [],
   "source": [
    "import geopandas as gpd\n",
    "import pandas as pd\n",
    "from shapely.geometry import Point"
   ]
  },
  {
   "cell_type": "markdown",
   "id": "4abba008",
   "metadata": {},
   "source": [
    "### gpd的核心数据结构是geodataframe和geoseries，它们是pandas.dataframe和series的子类。\n",
    "\n",
    "### gdf和gse的不同点在于，增加了***几何列：geometry***，和***坐标系：crs***\n"
   ]
  },
  {
   "cell_type": "markdown",
   "id": "57f3ea26",
   "metadata": {},
   "source": [
    "### GeoSeries 是存储单个几何类型（如全部是点，或全部是面）的一维数组，每个元素是 Shapely 几何对象（Point、LineString、Polygon 等）。"
   ]
  },
  {
   "cell_type": "markdown",
   "id": "7645e24a",
   "metadata": {},
   "source": [
    "#### 1.通过sharely几何对象，Point创建"
   ]
  },
  {
   "cell_type": "code",
   "execution_count": null,
   "id": "748803c8",
   "metadata": {},
   "outputs": [],
   "source": [
    "points = [\n",
    "    Point(116.3, 39.9),  # 北京（经纬度）\n",
    "    Point(121.4, 31.2),  # 上海\n",
    "    Point(113.2, 23.1)   # 广州\n",
    "]\n",
    "#指定crs\n",
    "crs = 'EPSG:4362'\n",
    "geo_points = gpd.GeoSeries(points,crs=crs)\n",
    "display(geo_points)"
   ]
  },
  {
   "cell_type": "markdown",
   "id": "7af6ac2f",
   "metadata": {},
   "source": [
    "### GeoDataFrame 是二维表格数据，包含多个属性列（如名称、人口等）和一个特殊的 “geometry” 列（存储几何对象），所有几何对象必须属于同一坐标系。"
   ]
  },
  {
   "cell_type": "markdown",
   "id": "1abff39f",
   "metadata": {},
   "source": [
    "### 1.先创建常规pandas.df，再指定geometry，创建gdf`"
   ]
  },
  {
   "cell_type": "code",
   "execution_count": null,
   "id": "00794154",
   "metadata": {},
   "outputs": [],
   "source": [
    "# 从坐标数据创建GeoDataFrame\n",
    "data = {\n",
    "\"City\": [\"Tokyo\", \"New York\", \"London\", \"Paris\"],\n",
    "\"Latitude\": [35.6895, 40.7128, 51.5074, 48.8566],\n",
    "\"Longitude\": [139.6917, -74.0060, -0.1278, 2.3522],\n",
    "}\n",
    "df = pd.DataFrame(data)\n",
    "#指定几何列\n",
    "gdf = gpd.GeoDataFrame(df,geometry=gpd.points_from_xy(df.Longitude, df.Latitude))\n",
    "display(gdf)"
   ]
  },
  {
   "cell_type": "markdown",
   "id": "8763fb35",
   "metadata": {},
   "source": [
    "gpd.points_from_xy() 函数是一个便利方法，从单独的经度（x）和纬度（y）列创建 Point 几何。\n",
    "注意经度在前（x 坐标），然后是纬度（y 坐标）——这遵循标准数学约定"
   ]
  },
  {
   "cell_type": "markdown",
   "id": "5abc159d",
   "metadata": {},
   "source": [
    "### 2.直接创建包含geometry的gdf"
   ]
  },
  {
   "cell_type": "code",
   "execution_count": null,
   "id": "064be232",
   "metadata": {},
   "outputs": [],
   "source": [
    "# 从坐标数据创建GeoDataFrame\n",
    "data = {\n",
    "\"City\": [\"Tokyo\", \"New York\", \"London\", \"Paris\"],\n",
    "\"Latitude\": [35.6895, 40.7128, 51.5074, 48.8566],\n",
    "\"Longitude\": [139.6917, -74.0060, -0.1278, 2.3522],\n",
    "'geometry':[\n",
    "    Point(139.6917, 35.6895),   # Tokyo \n",
    "    Point(-74.0060, 40.7128),  # New York\n",
    "    Point(-0.1278, 51.5074),   # London \n",
    "    Point(2.3522, 48.8566)     # Paris\n",
    "]\n",
    "}\n",
    "\"\"\"或者\n",
    "        data = {\n",
    "    \"City\": [\"Tokyo\", \"New York\", \"London\", \"Paris\"],\n",
    "    \"Latitude\": [35.6895, 40.7128, 51.5074, 48.8566],\n",
    "    \"Longitude\": [139.6917, -74.0060, -0.1278, 2.3522],\n",
    "    'geometry':gpd.points_from_xy([139.6917, -74.0060, -0.1278, 2.3522], [35.6895, 40.7128, 51.5074, 48.8566])\n",
    "    }\n",
    "\"\"\"\n",
    "gdf = gpd.GeoDataFrame(data,geometry='geometry')\n",
    "display(gdf)"
   ]
  },
  {
   "cell_type": "markdown",
   "id": "3d29d2d4",
   "metadata": {},
   "source": [
    "需要导入Point类，from shapely.geometry import Point"
   ]
  },
  {
   "cell_type": "markdown",
   "id": "cad6bfb9",
   "metadata": {},
   "source": [
    "### GDF关键属性和方法\n",
    "属性\\ 方法\t|说明\n",
    "|----|----|\n",
    "gdf.geometry\t|返回几何列（GeoSeries）\n",
    "gpd.geometry.x/y|读取经度/纬度，series\n",
    "gdf.crs|\t指定或者返回坐标系信息（如 EPSG:4326）\n",
    "gdf.to_crs|转换为其他坐标系，返回新数据或在元数据上修改\n",
    "gdf.bounds|\t返回每个几何的外接矩形（minx, miny, maxx, maxy）\n",
    "gdf.total_bounds|\t返回整个数据集的外接矩形\n",
    "gdf.shape|\t返回数据维度（行数，列数）\n",
    "gdf.set_index()|设置索引，可选择columns"
   ]
  },
  {
   "cell_type": "code",
   "execution_count": null,
   "id": "99ffea9e",
   "metadata": {},
   "outputs": [],
   "source": [
    "#支持直接修改crs\n",
    "print(\"CRS:\", gdf.crs)\n",
    "gdf.crs = 'EPSG:4326'  # WGS84\n",
    "print(\"CRS:\", gdf.crs)\n",
    "#转换坐标系\n",
    "gdf_new = gdf.to_crs('EPSG:3857')  # Web Merc\n",
    "print(\"New CRS:\", gdf_new.crs)\n",
    "display(gdf_new)\n",
    "#返回total外接矩形\n",
    "bounds = gdf.total_bounds\n",
    "print(\"Total Bounds:\", bounds)  # (minx, miny, maxx, maxy)\n",
    "#几何列\n",
    "geometry = gdf.geometry\n",
    "print(\"Geometry Column:\\n\", geometry)\n",
    "metry_x = gdf.geometry.x\n",
    "print(\"Geometry X:\\n\", metry_x)\n",
    "#数据维度\n",
    "shape = gdf.shape\n",
    "print(\"Shape:\", shape)  # (rows, columns)\n",
    "#设置索引\n",
    "gdf = gdf.set_index('City')\n",
    "display(gdf)"
   ]
  },
  {
   "cell_type": "markdown",
   "id": "99ca5b97",
   "metadata": {},
   "source": [
    "## 文件读取\n",
    "### gpd.read_file()函数自动检测文件格式和坐标系统，加载几何形状及其关联属性\n",
    "可以读取.geojson,.shp文件等，***csv文件需要用pd读取***"
   ]
  },
  {
   "cell_type": "code",
   "execution_count": null,
   "id": "51d66cd1",
   "metadata": {},
   "outputs": [],
   "source": [
    "# 1. 读取 Shapefile（.shp）\n",
    "gdf = gpd.read_file(\"path/to/shapefile.shp\")\n",
    "\n",
    "# 2. 读取 GeoJSON（.geojson）\n",
    "gdf = gpd.read_file(\"path/to/data.geojson\")"
   ]
  },
  {
   "cell_type": "markdown",
   "id": "c9cc4d24",
   "metadata": {},
   "source": [
    "### csv读取\n",
    "1.df = pd.read_csv()  \n",
    "2.gpd.GeoDataFrame(df,...)"
   ]
  },
  {
   "cell_type": "code",
   "execution_count": null,
   "id": "23acecb7",
   "metadata": {},
   "outputs": [],
   "source": [
    "\n",
    "# 3. 读取 CSV（需指定经纬度列转换为几何）\n",
    "import pandas as pd\n",
    "df = pd.read_csv(\"path/to/cities.csv\")  # 包含 lon, lat 列\n",
    "gdf = gpd.GeoDataFrame(\n",
    "    df,\n",
    "    geometry=gpd.points_from_xy(df[\"lon\"], df[\"lat\"]),\n",
    "    crs=\"EPSG:4326\"\n",
    ")"
   ]
  },
  {
   "cell_type": "markdown",
   "id": "671f89e7",
   "metadata": {},
   "source": [
    "### 文件写入\n",
    "对于geojson和shapefile\n",
    "### gpd.to_file(path_name,***driver=\"GeoJSON\"***)"
   ]
  },
  {
   "cell_type": "code",
   "execution_count": null,
   "id": "7f1414d8",
   "metadata": {},
   "outputs": [],
   "source": [
    "#1. 写入 Shapefile\n",
    "gdf.to_file(\"output/cities.shp\")\n",
    "\n",
    "# 2. 写入 GeoJSON\n",
    "gdf.to_file(\"output/cities.geojson\", driver=\"GeoJSON\")"
   ]
  },
  {
   "cell_type": "markdown",
   "id": "fa924410",
   "metadata": {},
   "source": [
    "GeoPandas GeoDataFrame 本身没有一个直接将几何对象（如 Point, Polygon 等）以其原生格式写入普通 CSV 文件的内置方法，因为 CSV 文件是纯文本的表格数据，无法直接存储复杂的几何对象。\n",
    "\n",
    "当你尝试直接使用 gdf.to_csv() 时，geometry 列中的 Shapely 对象会被转换为它们的字符串表示（例如 <shapely.geometry.point.Point object at 0x...>），这对于后续的地理空间操作是无用的。\n",
    "\n",
    "因此，将 GeoPandas GeoDataFrame 写入 CSV 的核心思想是：将几何对象转换为文本表示形式（最常见的是 WKT 或 Well-Known Text），然后再写入 CSV。"
   ]
  },
  {
   "cell_type": "markdown",
   "id": "8e2dd157",
   "metadata": {},
   "source": [
    "### 方法1"
   ]
  },
  {
   "cell_type": "markdown",
   "id": "b93396e3",
   "metadata": {},
   "source": [
    "### 对于只包含Point对象的gdf，使用gdf.geometry.x/y提取x和y\n",
    "写入csv，   \n",
    "创建一个不包含原始 'geometry' 列的 DataFrame   \n",
    "也可以选择不删除，但 'geometry' 列在 CSV 中会是无用的对象字符串  \n",
    "可以选择从geometry提取x,y，然后删除geometry几何列"
   ]
  },
  {
   "cell_type": "code",
   "execution_count": null,
   "id": "3b96549d",
   "metadata": {},
   "outputs": [],
   "source": [
    "import pandas as pd\n",
    "import geopandas as gpd\n",
    "from shapely.geometry import Point\n",
    "\n",
    "# 1. 创建一个示例 GeoDataFrame (只包含点)\n",
    "data = {\n",
    "    'id': [1, 2, 3, 4],\n",
    "    'name': ['Store A', 'Park B', 'Office C', 'Home D'],\n",
    "    'latitude_orig': [34.0522, 34.0522, 39.9042, 40.7128], # 原始纬度列\n",
    "    'longitude_orig': [-118.2437, -118.2437, 116.4074, -74.0060], # 原始经度列\n",
    "    'value': [100, 150, 200, 250]\n",
    "}\n",
    "df_temp = pd.DataFrame(data)\n",
    "#建立gdf，设置几何列\n",
    "geometry = [Point(xy) for xy in zip(df_temp['longitude_orig'], df_temp['latitude_orig'])]\n",
    "gdf_points = gpd.GeoDataFrame(df_temp, geometry=geometry, crs=\"EPSG:4326\")\n",
    "\n",
    "display(gdf_points.head())\n",
    "\n",
    "# 2. 从几何对象中提取经纬度\n",
    "gdf_points['longitude'] = gdf_points.geometry.x\n",
    "gdf_points['latitude'] = gdf_points.geometry.y\n",
    "\n",
    "# 3. 创建一个不包含原始 'geometry' 列的 DataFrame\n",
    "#移除geometry列\n",
    "df_to_save_latlon = gdf_points.drop(columns=['geometry', 'latitude_orig', 'longitude_orig']) # 也可以保留原始经纬度列\n",
    "display(df_to_save_latlon.head())\n",
    "\n",
    "# 4. 写入 CSV 文件\n",
    "output_csv_path_latlon = '../data/locations_with_latlon.csv'\n",
    "df_to_save_latlon.to_csv(output_csv_path_latlon, index=False)\n",
    "\n",
    "\n",
    "# -------------------------------------------------------------------\n",
    "# 如何从包含经纬度列的 CSV 重新读取为 GeoDataFrame\n",
    "# -------------------------------------------------------------------\n",
    "print(f\"\\n尝试从 '{output_csv_path_latlon}' 重新读取...\")\n",
    "df_reloaded_latlon = pd.read_csv(output_csv_path_latlon)\n",
    "\n",
    "# 将经纬度列转换回 Shapely 几何对象\n",
    "geometry_reloaded_latlon = [Point(xy) for xy in zip(df_reloaded_latlon['longitude'], df_reloaded_latlon['latitude'])]\n",
    "\n",
    "# 重新创建 GeoDataFrame\n",
    "gdf_reloaded_latlon = gpd.GeoDataFrame(df_reloaded_latlon,\n",
    "                                       geometry=geometry_reloaded_latlon,\n",
    "                                       crs=\"EPSG:4326\")\n",
    "\n",
    "print(\"\\n重新读取后的 GeoDataFrame (仅点):\")\n",
    "print(gdf_reloaded_latlon.head())\n",
    "print(\"\\n重新读取后的 GeoDataFrame 数据类型:\")\n",
    "print(gdf_reloaded_latlon.dtypes)\n",
    "print(\"\\n重新读取后的 GeoDataFrame CRS:\")\n",
    "print(gdf_reloaded_latlon.crs)"
   ]
  },
  {
   "cell_type": "markdown",
   "id": "7863274e",
   "metadata": {},
   "source": [
    "## 2.对于包含其他类型的gdf，如点、线、面等，将几何对象转换为 WKT (Well-Known Text) 字符串"
   ]
  },
  {
   "cell_type": "code",
   "execution_count": null,
   "id": "39f5ec1c",
   "metadata": {},
   "outputs": [],
   "source": [
    "import pandas as pd\n",
    "import geopandas as gpd\n",
    "from shapely.geometry import Point, LineString\n",
    "\n",
    "# 1. 创建一个示例 GeoDataFrame\n",
    "# 假设我们有之前读取的 GeoDataFrame\n",
    "data = {\n",
    "    'id': [1, 2, 3, 4],\n",
    "    'name': ['Store A', 'Park B', 'Office C', 'Home D'],\n",
    "    'latitude': [34.0522, 34.0522, 39.9042, 40.7128],\n",
    "    'longitude': [-118.2437, -118.2437, 116.4074, -74.0060],\n",
    "    'value': [100, 150, 200, 250]\n",
    "}\n",
    "df_temp = pd.DataFrame(data)\n",
    "geometry = [Point(xy) for xy in zip(df_temp['longitude'], df_temp['latitude'])]\n",
    "gdf = gpd.GeoDataFrame(df_temp, geometry=geometry, crs=\"EPSG:4326\")\n",
    "\n",
    "# 添加一个 LineString 示例来展示 WKT 的通用性\n",
    "line_geom = LineString([(0, 0), (1, 1), (2, 0)])\n",
    "gdf.loc[len(gdf)] = {'id': 5, 'name': 'Path E', 'latitude': None, 'longitude': None, 'value': 300, 'geometry': line_geom}\n",
    "\n",
    "\n",
    "print(\"原始 GeoDataFrame:\")\n",
    "print(gdf)\n",
    "print(\"\\nGeoDataFrame 数据类型:\")\n",
    "print(gdf.dtypes)\n",
    "\n",
    "# 2. 将几何对象转换为 WKT 字符串\n",
    "# 使用 .wkt 属性或 shapely.wkt.dumps()\n",
    "gdf['geometry_wkt'] = gdf['geometry'].apply(lambda geom: geom.wkt if geom else None)\n",
    "\n",
    "# 3. 创建一个不包含原始 'geometry' 列的 DataFrame\n",
    "# 也可以选择不删除，但 'geometry' 列在 CSV 中会是无用的对象字符串\n",
    "df_to_save = gdf.drop(columns=['geometry'])\n",
    "\n",
    "# 4. 写入 CSV 文件\n",
    "output_csv_path_wkt = '../data/locations_with_wkt.csv'\n",
    "df_to_save.to_csv(output_csv_path_wkt, index=False) # index=False 避免写入 DataFrame 索引作为一列\n",
    "\n",
    "print(f\"\\n数据已成功写入到 '{output_csv_path_wkt}'\")\n",
    "print(\"\\n写入 CSV 后的 DataFrame 预览:\")\n",
    "print(df_to_save.head())\n",
    "\n",
    "# -------------------------------------------------------------------\n",
    "# 如何从包含 WKT 的 CSV 重新读取为 GeoDataFrame\n",
    "# -------------------------------------------------------------------\n",
    "from shapely import wkt\n",
    "\n",
    "print(f\"\\n尝试从 '{output_csv_path_wkt}' 重新读取...\")\n",
    "df_reloaded = pd.read_csv(output_csv_path_wkt)\n",
    "\n",
    "# 将 WKT 字符串转换回 Shapely 几何对象\n",
    "# 注意：需要处理可能为 NaN 的情况，因为 LineString 示例的 lat/lon 为 None\n",
    "geometry_reloaded = [wkt.loads(s) if pd.notna(s) else None for s in df_reloaded['geometry_wkt']]\n",
    "\n",
    "# 重新创建 GeoDataFrame\n",
    "gdf_reloaded = gpd.GeoDataFrame(df_reloaded.drop(columns=['geometry_wkt']),\n",
    "                                geometry=geometry_reloaded,\n",
    "                                crs=\"EPSG:4326\") # 重新指定 CRS\n",
    "\n",
    "print(\"\\n重新读取后的 GeoDataFrame:\")\n",
    "print(gdf_reloaded.head())\n",
    "print(\"\\n重新读取后的 GeoDataFrame 数据类型:\")\n",
    "print(gdf_reloaded.dtypes)\n",
    "print(\"\\n重新读取后的 GeoDataFrame CRS:\")\n",
    "print(gdf_reloaded.crs)\n"
   ]
  },
  {
   "cell_type": "markdown",
   "id": "ecae6e3e",
   "metadata": {},
   "source": [
    "`from shapely import wkt `  \n",
    "提供了用于在几何对象和 Well-Known Text (WKT) 字符串之间进行转换的函数。  \n",
    "wkt.loads(wkt_string)：将 WKT 字符串加载（load）为 Shapely 几何对象。  wkt.dumps(geometry_object)：将 Shapely 几何对象转储（dump）为 WKT 字符串。  \n",
    "`gdf['geometry_wkt'] = gdf['geometry'].apply(lambda geom: geom.wkt if geom else None)`  \n",
    "geom.wkt 它将 GeoDataFrame 中存储的复杂几何对象（Shapely 对象）转换为标准的、可读的文本格式。  \n",
    "***也可以使用`gdf['geometry_wkt'] = gdf['geometry'].apply(lambda geom: wkt.dumps(geom) if geom else None)`***   \n",
    "`geometry_reloaded = [wkt.loads(s) if pd.notna(s) else None for s in df_reloaded['geometry_wkt']]`  \n",
    "pd.notna()判断是否为空值  \n",
    "wkt.loads(s)接收一个 WKT 字符串作为输入，并将其解析成对应的 shapely 几何对象。如，wkt.loads(\"POINT (10 20)\") 会返回 Point(10, 20) 对象。"
   ]
  },
  {
   "cell_type": "markdown",
   "id": "5a40b632",
   "metadata": {},
   "source": [
    "## 坐标系和重投影\n"
   ]
  },
  {
   "cell_type": "markdown",
   "id": "83470fb2",
   "metadata": {},
   "source": [
    "### 坐标系类型\n",
    "地理坐标系（Geographic CRS）：用经纬度（度）表示位置，如 EPSG:4326（WGS84，全球通用）；  \n",
    "投影坐标系（Projected CRS）：将球面坐标转换为平面坐标（米为单位），如 EPSG:3857（Web 墨卡托，适合 Web 地图）、EPSG:32650（UTM 分区 50N，适合局部区域精确计算）。"
   ]
  },
  {
   "cell_type": "markdown",
   "id": "4ea9d571",
   "metadata": {},
   "source": [
    "### 0.查看坐标系\n",
    "使用gdf.crs查看原始坐标系  \n",
    "gdf.crs.to_wkt()  # 输出Well-Known Text格式的CRS定义"
   ]
  },
  {
   "cell_type": "markdown",
   "id": "9567ce67",
   "metadata": {},
   "source": [
    "### 1.坐标系指定\n",
    "使用gdf.crs():设置或覆盖 坐标系,***但不执行任何坐标转换，不会改变坐标值***   \n",
    "和gdf.set_crs(crs: 要设置的 CRS。  \n",
    "allow_override=False (默认): 如果 GeoDataFrame 已经有 CRS，会抛出错误，防止意外覆盖。  \n",
    "allow_override=True: 即使 GeoDataFrame 已经有 CRS，也会强制覆盖。)指定坐标系，***但不执行任何坐标转换，不会改变坐标值***"
   ]
  },
  {
   "cell_type": "markdown",
   "id": "52cf8d68",
   "metadata": {},
   "source": [
    "### 2.坐标系转换\n",
    "gdf.to_crs()   \n",
    "功能： 转换 GeoDataFrame 的 CRS。它会根据当前的 CRS 和目标 CRS，重新计算所有几何对象的坐标值。  \n",
    "*前提*： GeoDataFrame 必须已经有一个正确的 CRS，否则 to_crs() 将不知道如何进行转换，会报错。  \n",
    "***返回一个新的 GeoDataFrame，其中所有几何对象的坐标都已根据目标 CRS 进行了转换。原始 GeoDataFrame 不受影响***"
   ]
  },
  {
   "cell_type": "markdown",
   "id": "2fb29aa4",
   "metadata": {},
   "source": [
    "# 几何创建"
   ]
  },
  {
   "cell_type": "markdown",
   "id": "fdd70bba",
   "metadata": {},
   "source": [
    "### 几何对象（Geometries）是由底层库 Shapely 创建和表示的。GeoPandas 的 GeoDataFrame 中的 geometry 列存储的就是 Shapely 几何对象。"
   ]
  },
  {
   "cell_type": "markdown",
   "id": "be54386e",
   "metadata": {},
   "source": [
    "### 几何对象类型包括：\n",
    "1. Point\n",
    "2. LineString\n",
    "3. Polygon\n",
    "4. MultiPoint,MulitLineString,MultiPolygon"
   ]
  },
  {
   "cell_type": "markdown",
   "id": "6d0dc70f",
   "metadata": {},
   "source": [
    "### 1. Point\n",
    "点是最基础的几何类型，由 x、y 坐标（2D）或 x、y、z 坐标（3D）定义。  \n",
    "创建方法：  \n",
    "通过Point()函数传入坐标值（单个数值或元组）。  \n",
    "`Point(x, y, z)`"
   ]
  },
  {
   "cell_type": "code",
   "execution_count": null,
   "id": "d476f7b2",
   "metadata": {},
   "outputs": [],
   "source": []
  },
  {
   "cell_type": "markdown",
   "id": "705973de",
   "metadata": {},
   "source": [
    "### 2. 线（LineString） \n",
    "线由有序的点集合组成，代表一条连续的线段。点的顺序决定了线的走向。  \n",
    "创建方法：  \n",
    "通过LineString()函数传入点的列表（每个点为元组或 Point 对象）。   \n",
    "` LineString([(0, 0), (1, 1), (2, 0)]) `  \n",
    "*注意：  \n",
    "至少需要 2 个点才能创建 LineString，否则会报错。  \n",
    "线的长度可通过.length属性直接获取。*\n"
   ]
  },
  {
   "cell_type": "code",
   "execution_count": null,
   "id": "9403a0c6",
   "metadata": {},
   "outputs": [],
   "source": []
  },
  {
   "cell_type": "markdown",
   "id": "928e718f",
   "metadata": {},
   "source": [
    "### 3. 多边形（Polygon）\n",
    "多边形由外环（exterior） 和可选的内环（interior，即孔洞） 组成，代表一个封闭的区域。  \n",
    "创建方法：  \n",
    "通过Polygon()函数传入外环坐标列表（需闭合），可选传入内环列表（每个内环也是闭合的坐标列表）。  \n",
    "`Polygon(outer_ring=[outerr_ring], holes=[inner_ring])`"
   ]
  },
  {
   "cell_type": "code",
   "execution_count": null,
   "id": "2ea6835c",
   "metadata": {},
   "outputs": [],
   "source": []
  },
  {
   "cell_type": "markdown",
   "id": "535dadb8",
   "metadata": {},
   "source": [
    "### 4. 几何集合 (Multi-Geometries)\n",
    "用于表示同类型但分离的多个几何对象。\n",
    "\n",
    "`MultiPoint (多点): MultiPoint([point1, point2, ...]) `或` MultiPoint([(x1, y1), (x2, y2), ...])  `  \n",
    "`MultiLineString (多线): MultiLineString([line1, line2, ...])  `  \n",
    "`MultiPolygon (多面): MultiPolygon([polygon1, polygon2, ...])  `  "
   ]
  },
  {
   "cell_type": "code",
   "execution_count": null,
   "id": "e62e78ae",
   "metadata": {},
   "outputs": [],
   "source": []
  },
  {
   "cell_type": "markdown",
   "id": "68edde3b",
   "metadata": {},
   "source": [
    "\n",
    "## Geopandas：管理几何对象的 GeoDataFrame\n",
    "geopandas 扩展了 pandas 的 DataFrame，增加了一个特殊的geometry列，用于存储 shapely 创建的几何对象，同时支持坐标参考系统（CRS）和空间操作。"
   ]
  },
  {
   "cell_type": "code",
   "execution_count": null,
   "id": "c67ea8b6",
   "metadata": {},
   "outputs": [],
   "source": [
    "from shapely.geometry import Point, LineString, Polygon, MultiPolygon\n",
    "\n",
    "# 1. 创建点（Point）\n",
    "point = Point(90, 20)  # （x=经度，y=纬度）\n",
    "\n",
    "# 2. 创建线（LineString）：由点列表组成\n",
    "line = LineString([(100, 20), (110,20), (130, 70)])\n",
    "\n",
    "# 3. 创建面（Polygon）：由外环点列表组成（需闭合，首尾点一致）\n",
    "polygon = Polygon([\n",
    "    (116.3, 39.9), (116.4, 39.9), (116.4, 40.0), (116.3, 40.0), (116.3, 39.9)\n",
    "])\n",
    "\n",
    "# 4. 创建多面（MultiPolygon）：由多个Polygon组成\n",
    "poly1 = Polygon([ (110, 40), (120, 40), (120, 50), (110,50)])\n",
    "poly2 = Polygon([ (130, 30), (140, 30), (140, 40), (130,40)])\n",
    "multi_poly = MultiPolygon([poly1, poly2])\n",
    "\n",
    "# 5. 将几何对象添加到GeoDataFrame\n",
    "gdf = gpd.GeoDataFrame(\n",
    "    {\"type\": [\"点\", \"线\", \"面\", \"多面\"]},\n",
    "    geometry=[point, line, polygon, multi_poly],\n",
    "    crs=\"EPSG:4326\"\n",
    ")\n",
    "display(gdf)\n",
    "gdf.plot(column='type', legend=True, figsize=(10, 6))"
   ]
  },
  {
   "cell_type": "markdown",
   "id": "d063cf67",
   "metadata": {},
   "source": [
    "# 几何属性和操作"
   ]
  },
  {
   "cell_type": "markdown",
   "id": "40f0b792",
   "metadata": {},
   "source": [
    "一、几何属性 (Attributes)\n",
    "几何属性通常是几何对象固有的特征，直接通过点号 (.) 访问。\n",
    "\n",
    "1. 通用属性 (适用于所有几何类型)  \n",
    "geom_type: 几何类型（如 'Point', 'LineString', 'Polygon', 'MultiPoint' 等）。  \n",
    "is_empty: 如果几何对象不包含任何点，则为 True。  \n",
    "is_simple: 如果几何对象没有自交或不必要的顶点，则为 True (对线和多边形有意义)。     \n",
    "has_z: 如果几何对象包含 Z 坐标（三维），则为 True。  \n",
    "bounds: 返回几何对象的 (minx, miny, maxx, maxy) 边界框。    \n",
    "area: 几何对象的面积（对于点和线为 0.0）。    \n",
    "length: 几何对象的长度（对于点和多边形为 0.0）。    \n",
    "boundary: 几何对象的边界（例如，多边形的边界是线）。  \n",
    "centroid: 几何对象的质心（Point 对象）。  \n",
    "envelope:几何的外接矩形 （Polygon 对象）。  \n",
    "convex_hull: 包含几何对象所有点的最小凸多边形。  \n",
    "1. 特定几何类型属性  \n",
    "Point:  \n",
    "x: 点的 x 坐标。  \n",
    "y: 点的 y 坐标。  \n",
    "z: 点的 z 坐标（如果存在）。  \n",
    "coords: 返回一个迭代器，包含点的坐标元组。  \n",
    "LineString:  \n",
    "coords: 返回一个迭代器，包含线的所有坐标元组。  \n",
    "Polygon:  \n",
    "exterior: 返回多边形的外环（LineString 对象）。  \n",
    "interiors: 返回一个列表，包含多边形的所有内环（洞，LineString 对象）。  \n",
    "Multi-Geometries (MultiPoint, MultiLineString, MultiPolygon):  \n",
    "geoms: 返回一个列表，包含集合中的所有单个几何对象。  "
   ]
  },
  {
   "cell_type": "code",
   "execution_count": 48,
   "id": "6aed905e",
   "metadata": {},
   "outputs": [
    {
     "name": "stdout",
     "output_type": "stream",
     "text": [
      "--- 几何属性示例 ---\n",
      "        name                                           geometry\n",
      "0  City Hall                   POINT (-8238310.236 4970071.579)\n",
      "1      River  LINESTRING (-8243208.293 4968191.93, -8239868....\n",
      "2       Park  POLYGON ((-8238755.514 4968191.93, -8238755.51...\n",
      "3    Islands  MULTIPOINT ((-8226510.37 4953519.587), (-82153...\n",
      "\n",
      "几何类型:\n",
      "0         Point\n",
      "1    LineString\n",
      "2       Polygon\n",
      "3    MultiPoint\n",
      "dtype: object\n",
      "\n",
      "边界框 (minx, miny, maxx, maxy):\n",
      "           minx          miny          maxx          maxy\n",
      "0 -8.238310e+06  4.970072e+06 -8.238310e+06  4.970072e+06\n",
      "1 -8.243208e+06  4.968192e+06 -8.235416e+06  4.975536e+06\n",
      "2 -8.238756e+06  4.968192e+06 -8.237642e+06  4.969660e+06\n",
      "3 -8.226510e+06  4.938869e+06 -8.215378e+06  4.953520e+06\n",
      "\n",
      "面积 (对于点和线为0.0):\n",
      "0    0.000000e+00\n",
      "1    0.000000e+00\n",
      "2    1.634665e+06\n",
      "3    0.000000e+00\n",
      "dtype: float64\n",
      "\n",
      "长度 (对于点和多边形为0.0):\n",
      "0        0.000000\n",
      "1    14333.173150\n",
      "2     5163.279563\n",
      "3        0.000000\n",
      "dtype: float64\n",
      "\n",
      "质心:\n",
      "0    POINT (-8238310.236 4970071.579)\n",
      "1     POINT (-8239835.455 4972506.06)\n",
      "2    POINT (-8238198.916 4968926.153)\n",
      "3    POINT (-8220944.395 4946194.381)\n",
      "dtype: geometry\n",
      "\n",
      "Point 的 X 坐标:\n",
      "0   -8.238310e+06\n",
      "dtype: float64\n",
      "\n",
      "Point 的 Y 坐标:\n",
      "0    4.970072e+06\n",
      "dtype: float64\n",
      "\n",
      "Polygon 的外环:\n",
      "2    LINEARRING (-8238755.514 4968191.93, -8238755....\n",
      "dtype: geometry\n",
      "\n",
      "MultiPoint 的组成部分:\n",
      "0                                                 None\n",
      "1                                                 None\n",
      "2                                                 None\n",
      "3    [POINT (-8226510.369622918 4953519.5867918), P...\n",
      "Name: individual_geoms, dtype: object\n"
     ]
    }
   ],
   "source": [
    "import geopandas as gpd\n",
    "from shapely.geometry import Point, LineString, Polygon, MultiPoint\n",
    "\n",
    "# 创建一个 GeoDataFrame\n",
    "data = {\n",
    "    'name': ['City Hall', 'River', 'Park', 'Islands'],\n",
    "    'geometry': [\n",
    "        Point(-74.0060, 40.7128),\n",
    "        LineString([(-74.05, 40.7), (-74.02, 40.75), (-73.98, 40.72)]),\n",
    "        Polygon([(-74.01, 40.7), (-74.01, 40.71), (-74.00, 40.71), (-74.00, 40.7), (-74.01, 40.7)]),\n",
    "        MultiPoint([Point(-73.9, 40.6), Point(-73.8, 40.5)])\n",
    "    ]\n",
    "}\n",
    "gdf = gpd.GeoDataFrame(data, geometry='geometry', crs=\"EPSG:4326\")\n",
    "gdf.to_crs(\"EPSG:3857\", inplace=True)  # 转换为 Web Mercator 投影\n",
    "\n",
    "print(\"--- 几何属性示例 ---\")\n",
    "print(gdf)\n",
    "\n",
    "# 访问 geom_type\n",
    "print(\"\\n几何类型:\")\n",
    "print(gdf.geometry.geom_type)\n",
    "\n",
    "# 访问 bounds\n",
    "print(\"\\n边界框 (minx, miny, maxx, maxy):\")\n",
    "print(gdf.geometry.bounds)\n",
    "\n",
    "# 访问 area (注意：对于地理坐标系，面积单位无意义，需先投影)\n",
    "print(\"\\n面积 (对于点和线为0.0):\")\n",
    "print(gdf.geometry.area)\n",
    "\n",
    "# 访问 length (对于点和多边形为0.0)\n",
    "print(\"\\n长度 (对于点和多边形为0.0):\")\n",
    "print(gdf.geometry.length)\n",
    "\n",
    "# 访问 centroid\n",
    "print(\"\\n质心:\")\n",
    "print(gdf.geometry.centroid)\n",
    "\n",
    "# 访问 Point 的 x, y 坐标\n",
    "print(\"\\nPoint 的 X 坐标:\")\n",
    "print(gdf[gdf.geometry.geom_type == 'Point'].geometry.x)\n",
    "print(\"\\nPoint 的 Y 坐标:\")\n",
    "print(gdf[gdf.geometry.geom_type == 'Point'].geometry.y)\n",
    "\n",
    "# 访问 Polygon 的 exterior\n",
    "print(\"\\nPolygon 的外环:\")\n",
    "print(gdf[gdf.geometry.geom_type == 'Polygon'].geometry.exterior)\n",
    "\n",
    "# 访问 MultiPoint 的单个几何对象\n",
    "print(\"\\nMultiPoint 的组成部分:\")\n",
    "# 需要使用 apply 来访问每个 MultiPoint 对象的 geoms 属性\n",
    "gdf['individual_geoms'] = gdf.geometry.apply(lambda geom: list(geom.geoms) if geom.geom_type.startswith('Multi') else None)\n",
    "print(gdf['individual_geoms'])\n"
   ]
  }
 ],
 "metadata": {
  "kernelspec": {
   "display_name": "geo",
   "language": "python",
   "name": "python3"
  },
  "language_info": {
   "codemirror_mode": {
    "name": "ipython",
    "version": 3
   },
   "file_extension": ".py",
   "mimetype": "text/x-python",
   "name": "python",
   "nbconvert_exporter": "python",
   "pygments_lexer": "ipython3",
   "version": "3.12.3"
  }
 },
 "nbformat": 4,
 "nbformat_minor": 5
}
