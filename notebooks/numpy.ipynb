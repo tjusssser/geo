{
 "cells": [
  {
   "cell_type": "code",
   "execution_count": 2,
   "id": "f02db52f",
   "metadata": {},
   "outputs": [],
   "source": [
    "import numpy as np"
   ]
  },
  {
   "cell_type": "markdown",
   "id": "8b150001",
   "metadata": {},
   "source": [
    "# 提取数组属性\n",
    "ndarray.ndim\t数组的秩（rank），即数组的维度数量或轴的数量。  \n",
    "ndarray.shape\t数组的维度，表示数组在每个轴上的大小。对于二维数组（矩阵），表示其行数和列数。  \n",
    "ndarray.size\t数组中元素的总个数，等于 ndarray.shape 中各个轴上大小的乘积。  \n",
    "ndarray.dtype\t数组中元素的数据类型。  \n",
    "ndarray.itemsize\t数组中每个元素的大小，以字节为单位。  \n",
    "ndarray.flags\t包含有关内存布局的信息，如是否为 C 或 Fortran 连续存储，是否为只读等。  \n",
    "ndarray.real\t数组中每个元素的实部（如果元素类型为复数）。  \n",
    "ndarray.imag\t数组中每个元素的虚部（如果元素类型为复数）。  \n",
    "ndarray.data\t实际存储数组元素的缓冲区，一般通过索引访问元素，不直接使用该属性。"
   ]
  },
  {
   "cell_type": "code",
   "execution_count": 95,
   "id": "0f39a208",
   "metadata": {},
   "outputs": [
    {
     "name": "stdout",
     "output_type": "stream",
     "text": [
      "1D Array (elevation readings): [245 312 156 423 678]\n",
      "Array rank: 1\n",
      "Data dtype: int32\n",
      "Array shape: (5,)\n",
      "Array size: 5\n",
      "Array item size: 4 bytes\n",
      "Array flags:   C_CONTIGUOUS : True\n",
      "  F_CONTIGUOUS : True\n",
      "  OWNDATA : True\n",
      "  WRITEABLE : True\n",
      "  ALIGNED : True\n",
      "  WRITEBACKIFCOPY : False\n",
      "\n",
      "Array real part: [245 312 156 423 678]\n",
      "Array imaginary part: [0 0 0 0 0]\n",
      "Array data buffer: <memory at 0x000001E08F9D0B80>\n"
     ]
    }
   ],
   "source": [
    "elevation_readings = np.array([245, 312, 156, 423, 678])\n",
    "print(f\"1D Array (elevation readings): {elevation_readings}\")\n",
    "print(f\"Array rank: {elevation_readings.ndim}\")\n",
    "print(f\"Data dtype: {elevation_readings.dtype}\")\n",
    "print(f\"Array shape: {elevation_readings.shape}\")\n",
    "print(f\"Array size: {elevation_readings.size}\")\n",
    "print(f\"Array item size: {elevation_readings.itemsize} bytes\")\n",
    "print(f\"Array flags: {elevation_readings.flags}\")\n",
    "print(f\"Array real part: {elevation_readings.real}\")\n",
    "print(f\"Array imaginary part: {elevation_readings.imag}\")\n",
    "print(f\"Array data buffer: {elevation_readings.data}\")"
   ]
  },
  {
   "cell_type": "markdown",
   "id": "112ae8a7",
   "metadata": {},
   "source": [
    "# numpy.zeros\n",
    "创建指定大小的数组，数组元素以 0 来填充：  \n",
    "numpy.zeros(shape, dtype = float, order = 'C')  \n",
    "参数说明：  \n",
    "shape\t数组形状  \n",
    "dtype\t数据类型，可选  \n",
    "order\t'C' 用于 C 的行数组，或者 'F' 用于 FORTRAN 的列数组"
   ]
  },
  {
   "cell_type": "code",
   "execution_count": 121,
   "id": "9d93c9ee",
   "metadata": {},
   "outputs": [
    {
     "name": "stdout",
     "output_type": "stream",
     "text": [
      "1D Array (distance matrix): [[0. 0. 0. 0. 0.]\n",
      " [0. 0. 0. 0. 0.]\n",
      " [0. 0. 0. 0. 0.]\n",
      " [0. 0. 0. 0. 0.]\n",
      " [0. 0. 0. 0. 0.]]\n",
      "Data type: float64\n",
      "Array shape: (5, 5)\n",
      "Array size: 25\n"
     ]
    }
   ],
   "source": [
    "distance_matrix = np.zeros((5,5))  # Create a 1D array of zeros with 5 elements\n",
    "print(f\"1D Array (distance matrix): {distance_matrix}\")\n",
    "print(f\"Data type: {distance_matrix.dtype}\")\n",
    "print(f\"Array shape: {distance_matrix.shape}\")\n",
    "print(f\"Array size: {distance_matrix.size}\")"
   ]
  },
  {
   "cell_type": "markdown",
   "id": "a1c15a74",
   "metadata": {},
   "source": [
    "# numpy.ones\n",
    "创建指定形状的数组，数组元素以 1 来填充  \n",
    "numpy.ones(shape, dtype = None, order = 'C')"
   ]
  },
  {
   "cell_type": "code",
   "execution_count": 122,
   "id": "49415135",
   "metadata": {},
   "outputs": [
    {
     "name": "stdout",
     "output_type": "stream",
     "text": [
      "1D Array (ones): [[1. 1. 1. 1. 1.]\n",
      " [1. 1. 1. 1. 1.]\n",
      " [1. 1. 1. 1. 1.]\n",
      " [1. 1. 1. 1. 1.]\n",
      " [1. 1. 1. 1. 1.]]\n"
     ]
    }
   ],
   "source": [
    "ones = np.ones((5,5))  # Create a 1D array of ones with 5 elements\n",
    "print(f\"1D Array (ones): {ones}\")"
   ]
  },
  {
   "cell_type": "markdown",
   "id": "f53e1adb",
   "metadata": {},
   "source": [
    "numpy.ones()还可以进行运算，来填充不同数字"
   ]
  },
  {
   "cell_type": "code",
   "execution_count": 123,
   "id": "79a1e36c",
   "metadata": {},
   "outputs": [
    {
     "name": "stdout",
     "output_type": "stream",
     "text": [
      "Array of weights (0.5):\n",
      "[[0.5 0.5 0.5 0.5]\n",
      " [0.5 0.5 0.5 0.5]]\n",
      "float64 8\n"
     ]
    }
   ],
   "source": [
    "#fill in any numbers\n",
    "weights = np.ones((2, 4)) * 0.5 # 填充0.5的数组\n",
    "print(f\"Array of weights (0.5):\\n{weights}\")\n",
    "print(weights.dtype,weights.itemsize)  # 输出每个元素的字节大小"
   ]
  },
  {
   "cell_type": "markdown",
   "id": "07f69b13",
   "metadata": {},
   "source": [
    "# numpy.zeros_like\n",
    "numpy.zeros_like 用于创建一个与给定数组具有相同形状的数组，数组元素以 0 来填充。  \n",
    "numpy.zeros_like(a, dtype=None, order='K', subok=True, shape=None)  \n",
    "参数说明：  \n",
    "a\t给定要创建相同形状的数组  \n",
    "dtype\t创建的数组的数据类型  \n",
    "order\t数组在内存中的存储顺序，可选值为 'C'（按行优先）或 'F'（按列优先），默认为 'K'（保留输入数组的存储顺序）  \n",
    "subok\t是否允许返回子类，如果为 True，则返回一个子类对象，否则返回一个与 a 数组具有相同数据类型和存储顺序的数组  \n",
    "shape\t创建的数组的形状，如果不指定，则默认为 a 数组的形状。  "
   ]
  },
  {
   "cell_type": "code",
   "execution_count": 133,
   "id": "039fa109",
   "metadata": {},
   "outputs": [
    {
     "name": "stdout",
     "output_type": "stream",
     "text": [
      "[[0 0 0]\n",
      " [0 0 0]\n",
      " [0 0 0]]\n"
     ]
    }
   ],
   "source": [
    "# 创建一个 3x3 的二维数组\n",
    "arr = np.array([[1, 2, 3], [4, 5, 6], [7, 8, 9]])\n",
    " \n",
    "# 创建一个与 arr 形状相同的，所有元素都为 0 的数组\n",
    "zeros_arr = np.zeros_like(arr)\n",
    "print(zeros_arr)"
   ]
  },
  {
   "cell_type": "markdown",
   "id": "ca334e6a",
   "metadata": {},
   "source": [
    "# numpy.ones_like\n",
    "numpy.ones_like 用于创建一个与给定数组具有相同形状的数组，数组元素以 1 来填充。"
   ]
  },
  {
   "cell_type": "code",
   "execution_count": 143,
   "id": "4ca27e80",
   "metadata": {},
   "outputs": [
    {
     "name": "stdout",
     "output_type": "stream",
     "text": [
      "[[1 1 1]\n",
      " [1 1 1]\n",
      " [1 1 1]]\n"
     ]
    }
   ],
   "source": [
    "# 创建一个 3x3 的二维数组\n",
    "arr = np.array([[1, 2, 3], [4, 5, 6], [7, 8, 9]])\n",
    " \n",
    "# 创建一个与 arr 形状相同的，所有元素都为 1 的数组\n",
    "ones_arr = np.ones_like(arr)\n",
    "print(ones_arr)"
   ]
  },
  {
   "cell_type": "markdown",
   "id": "7588492c",
   "metadata": {},
   "source": [
    "# 数组的类型也可以在创建时明确指定"
   ]
  },
  {
   "cell_type": "code",
   "execution_count": 144,
   "id": "e79b93c3",
   "metadata": {},
   "outputs": [
    {
     "name": "stdout",
     "output_type": "stream",
     "text": [
      "Complex array:\n",
      "[[1.+0.j 2.+0.j]\n",
      " [3.+0.j 4.+0.j]]\n"
     ]
    }
   ],
   "source": [
    "# Create an array for marking valid data points.\n",
    "c = np.array([[1, 2], [3, 4]], dtype=complex)#complex array\n",
    "print(f\"Complex array:\\n{c}\")"
   ]
  },
  {
   "cell_type": "code",
   "execution_count": 145,
   "id": "9d51a20a",
   "metadata": {},
   "outputs": [
    {
     "name": "stdout",
     "output_type": "stream",
     "text": [
      "Data validity flags: [ True  True  True  True  True]\n"
     ]
    }
   ],
   "source": [
    "# Create an array for marking valid data points.\n",
    "valid_data_flags = np.ones((5,), dtype=bool) # 最初全部为True\n",
    "print(f\"Data validity flags: {valid_data_flags}\")"
   ]
  },
  {
   "cell_type": "markdown",
   "id": "9ac7d183",
   "metadata": {},
   "source": [
    "# empty 创建一个初始内容是随机的，取决于内存状态的数组。默认情况下，创建的数组的 dtype 是 float64，但可以通过关键字参数 dtype 指定。"
   ]
  },
  {
   "cell_type": "code",
   "execution_count": 146,
   "id": "e0da4413",
   "metadata": {},
   "outputs": [
    {
     "name": "stdout",
     "output_type": "stream",
     "text": [
      "Empty array:\n",
      "[[3.51182162 3.9504637  3.14415961]\n",
      " [3.94864945 3.31183145 3.42332645]]\n"
     ]
    }
   ],
   "source": [
    "empty = np.empty((2, 3))  # 创建一个未初始化的数组\n",
    "print(f\"Empty array:\\n{empty}\")"
   ]
  },
  {
   "cell_type": "markdown",
   "id": "6668e53f",
   "metadata": {},
   "source": [
    "# arange 函数是一个内置函数，它创建一个具有数字序列的NumPy 数组。\n",
    " np.arange()函数分为一个参数，两个参数，三个参数三种情况  \n",
    "一个参数时，参数值为终点$\\color{red}{(不包含)}$，起点取默认值0，步长取默认值1。  \n",
    "两个参数时，第一个参数为起点，第二个参数为终点，步长取默认值1。  \n",
    "三个参数时，第一个参数为起点，第二个参数为终点，第三个参数为步长。其中步长支持小数  "
   ]
  },
  {
   "cell_type": "code",
   "execution_count": 2,
   "id": "8c3b3978",
   "metadata": {},
   "outputs": [
    {
     "name": "stdout",
     "output_type": "stream",
     "text": [
      "Single argument arange array: [0 1 2 3 4]\n",
      "Two argument arange array: [3 4 5 6 7]\n",
      "Three argument arange array: [2010 2011 2012 2013 2014 2015 2016 2017 2018 2019 2020]\n",
      "Latitude grid: [-90 -60 -30   0  30  60  90]\n"
     ]
    }
   ],
   "source": [
    "# arange 函数是一个内置函数，它创建一个具有数字序列的NumPy 数组。\n",
    "import numpy as np\n",
    "#一个参数的情况\n",
    "single_arg_array = np.arange(5)  # 从0到4\n",
    "print(f\"Single argument arange array: {single_arg_array}\")\n",
    "#两个参数的情况\n",
    "two_arg_array = np.arange(3, 8)  # 从3到7   \n",
    "print(f\"Two argument arange array: {two_arg_array}\")\n",
    "#三个参数的情况\n",
    "arange_array = np.arange(2010, 2021, 1) # 从2010到2020，步长为1\n",
    "print(f\"Three argument arange array: {arange_array}\")\n",
    "#或为网格创建纬度值\n",
    "latitudes = np.arange(-90, 91, 30) # 从-90到90度，每30度\n",
    "print(f\"Latitude grid: {latitudes}\")"
   ]
  },
  {
   "cell_type": "markdown",
   "id": "ba6e867e",
   "metadata": {},
   "source": [
    "# arange以步长为参数，而linspace以元素数量为参数"
   ]
  },
  {
   "cell_type": "code",
   "execution_count": 3,
   "id": "838d0d72",
   "metadata": {},
   "outputs": [
    {
     "name": "stdout",
     "output_type": "stream",
     "text": [
      "Longitude grid: [-180. -120.  -60.    0.   60.  120.  180.]\n"
     ]
    }
   ],
   "source": [
    "#使用linspace来获得均匀间隔的值\n",
    "longitudes = np.linspace(-180, 180, 7) # 从-180到180的7个均匀间隔值\n",
    "print(f\"Longitude grid: {longitudes}\")"
   ]
  },
  {
   "cell_type": "markdown",
   "id": "adfeca71",
   "metadata": {},
   "source": [
    "# np.round()用于对数组或单个数值进行四舍五入。该函数返回一个与输入类型相同的数组或数值，并可以通过可选的参数来指定保留的小数位数。\n",
    "np.round(a, decimals=0, out=None)\n",
    "参数说明  \n",
    "a：待进行四舍五入操作的数组或单个数值。  \n",
    "decimals：可选参数，指定保留的小数位数，默认为0。  \n",
    "out：可选参数，无需手动指定。  \n",
    "返回值  \n",
    "返回与输入类型相同的数组或数值。"
   ]
  },
  {
   "cell_type": "code",
   "execution_count": 4,
   "id": "a2f5531a",
   "metadata": {},
   "outputs": [
    {
     "name": "stdout",
     "output_type": "stream",
     "text": [
      "Original locations:\n",
      "[[ 3.568950e+01  1.396917e+02]\n",
      " [ 4.071280e+01 -7.400600e+01]\n",
      " [ 5.150740e+01 -1.278000e-01]]\n",
      "Locations (rounded):\n",
      "[[ 3.5690e+01  1.3969e+02]\n",
      " [ 4.0710e+01 -7.4010e+01]\n",
      " [ 5.1510e+01 -1.3000e-01]]\n"
     ]
    }
   ],
   "source": [
    "locations = np.array([[35.6895, 139.6917], [40.7128, -74.0060], [51.5074, -0.1278]]) # 东京 # 纽约# 伦敦\n",
    "locations_rounded = np.round(locations, decimals=2) # 保留两位小数\n",
    "print(f\"Original locations:\\n{locations}\")\n",
    "print(f\"Locations (rounded):\\n{locations_rounded}\")"
   ]
  },
  {
   "cell_type": "markdown",
   "id": "60151774",
   "metadata": {},
   "source": [
    "# NumPy 最大的优势之一是向量化——能够一次对整个数组执行数学运算，而无需编写显式循环。\n",
    "## 向量化操作"
   ]
  },
  {
   "cell_type": "code",
   "execution_count": 5,
   "id": "fb79c4b8",
   "metadata": {},
   "outputs": [
    {
     "name": "stdout",
     "output_type": "stream",
     "text": [
      "Original elevations: [245 312 156 423 678]\n",
      "Adjusted elevations: [255 322 166 433 688]\n",
      "Elevations in meters: [245 312 156 423 678]\n",
      "Elevations in feet: [ 803.8 1023.6  511.8 1387.8 2224.4]\n",
      "Temperatures in Celsius: [15.5 22.3  8.9 31.2]\n",
      "Temperatures in Fahrenheit: [59.9 72.1 48.  88.2]\n"
     ]
    }
   ],
   "source": [
    "# 逐元素加法 - 向每个元素添加相同的值\n",
    "# 示例：通过添加参考高度调整高程读数\n",
    "elevation_readings = np.array([245, 312, 156, 423, 678])\n",
    "sea_level_adjustment = elevation_readings + 10 # 向所有读数添加10米\n",
    "print(f\"Original elevations: {elevation_readings}\")\n",
    "print(f\"Adjusted elevations: {sea_level_adjustment}\")\n",
    "#逐元素乘法 - 将每个元素乘以相同的值\n",
    "# 示例：将高程从米转换为英尺（1米 = 3.28084英尺）\n",
    "elevations_meters = np.array([245, 312, 156, 423, 678])\n",
    "elevations_feet = elevations_meters * 3.28084\n",
    "print(f\"Elevations in meters: {elevations_meters}\")\n",
    "print(f\"Elevations in feet: {elevations_feet.round(1)}\") # 四舍五入到1位小数\n",
    "# 您也可以对数组进行加、减和除运算\n",
    "temperatures_celsius = np.array([15.5, 22.3, 8.9, 31.2])\n",
    "temperatures_fahrenheit = temperatures_celsius * 9 / 5 + 32\n",
    "print(f\"Temperatures in Celsius: {temperatures_celsius}\")\n",
    "print(f\"Temperatures in Fahrenheit: {temperatures_fahrenheit.round(1)}\")"
   ]
  },
  {
   "cell_type": "markdown",
   "id": "1a694481",
   "metadata": {},
   "source": [
    "# 向量化操作也可以在不同NumPy 数组之间执行"
   ]
  },
  {
   "cell_type": "code",
   "execution_count": 6,
   "id": "dc6f5e08",
   "metadata": {},
   "outputs": [
    {
     "name": "stdout",
     "output_type": "stream",
     "text": [
      "Original coordinates:\n",
      "[[ 3.568950e+01  1.396917e+02]\n",
      " [ 4.071280e+01 -7.400600e+01]\n",
      " [ 5.150740e+01 -1.278000e-01]]\n",
      "Weighted coordinates:\n",
      "[[ 3.5689500e+01  1.1175336e+02]\n",
      " [ 4.0712800e+01 -5.9204800e+01]\n",
      " [ 5.1507400e+01 -1.0224000e-01]]\n",
      "Coordinate differences from Tokyo:\n",
      "[[   0.        0.    ]\n",
      " [   5.0233 -213.6977]\n",
      " [  15.8179 -139.8195]]\n"
     ]
    }
   ],
   "source": [
    "# 数组之间的操作 - 两个数组之间的逐元素操作\n",
    "# 示例：计算加权坐标\n",
    "coordinates = np.array(\n",
    "[[35.6895, 139.6917], [40.7128, -74.0060], [51.5074, -0.1278]] )# 东京 # 纽约# 伦敦\n",
    "# 对纬度和经度应用不同的权重（对某些投影有用）\n",
    "weights = np.array([1.0, 0.8]) # 正常加权纬度，减少经度权重\n",
    "weighted_coords = coordinates * weights\n",
    "print(f\"Original coordinates:\\n{coordinates}\")\n",
    "print(f\"Weighted coordinates:\\n{weighted_coords}\")\n",
    "# 您也可以在相同形状的数组之间执行操作\n",
    "coord_differences = coordinates - coordinates[0] # 与第一个城市（东京）的距离\n",
    "print(f\"Coordinate differences from Tokyo:\\n{coord_differences}\")"
   ]
  },
  {
   "cell_type": "markdown",
   "id": "2777b4be",
   "metadata": {},
   "source": [
    "## 某些操作，例如 += 和 *=，会就地修改现有数组，而不是创建新数组。"
   ]
  },
  {
   "cell_type": "code",
   "execution_count": 7,
   "id": "75dbe955",
   "metadata": {},
   "outputs": [
    {
     "name": "stdout",
     "output_type": "stream",
     "text": [
      "Array a after multiplication:\n",
      "[[3 3 3]\n",
      " [3 3 3]]\n",
      "Array b (random values):\n",
      "[[0.51182162 0.9504637  0.14415961]\n",
      " [0.94864945 0.31183145 0.42332645]]\n",
      "Array b after addition with a:\n",
      "[[3.51182162 3.9504637  3.14415961]\n",
      " [3.94864945 3.31183145 3.42332645]]\n"
     ]
    },
    {
     "ename": "UFuncTypeError",
     "evalue": "Cannot cast ufunc 'add' output from dtype('float64') to dtype('int32') with casting rule 'same_kind'",
     "output_type": "error",
     "traceback": [
      "\u001b[31m---------------------------------------------------------------------------\u001b[39m",
      "\u001b[31mUFuncTypeError\u001b[39m                            Traceback (most recent call last)",
      "\u001b[36mCell\u001b[39m\u001b[36m \u001b[39m\u001b[32mIn[7]\u001b[39m\u001b[32m, line 9\u001b[39m\n\u001b[32m      7\u001b[39m b += a\n\u001b[32m      8\u001b[39m \u001b[38;5;28mprint\u001b[39m(\u001b[33mf\u001b[39m\u001b[33m\"\u001b[39m\u001b[33mArray b after addition with a:\u001b[39m\u001b[38;5;130;01m\\n\u001b[39;00m\u001b[38;5;132;01m{\u001b[39;00mb\u001b[38;5;132;01m}\u001b[39;00m\u001b[33m\"\u001b[39m)\n\u001b[32m----> \u001b[39m\u001b[32m9\u001b[39m \u001b[43ma\u001b[49m\u001b[43m \u001b[49m\u001b[43m+\u001b[49m\u001b[43m=\u001b[49m\u001b[43m \u001b[49m\u001b[43mb\u001b[49m  \u001b[38;5;66;03m# b is not automatically converted to integer type\u001b[39;00m\n",
      "\u001b[31mUFuncTypeError\u001b[39m: Cannot cast ufunc 'add' output from dtype('float64') to dtype('int32') with casting rule 'same_kind'"
     ]
    }
   ],
   "source": [
    "rg = np.random.default_rng(1)  # create instance of default random number generator\n",
    "a = np.ones((2, 3), dtype=int)\n",
    "b = rg.random((2, 3))\n",
    "a *= 3\n",
    "print(f\"Array a after multiplication:\\n{a}\")\n",
    "print(f\"Array b (random values):\\n{b}\")\n",
    "b += a\n",
    "print(f\"Array b after addition with a:\\n{b}\")\n",
    "a += b  # b is not automatically converted to integer type"
   ]
  },
  {
   "cell_type": "markdown",
   "id": "bf87ee6e",
   "metadata": {},
   "source": [
    "# 重塑数组\n",
    "## numpy.reshape()用于改变数组的形状而不改变其数据\n",
    "reshape函数允许我们改变数组的维度，而不改变其数据。这个函数的基本语法如下：  \n",
    "numpy.reshape(a, newshape, order='C')  \n",
    "其中：  \n",
    "– a是要重塑的数组  \n",
    "– newshape是一个整数或者整数元组，指定新的形状  \n",
    "– order参数决定元素的读取顺序，默认为’C’（按行优先）"
   ]
  },
  {
   "cell_type": "code",
   "execution_count": null,
   "id": "82dca902",
   "metadata": {},
   "outputs": [
    {
     "name": "stdout",
     "output_type": "stream",
     "text": [
      "Original array from numpyarray.com:\n",
      "[1 2 3 4 5 6]\n",
      "Reshaped array from numpyarray.com:\n",
      "[[1 2 3]\n",
      " [4 5 6]]\n"
     ]
    }
   ],
   "source": [
    "# 创建一个一维数组\n",
    "arr = np.array([1, 2, 3, 4, 5, 6])\n",
    "print(\"Original array from numpyarray.com:\")\n",
    "print(arr)\n",
    "\n",
    "# 将一维数组重塑为2x3的二维数组\n",
    "reshaped_arr = arr.reshape(2, 3)\n",
    "print(\"Reshaped array from numpyarray.com:\")\n",
    "print(reshaped_arr)"
   ]
  },
  {
   "cell_type": "markdown",
   "id": "4d802ff1",
   "metadata": {},
   "source": [
    "##  使用-1作为维度参数\n",
    "reshape函数的一个非常有用的特性是可以使用-1作为维度参数。  \n",
    "当使用-1时，NumPy会自动计算这个维度的大小，以确保数组包含原始数据中的所有元素。"
   ]
  },
  {
   "cell_type": "code",
   "execution_count": null,
   "id": "b03fe71c",
   "metadata": {},
   "outputs": [
    {
     "name": "stdout",
     "output_type": "stream",
     "text": [
      "Original array from numpyarray.com:\n",
      "[ 1  2  3  4  5  6  7  8  9 10 11 12]\n",
      "Reshaped array from numpyarray.com:\n",
      "[[ 1  2  3  4]\n",
      " [ 5  6  7  8]\n",
      " [ 9 10 11 12]]\n"
     ]
    }
   ],
   "source": [
    "# 创建一个12元素的一维数组\n",
    "arr = np.array([1, 2, 3, 4, 5, 6, 7, 8, 9, 10, 11, 12])\n",
    "print(\"Original array from numpyarray.com:\")\n",
    "print(arr)\n",
    "\n",
    "# 使用-1自动计算一个维度\n",
    "reshaped_arr = arr.reshape(3, -1)\n",
    "print(\"Reshaped array from numpyarray.com:\")\n",
    "print(reshaped_arr)"
   ]
  },
  {
   "cell_type": "markdown",
   "id": "5ee29504",
   "metadata": {},
   "source": [
    "## 多维数组的reshape\n",
    "reshape函数不仅可以用于一维数组，还可以用于多维数组。我们可以将高维数组重塑为低维数组，或者将低维数组重塑为高维数组。"
   ]
  },
  {
   "cell_type": "code",
   "execution_count": null,
   "id": "21d2d15e",
   "metadata": {},
   "outputs": [
    {
     "name": "stdout",
     "output_type": "stream",
     "text": [
      "Original array from numpyarray.com:\n",
      "[[ 1  2  3  4  5  6]\n",
      " [ 7  8  9 10 11 12]]\n",
      "Reshaped array from numpyarray.com:\n",
      "[[[ 1  2  3]\n",
      "  [ 4  5  6]]\n",
      "\n",
      " [[ 7  8  9]\n",
      "  [10 11 12]]]\n"
     ]
    }
   ],
   "source": [
    "# 创建一个2x6的二维数组\n",
    "arr = np.array([[1, 2, 3, 4, 5, 6],\n",
    "                [7, 8, 9, 10, 11, 12]])\n",
    "print(\"Original array from numpyarray.com:\")\n",
    "print(arr)\n",
    "\n",
    "# 将2x6的数组重塑为2x2x3的三维数组\n",
    "reshaped_arr = arr.reshape(2, 2, 3)\n",
    "print(\"Reshaped array from numpyarray.com:\")\n",
    "print(reshaped_arr)"
   ]
  },
  {
   "cell_type": "markdown",
   "id": "11261408",
   "metadata": {},
   "source": [
    "## 使用元组指定新形状\n",
    "除了直接传递多个整数参数，我们还可以使用元组来指定新的形状。这在处理动态形状或者从变量中读取形状时特别有用。"
   ]
  },
  {
   "cell_type": "code",
   "execution_count": null,
   "id": "a940468b",
   "metadata": {},
   "outputs": [
    {
     "name": "stdout",
     "output_type": "stream",
     "text": [
      "Original array from numpyarray.com:\n",
      "[ 1  2  3  4  5  6  7  8  9 10 11 12 13 14 15 16 17 18 19 20 21 22 23 24]\n",
      "Reshaped array from numpyarray.com:\n",
      "[[[ 1  2  3  4]\n",
      "  [ 5  6  7  8]\n",
      "  [ 9 10 11 12]]\n",
      "\n",
      " [[13 14 15 16]\n",
      "  [17 18 19 20]\n",
      "  [21 22 23 24]]]\n"
     ]
    }
   ],
   "source": [
    "# 创建一个24元素的一维数组\n",
    "arr = np.arange(1, 25)\n",
    "print(\"Original array from numpyarray.com:\")\n",
    "print(arr)\n",
    "\n",
    "# 使用元组指定新形状\n",
    "new_shape = (2, 3, 4)\n",
    "reshaped_arr = arr.reshape(new_shape)\n",
    "print(\"Reshaped array from numpyarray.com:\")\n",
    "print(reshaped_arr)"
   ]
  },
  {
   "cell_type": "markdown",
   "id": "6192ebb2",
   "metadata": {},
   "source": [
    "# 展平多维数组\n",
    "reshape函数还可以用来”展平”多维数组，即将多维数组转换为一维数组。这在数据预处理和特征工程中经常用到。\n",
    "## 注意numpy.reshape(-1)返回一个1 维数组（秩为 1）\n",
    "## 而numpy.reshape((1,-1)))返回一个2维数组（秩为 2）"
   ]
  },
  {
   "cell_type": "code",
   "execution_count": null,
   "id": "a3a94a26",
   "metadata": {},
   "outputs": [
    {
     "name": "stdout",
     "output_type": "stream",
     "text": [
      "Original array from numpyarray.com:\n",
      "[[[ 1  2  3  4]\n",
      "  [ 5  6  7  8]\n",
      "  [ 9 10 11 12]]\n",
      "\n",
      " [[13 14 15 16]\n",
      "  [17 18 19 20]\n",
      "  [21 22 23 24]]]\n",
      "Flattened array from numpyarray.com:\n",
      "[ 1  2  3  4  5  6  7  8  9 10 11 12 13 14 15 16 17 18 19 20 21 22 23 24]\n",
      "Flattened array from numpyarray.com:\n",
      "[[ 1  2  3  4  5  6  7  8  9 10 11 12 13 14 15 16 17 18 19 20 21 22 23 24]]\n"
     ]
    }
   ],
   "source": [
    "# 创建一个2x3x4的三维数组\n",
    "arr = np.array([[[1, 2, 3, 4],\n",
    "                 [5, 6, 7, 8],\n",
    "                 [9, 10, 11, 12]],\n",
    "                [[13, 14, 15, 16],\n",
    "                 [17, 18, 19, 20],\n",
    "                 [21, 22, 23, 24]]])\n",
    "print(\"Original array from numpyarray.com:\")\n",
    "print(arr)\n",
    "\n",
    "# 将三维数组展平为一维数组\n",
    "flattened_arr = arr.reshape(-1)\n",
    "print(\"Flattened array from numpyarray.com:\")\n",
    "print(flattened_arr)\n",
    "# 将三维数组展平为一行的二维数组\n",
    "flattened_arr2 = arr.reshape((1,-1))\n",
    "print(\"Flattened array from numpyarray.com:\")\n",
    "print(flattened_arr2)"
   ]
  },
  {
   "cell_type": "markdown",
   "id": "657fe3a4",
   "metadata": {},
   "source": [
    "## 使用reshape创建列向量和行向量"
   ]
  },
  {
   "cell_type": "code",
   "execution_count": null,
   "id": "77cb1e54",
   "metadata": {},
   "outputs": [
    {
     "name": "stdout",
     "output_type": "stream",
     "text": [
      "Original array from numpyarray.com:\n",
      "[1 2 3 4 5]\n",
      "Column vector from numpyarray.com:\n",
      "[[1]\n",
      " [2]\n",
      " [3]\n",
      " [4]\n",
      " [5]]\n",
      "Row vector from numpyarray.com:\n",
      "[[1 2 3 4 5]]\n"
     ]
    }
   ],
   "source": [
    "# 创建一个一维数组\n",
    "arr = np.array([1, 2, 3, 4, 5])\n",
    "print(\"Original array from numpyarray.com:\")\n",
    "print(arr)\n",
    "\n",
    "# 创建列向量\n",
    "column_vector = arr.reshape(-1, 1)\n",
    "print(\"Column vector from numpyarray.com:\")\n",
    "print(column_vector)\n",
    "\n",
    "# 创建行向量\n",
    "row_vector = arr.reshape(1, -1)\n",
    "print(\"Row vector from numpyarray.com:\")\n",
    "print(row_vector)"
   ]
  },
  {
   "cell_type": "markdown",
   "id": "2be474d9",
   "metadata": {},
   "source": [
    "# 数组扁平化\n",
    "## numpy.flatten(order='C')  \n",
    "将数组的副本（不更改原始数据）转换为一维，简单理解就是把数组拉平拉直  \n",
    "options order={'C', 'F', 'A', 'K'}  \n",
    "\n",
    "'C': C-style, 行为主要顺序，先从左到右，再从上到下,默认是**'C'**  \n",
    "'F': Fortran-style, 列为主要顺序，先从上到下，再从左到右  \n",
    "'A'：如果a是Fortran在内存中连续的，那么'A' 意味着以列主要顺序变平，否则按行排序  \n",
    "'F'：按照元素在内存中出现的顺序来拉平a"
   ]
  },
  {
   "cell_type": "code",
   "execution_count": null,
   "id": "85579860",
   "metadata": {},
   "outputs": [
    {
     "name": "stdout",
     "output_type": "stream",
     "text": [
      "Original array (arr1):\n",
      "[[9 5 2]\n",
      " [6 2 5]\n",
      " [2 2 9]\n",
      " [5 2 5]]\n",
      "Flattened array (row-major, arr2):\n",
      "[9 5 2 6 2 5 2 2 9 5 2 5]\n",
      "Flattened array (column-major, arr3):\n",
      "[9 6 2 5 5 2 2 2 2 5 9 5]\n"
     ]
    }
   ],
   "source": [
    "# 随机生成一个2维数组，4行3列\n",
    "arr1 = np.random.randint(1, 10, size=[4, 3])\n",
    "# 将数组arr1以行为主要顺序进行拉平降维\n",
    "arr2 = arr1.flatten()\n",
    "# 将数组arr1以列为主要顺序进行拉平降维\n",
    "arr3 = arr1.flatten(order='F')\n",
    "print(f\"Original array (arr1):\\n{arr1}\")\n",
    "print(f\"Flattened array (row-major, arr2):\\n{arr2}\")    \n",
    "print(f\"Flattened array (column-major, arr3):\\n{arr3}\") "
   ]
  },
  {
   "cell_type": "markdown",
   "id": "80994e64",
   "metadata": {},
   "source": [
    "# NumPy 数组中的乘法运算符 * 是逐元素操作的。***矩阵乘法***可以使用 @ 运算符或 arrat=y.dot(array) 函数或方法执行\n"
   ]
  },
  {
   "cell_type": "code",
   "execution_count": null,
   "id": "9e668214",
   "metadata": {},
   "outputs": [
    {
     "name": "stdout",
     "output_type": "stream",
     "text": [
      "Elementwise product of A and B:\n",
      "[[2 0]\n",
      " [0 4]]\n",
      "Matrix product of A and B:\n",
      "[[5 4]\n",
      " [3 4]]\n",
      "Matrix product of A and B using dot:\n",
      "[[5 4]\n",
      " [3 4]]\n"
     ]
    }
   ],
   "source": [
    "# 向量化操作也可以在不同NumPy 数组之间执行\n",
    "A = np.array([[1, 1],\n",
    "              [0, 1]])\n",
    "B = np.array([[2, 0],\n",
    "              [3, 4]])\n",
    "A * B     # elementwise product\n",
    "print(f\"Elementwise product of A and B:\\n{A * B}\")\n",
    "A @ B     # matrix product\n",
    "print(f\"Matrix product of A and B:\\n{A @ B}\")\n",
    "A.dot(B)  # another matrix product\n",
    "print(f\"Matrix product of A and B using dot:\\n{A.dot(B)}\")"
   ]
  },
  {
   "cell_type": "markdown",
   "id": "369109de",
   "metadata": {},
   "source": [
    "# 数组上的数学函数\n",
    "NumPy 提供了一个全面的数学函数库，对数组进行逐元素操作"
   ]
  },
  {
   "cell_type": "markdown",
   "id": "725eb6a9",
   "metadata": {},
   "source": [
    "## 角度和弧度转换\n",
    "转为角度：np.degrees()或者np.rad2deg()  \n",
    "角度 = 弧度 × (180 / π)  \n",
    "转为弧度:np.radians()或者np.deg2rad()  \n",
    "公式：弧度 = 角度 × (π / 180)"
   ]
  },
  {
   "cell_type": "code",
   "execution_count": null,
   "id": "d1d8c186",
   "metadata": {},
   "outputs": [
    {
     "name": "stdout",
     "output_type": "stream",
     "text": [
      "1.57079632679490\n",
      "[0.         0.52359878 0.78539816 1.04719755 1.57079633]\n",
      "180.0\n",
      "[ 0. 30. 45. 60. 90.]\n"
     ]
    }
   ],
   "source": [
    "import numpy as np\n",
    "import sympy as sp  # 导入符号计算库\n",
    "##deg2rad\n",
    "# 单个角度值转换（90度对应π/2弧度）\n",
    "deg = 90\n",
    "rad = np.radians(deg)  # 或 np.deg2rad(deg)\n",
    "print(rad)  # 输出：1.5707963267948966（约等于π/2）\n",
    "\n",
    "# 数组转换\n",
    "degrees = np.array([0, 30, 45, 60, 90])\n",
    "radians = np.radians(degrees)\n",
    "print(radians)  \n",
    "\n",
    "##rad2deg\n",
    "# 单个弧度值转换（π弧度对应180度）\n",
    "rad = np.pi\n",
    "deg = np.degrees(rad)  # 或 np.rad2deg(rad)\n",
    "print(deg)  # 输出：180.0\n",
    "\n",
    "# 数组转换\n",
    "radians = np.array([0, np.pi/6, np.pi/4, np.pi/3, np.pi/2])\n",
    "degrees = np.degrees(radians)\n",
    "print(degrees)  "
   ]
  },
  {
   "cell_type": "code",
   "execution_count": null,
   "id": "f736538a",
   "metadata": {},
   "outputs": [
    {
     "name": "stdout",
     "output_type": "stream",
     "text": [
      "Angle in radians: pi\n",
      "Angle array in radians: [0 pi/6 pi/4 pi/3 pi/2]\n"
     ]
    }
   ],
   "source": [
    "#注：如果想输出pi/圆周率，可以使用sympy的sp.rad方法\n",
    "# 示例：将角度转换为弧度\n",
    "angle = 180\n",
    "radian = sp.rad(angle)\n",
    "print(f\"Angle in radians: {radian}\")  # 输出：π弧度\n",
    "\n",
    "# 示例：将角度数组转换为弧度数组\n",
    "angle_array = np.array([0, 30, 45, 60, 90])\n",
    "radian_array = sp.rad(angle_array)\n",
    "print(f\"Angle array in radians: {radian_array}\")  # 输出符号数组"
   ]
  },
  {
   "cell_type": "markdown",
   "id": "4744ea01",
   "metadata": {},
   "source": [
    "## 三角函数\n",
    "sin(x, /[, out, where, casting, order, ...])\n",
    "\n",
    "三角正弦，逐元素计算。\n",
    "\n",
    "cos(x, /[, out, where, casting, order, ...])\n",
    "\n",
    "逐元素余弦。\n",
    "\n",
    "tan(x, /[, out, where, casting, order, ...])\n",
    "\n",
    "逐元素计算正切。\n",
    "\n",
    "arcsin(x, /[, out, where, casting, order, ...])\n",
    "\n",
    "反正弦，逐元素计算。\n",
    "\n",
    "asin(x, /[, out, where, casting, order, ...])\n",
    "\n",
    "反正弦，逐元素计算。\n",
    "\n",
    "arccos(x, /[, out, where, casting, order, ...])\n",
    "\n",
    "三角反余弦，逐元素计算。\n",
    "\n",
    "acos(x, /[, out, where, casting, order, ...])\n",
    "\n",
    "三角反余弦，逐元素计算。\n",
    "\n",
    "arctan(x, /[, out, where, casting, order, ...])\n",
    "\n",
    "三角反正切，逐元素计算。\n",
    "\n",
    "atan(x, /[, out, where, casting, order, ...])\n",
    "\n",
    "三角反正切，逐元素计算。\n",
    "\n",
    "hypot(x1, x2, /[, out, where, casting, ...])\n",
    "\n",
    "给定直角三角形的“直角边”，返回其斜边。\n",
    "\n",
    "arctan2(x1, x2, /[, out, where, casting, ...])\n",
    "\n",
    "逐元素计算 x1/x2 的反正切，并正确选择象限。\n",
    "\n",
    "atan2(x1, x2, /[, out, where, casting, ...])\n",
    "\n",
    "逐元素计算 x1/x2 的反正切，并正确选择象限。\n",
    "\n",
    "degrees(x, /[, out, where, casting, order, ...])\n",
    "\n",
    "将角度从弧度转换为度数。\n",
    "\n",
    "radians(x, /[, out, where, casting, order, ...])\n",
    "\n",
    "将角度从度数转换为弧度。\n",
    "\n",
    "unwrap(p[, discont, axis, period])\n",
    "\n",
    "通过计算与周期相关的大增量的补码来解卷绕。\n",
    "\n",
    "deg2rad(x, /[, out, where, casting, order, ...])\n",
    "\n",
    "将角度从度数转换为弧度。\n",
    "\n",
    "rad2deg(x, /[, out, where, casting, order, ...])\n",
    "\n",
    "将角度从弧度转换为度数。"
   ]
  },
  {
   "cell_type": "code",
   "execution_count": 14,
   "id": "ee76f2e5",
   "metadata": {},
   "outputs": [
    {
     "name": "stdout",
     "output_type": "stream",
     "text": [
      "Angles (degrees): [ 0 30 45 60 90]\n",
      "Sine values: [0.    0.5   0.707 0.866 1.   ]\n",
      "Cosine values: [1.    0.866 0.707 0.5   0.   ]\n"
     ]
    }
   ],
   "source": [
    "#三角函数 - 坐标转换的基础\n",
    "131\n",
    "angles_degrees = np.array([0, 30, 45, 60, 90])\n",
    "angles_radians = np.radians(angles_degrees) # 首先转换为弧度\n",
    "sine_values = np.sin(angles_radians)\n",
    "cosine_values = np.cos(angles_radians)\n",
    "print(f\"Angles (degrees): {angles_degrees}\")\n",
    "print(f\"Sine values: {sine_values.round(3)}\")\n",
    "print(f\"Cosine values: {cosine_values.round(3)}\")"
   ]
  },
  {
   "cell_type": "markdown",
   "id": "69a13800",
   "metadata": {},
   "source": [
    "# 对数和指数函数\n",
    "exp(x, /[, out, where, casting, order, ...])\n",
    "\n",
    "计算输入数组中所有元素的指数。\n",
    "\n",
    "expm1(x, /[, out, where, casting, order, ...])\n",
    "\n",
    "计算数组中所有元素的 exp(x) - 1。\n",
    "\n",
    "exp2(x, /[, out, where, casting, order, ...])\n",
    "\n",
    "计算输入数组中所有 p 的 2**p。\n",
    "\n",
    "log(x, /[, out, where, casting, order, ...])\n",
    "\n",
    "自然对数，逐元素计算。\n",
    "\n",
    "log10(x, /[, out, where, casting, order, ...])\n",
    "\n",
    "逐元素返回输入数组的以 10 为底的对数。\n",
    "\n",
    "log2(x, /[, out, where, casting, order, ...])\n",
    "\n",
    "以 2 为底的 x 的对数。\n",
    "\n",
    "log1p(x, /[, out, where, casting, order, ...])\n",
    "\n",
    "逐元素返回输入数组加一的自然对数。\n",
    "\n",
    "logaddexp(x1, x2, /[, out, where, casting, ...])\n",
    "\n",
    "输入指数和的对数。\n",
    "\n",
    "logaddexp2(x1, x2, /[, out, where, casting, ...])\n",
    "\n",
    "以 2 为底的输入指数和的对数。\n",
    "\n"
   ]
  },
  {
   "cell_type": "code",
   "execution_count": 15,
   "id": "d67783d7",
   "metadata": {},
   "outputs": [
    {
     "name": "stdout",
     "output_type": "stream",
     "text": [
      "Population data: [  100000   500000  1000000  5000000 10000000]\n",
      "Log10 of population: [5.  5.7 6.  6.7 7. ]\n",
      "Growth rates: [0.01 0.02 0.03 0.05]\n",
      "Exponential factors: [1.01  1.02  1.03  1.051]\n"
     ]
    }
   ],
   "source": [
    "# 对数和指数函数\n",
    "population_data = np.array([100000, 500000, 1000000, 5000000, 10000000])\n",
    "# 对数变换通常用于标准化高度偏斜的数据，如人口\n",
    "log_population = np.log10(population_data) # 以10为底的对数\n",
    "print(f\"Population data: {population_data}\")\n",
    "print(f\"Log10 of population: {log_population.round(2)}\")\n",
    "# 指数函数\n",
    "growth_rates = np.array([0.01, 0.02, 0.03, 0.05]) # 1%, 2%, 3%, 5%增长率\n",
    "exponential_growth = np.exp(growth_rates) # e^x\n",
    "print(f\"Growth rates: {growth_rates}\")\n",
    "print(f\"Exponential factors: {exponential_growth.round(3)}\")"
   ]
  },
  {
   "cell_type": "markdown",
   "id": "bb5d81bc",
   "metadata": {},
   "source": [
    "# 统计操作\n",
    "统计分析是理解地理空间数据的基础。NumPy 提供高效的函数来计算描述性统计，帮助您理解数据的特征：集中趋势（均值、中位数）、变异性（标准差、方差）和分布（最小值、最大值、百分位数）。\n",
    "maximum(x1, x2, /[, out, where, casting, ...])保留 NaN\n",
    "\n",
    "逐元素计算两个数组元素的最大值。\n",
    "\n",
    "fmax(x1, x2, /[, out, where, casting, ...])忽略 NaN\n",
    "\n",
    "逐元素计算两个数组元素的最大值。\n",
    "\n",
    "max(a[, axis, out, keepdims, initial, where])默认不会忽略 NaN\n",
    "\n",
    "返回数组的最大值或沿轴的最大值。\n",
    "\n",
    "nanmax(a[, axis, out, keepdims, initial, where])忽略 NaN\n",
    "\n",
    "返回数组的最大值或沿轴的最大值，忽略任何非数字 (NaNs)。\n",
    "\n",
    "minimum(x1, x2, /[, out, where, casting, ...])保留nan\n",
    "\n",
    "逐元素计算两个数组元素的最小值。\n",
    "\n",
    "fmin(x1, x2, /[, out, where, casting, ...])忽略nan\n",
    "\n",
    "逐元素计算数组元素的最小值。\n",
    "\n",
    "min(a[, axis, out, keepdims, initial, where])保留nan\n",
    "\n",
    "返回数组的最小值或沿轴的最小值。\n",
    "\n",
    "nanmin(a[, axis, out, keepdims, initial, where])忽略nan\n",
    "\n",
    "返回数组的最小值或沿轴的最小值，忽略任何非数字 (NaNs)。"
   ]
  },
  {
   "cell_type": "markdown",
   "id": "ecf48795",
   "metadata": {},
   "source": [
    "## 集中趋势\n",
    "|函数|功能|忽略 NaN 的版本|\n",
    "|:----:|:----:|:----:|\n",
    "np.mean(a)\t|计算算术平均值（默认不忽略 NaN）|\tnp.nanmean(a)\n",
    "np.median(a)\t|计算中位数（默认不忽略 NaN）\t|np.nanmedian(a)\n",
    "np.average(a)\t|计算加权平均值（可指定权重）\t|无（需手动处理）"
   ]
  },
  {
   "cell_type": "markdown",
   "id": "abdc0f10",
   "metadata": {},
   "source": [
    "## 离散程度（数据分散性）\n",
    "函数\t|功能|\t忽略 NaN 的版本\n",
    "|:----:|:----:|:----:|\n",
    "np.var(a)\t|计算方差（默认总体方差，ddof=0）|\tnp.nanvar(a)\n",
    "np.std(a)\t|计算标准差（方差的平方根）\t|np.nanstd(a)\n",
    "np.ptp(a)\t|计算极差（最大值 - 最小值）|\t无（需结合 nanmax/nanmin）"
   ]
  },
  {
   "cell_type": "code",
   "execution_count": 19,
   "id": "aa7bba6d",
   "metadata": {},
   "outputs": [
    {
     "name": "stdout",
     "output_type": "stream",
     "text": [
      "Elevation Profile Statistics:\n",
      "Mean elevation: 1387.0 meters\n",
      "Median elevation: 1393.5 meters\n",
      "Standard deviation: 79.3 meters\n",
      "Elevation range: 1245.0 - 1502.0 meters\n"
     ]
    }
   ],
   "source": [
    "elevation_profile = np.array(\n",
    "[1245, 1367, 1423, 1389, 1456, 1502, 1478, 1398, 1334, 1278,np.nan]\n",
    ")\n",
    "# 基本描述性统计\n",
    "mean_elevation = np.nanmean(elevation_profile)\n",
    "median_elevation = np.nanmedian(elevation_profile)\n",
    "std_elevation = np.nanstd(elevation_profile)\n",
    "min_elevation = np.nanmin(elevation_profile)\n",
    "max_elevation = np.nanmax(elevation_profile)\n",
    "print(f\"Elevation Profile Statistics:\")\n",
    "print(f\"Mean elevation: {mean_elevation:.1f} meters\")\n",
    "print(f\"Median elevation: {median_elevation:.1f} meters\")\n",
    "print(f\"Standard deviation: {std_elevation:.1f} meters\")\n",
    "print(f\"Elevation range: {min_elevation} - {max_elevation} meters\")"
   ]
  }
 ],
 "metadata": {
  "kernelspec": {
   "display_name": "geo",
   "language": "python",
   "name": "python3"
  },
  "language_info": {
   "codemirror_mode": {
    "name": "ipython",
    "version": 3
   },
   "file_extension": ".py",
   "mimetype": "text/x-python",
   "name": "python",
   "nbconvert_exporter": "python",
   "pygments_lexer": "ipython3",
   "version": "3.12.3"
  }
 },
 "nbformat": 4,
 "nbformat_minor": 5
}
